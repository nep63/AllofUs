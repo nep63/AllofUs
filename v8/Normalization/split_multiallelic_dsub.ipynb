{
 "cells": [
  {
   "cell_type": "markdown",
   "metadata": {},
   "source": [
    "# setup"
   ]
  },
  {
   "cell_type": "markdown",
   "metadata": {},
   "source": [
    "## import python modules"
   ]
  },
  {
   "cell_type": "code",
   "execution_count": null,
   "metadata": {},
   "outputs": [],
   "source": [
    "import pandas as pd\n",
    "import os"
   ]
  },
  {
   "cell_type": "markdown",
   "metadata": {},
   "source": [
    "## define workspace bucket"
   ]
  },
  {
   "cell_type": "code",
   "execution_count": null,
   "metadata": {},
   "outputs": [],
   "source": [
    "bucket = os.getenv('WORKSPACE_BUCKET')\n",
    "bucket"
   ]
  },
  {
   "cell_type": "code",
   "execution_count": null,
   "metadata": {},
   "outputs": [],
   "source": [
    "os.getenv('GOOGLE_PROJECT')"
   ]
  },
  {
   "cell_type": "markdown",
   "metadata": {},
   "source": [
    "## set up dsub"
   ]
  },
  {
   "cell_type": "code",
   "execution_count": null,
   "metadata": {},
   "outputs": [],
   "source": [
    "%%writefile ~/aou_dsub.bash\n",
    "\n",
    "#!/bin/bash\n",
    "\n",
    "# This shell function passes reasonable defaults for several dsub parameters, while\n",
    "# allowing the caller to override any of them. It creates a nice folder structure within\n",
    "# the workspace bucket for dsub log files.\n",
    "\n",
    "# --[ Parameters ]--\n",
    "# any valid dsub parameter flag\n",
    "\n",
    "#--[ Returns ]--\n",
    "# the job id of the job created by dsub\n",
    "\n",
    "#--[ Details ]--\n",
    "# The first five parameters below should always be those values when running on AoU RWB.\n",
    "\n",
    "# Feel free to change the values for --user, --regions, --logging, and --image if you like.\n",
    "\n",
    "# Note that we insert some job data into the logging path.\n",
    "# https://github.com/DataBiosphere/dsub/blob/main/docs/logging.md#inserting-job-data\n",
    "\n",
    "function aou_dsub () {\n",
    "\n",
    "  # Get a shorter username to leave more characters for the job name.\n",
    "  local DSUB_USER_NAME=\"$(echo \"${OWNER_EMAIL}\" | cut -d@ -f1)\"\n",
    "\n",
    "  # For AoU RWB projects network name is \"network\".\n",
    "  local AOU_NETWORK=network\n",
    "  local AOU_SUBNETWORK=subnetwork\n",
    "\n",
    "  dsub \\\n",
    "      --provider google-cls-v2 \\\n",
    "      --user-project \"${GOOGLE_PROJECT}\"\\\n",
    "      --project \"${GOOGLE_PROJECT}\"\\\n",
    "      --image 'marketplace.gcr.io/google/ubuntu1804:latest' \\\n",
    "      --network \"${AOU_NETWORK}\" \\\n",
    "      --subnetwork \"${AOU_SUBNETWORK}\" \\\n",
    "      --service-account \"$(gcloud config get-value account)\" \\\n",
    "      --user \"${DSUB_USER_NAME}\" \\\n",
    "      --regions us-central1 \\\n",
    "      --logging \"${WORKSPACE_BUCKET}/dsub/logs/{job-name}/{user-id}/$(date +'%Y%m%d/%H%M%S')/{job-id}-{task-id}-{task-attempt}.log\" \\\n",
    "      \"$@\"\n",
    "}"
   ]
  },
  {
   "cell_type": "markdown",
   "metadata": {},
   "source": [
    "# identify chromosome, start, and stop positions of chunked exome files and create file maps"
   ]
  },
  {
   "cell_type": "markdown",
   "metadata": {},
   "source": [
    "## copy script to workspace bucket"
   ]
  },
  {
   "cell_type": "code",
   "execution_count": null,
   "metadata": {},
   "outputs": [],
   "source": [
    "!gsutil cp exome_vcf_file_map.py ${WORKSPACE_BUCKET}/exome_map/input/"
   ]
  },
  {
   "cell_type": "markdown",
   "metadata": {},
   "source": [
    "## command"
   ]
  },
  {
   "cell_type": "code",
   "execution_count": null,
   "metadata": {},
   "outputs": [],
   "source": [
    "import os\n",
    "import pandas as pd\n",
    "bucket = os.getenv('WORKSPACE_BUCKET')\n",
    "USER_NAME = os.getenv('OWNER_EMAIL').split('@')[0].replace('.','-')\n",
    "%env USER_NAME={USER_NAME}\n",
    "JOB_NAME=f'exome-map-{USER_NAME}'\n",
    "%env JOB_NAME={JOB_NAME}\n",
    "\n",
    "params_df = pd.DataFrame(data={\n",
    "    '--input VCF_FILE': [f\"gs://fc-aou-datasets-controlled/v8/wgs/short_read/snpindel/exome/vcf/{x:010}.vcf.bgz\" for x in range(0, 20017)],\n",
    "    '--input SCRIPT': [f\"{bucket}/exome_map/input/exome_vcf_file_map.py\" for _ in range(20017)],\n",
    "    '--env FILE_NUM': [f\"{i:010}\" for i in range(0, 20017)],\n",
    "    '--output-recursive OUTPUT_DIR': [f\"{bucket}/exome_map/output/\" for _ in range(20017)]\n",
    "})\n",
    "\n",
    "PARAMETER_FILENAME = f'{JOB_NAME}_params.tsv'\n",
    "%env PARAMETER_FILENAME={PARAMETER_FILENAME}\n",
    "\n",
    "params_df.to_csv(PARAMETER_FILENAME, sep='\\t', index=False)\n",
    "\n",
    "job_id = !source ~/aou_dsub.bash; aou_dsub \\\n",
    "  --name \"${JOB_NAME}\" \\\n",
    "  --provider google-cls-v2 \\\n",
    "  --image \"gcr.io/ritchie-aou-psom-9015/general_python:latest\" \\\n",
    "  --logging \"${WORKSPACE_BUCKET}/dsub_logs/exome_map/\" \\\n",
    "  --disk-size 7 \\\n",
    "  --tasks \"${PARAMETER_FILENAME}\" \\\n",
    "  --command 'python ${SCRIPT} \\\n",
    "              --input ${VCF_FILE} \\\n",
    "              --file_number ${FILE_NUM} \\\n",
    "              --output_dir ${OUTPUT_DIR}'\n",
    "\n",
    "print(\"\\n\".join(job_id))\n",
    "job_id = job_id[1].split(\" \")[-1]\n",
    "%env JOB_ID={job_id}"
   ]
  },
  {
   "cell_type": "markdown",
   "metadata": {},
   "source": [
    "## check job status"
   ]
  },
  {
   "cell_type": "code",
   "execution_count": null,
   "metadata": {},
   "outputs": [],
   "source": [
    "!dstat \\\n",
    "    --provider google-cls-v2 \\\n",
    "    --project \"${GOOGLE_PROJECT}\" \\\n",
    "    --location us-central1 \\\n",
    "    --jobs 'exome-map---kathleen-cardone--250226-195148-20' \\\n",
    "    --users \"kathleen-cardone\" \\\n",
    "    --status '*'"
   ]
  },
  {
   "cell_type": "markdown",
   "metadata": {},
   "source": [
    "## check output files"
   ]
  },
  {
   "cell_type": "code",
   "execution_count": null,
   "metadata": {},
   "outputs": [],
   "source": [
    "!gsutil ls ${WORKSPACE_BUCKET}/exome_map/output/* | head"
   ]
  },
  {
   "cell_type": "markdown",
   "metadata": {},
   "source": [
    "# split multiallelic variants with bcftools"
   ]
  },
  {
   "cell_type": "markdown",
   "metadata": {},
   "source": [
    "## check out size of VCF files"
   ]
  },
  {
   "cell_type": "code",
   "execution_count": null,
   "metadata": {},
   "outputs": [],
   "source": [
    "!gsutil -u $GOOGLE_PROJECT ls -lh gs://fc-aou-datasets-controlled/v8/wgs/short_read/snpindel/exome/vcf/"
   ]
  },
  {
   "cell_type": "markdown",
   "metadata": {},
   "source": [
    "## command"
   ]
  },
  {
   "cell_type": "code",
   "execution_count": null,
   "metadata": {},
   "outputs": [],
   "source": [
    "import os\n",
    "import pandas as pd\n",
    "bucket = os.getenv('WORKSPACE_BUCKET')\n",
    "USER_NAME = os.getenv('OWNER_EMAIL').split('@')[0].replace('.','-')\n",
    "%env USER_NAME={USER_NAME}\n",
    "JOB_NAME=f'bcftools-norm-{USER_NAME}'\n",
    "%env JOB_NAME={JOB_NAME}\n",
    "\n",
    "params_df = pd.DataFrame(data={\n",
    "    '--input INPUT_FILE': [f\"gs://fc-aou-datasets-controlled/v8/wgs/short_read/snpindel/exome/vcf/{x:010}.vcf.bgz\" for x in range(0, 18465)],\n",
    "    '--input INDEX': [f\"gs://fc-aou-datasets-controlled/v8/wgs/short_read/snpindel/exome/vcf/{x:010}.vcf.bgz.tbi\" for x in range(0, 18465)],\n",
    "    '--env FILE_NUM': [f\"{i:010}\" for i in range(0, 18465)],\n",
    "    '--output-recursive OUTPUT_DIR': [f\"{bucket}/split_multiallelic/\" for _ in range(18465)]\n",
    "})\n",
    "\n",
    "PARAMETER_FILENAME = f'{JOB_NAME}_params.tsv'\n",
    "%env PARAMETER_FILENAME={PARAMETER_FILENAME}\n",
    "\n",
    "params_df.to_csv(PARAMETER_FILENAME, sep='\\t', index=False)\n",
    "\n",
    "job_id = !source ~/aou_dsub.bash; aou_dsub \\\n",
    "  --name \"${JOB_NAME}\" \\\n",
    "  --provider google-cls-v2 \\\n",
    "  --image \"gcr.io/ritchie-aou-psom-9015/bcftools:latest\" \\\n",
    "  --logging \"${WORKSPACE_BUCKET}/dsub_logs/bcftools/norm/\" \\\n",
    "  --disk-size 10 \\\n",
    "  --min-ram 26 \\\n",
    "  --tasks \"${PARAMETER_FILENAME}\" \\\n",
    "  --command 'bcftools norm -m- \\\n",
    "              $INPUT_FILE \\\n",
    "              -Oz -o ${OUTPUT_DIR}/exome_v8.${FILE_NUM}.split_multiallelic.vcf.gz'\n",
    "\n",
    "print(\"\\n\".join(job_id))\n",
    "job_id = job_id[1].split(\" \")[-1]\n",
    "%env JOB_ID={job_id}"
   ]
  },
  {
   "cell_type": "markdown",
   "metadata": {},
   "source": [
    "## check job status"
   ]
  },
  {
   "cell_type": "code",
   "execution_count": null,
   "metadata": {},
   "outputs": [],
   "source": [
    "!dstat \\\n",
    "    --provider google-cls-v2 \\\n",
    "    --project \"${GOOGLE_PROJECT}\" \\\n",
    "    --location us-central1 \\\n",
    "    --jobs 'bcftools-n--kathleen-cardone--250227-151649-32' \\\n",
    "    --users \"*\" \\\n",
    "    --status 'RUNNING'"
   ]
  },
  {
   "cell_type": "code",
   "execution_count": null,
   "metadata": {},
   "outputs": [],
   "source": [
    "!dstat \\\n",
    "    --provider google-cls-v2 \\\n",
    "    --project \"${GOOGLE_PROJECT}\" \\\n",
    "    --location us-central1 \\\n",
    "    --jobs 'bcftools-n--kathleen-cardone--250227-151649-32' \\\n",
    "    --users \"*\" \\\n",
    "    --status 'SUCCESS' | wc -l"
   ]
  },
  {
   "cell_type": "code",
   "execution_count": null,
   "metadata": {},
   "outputs": [],
   "source": [
    "!dstat \\\n",
    "    --provider google-cls-v2 \\\n",
    "    --project \"${GOOGLE_PROJECT}\" \\\n",
    "    --location us-central1 \\\n",
    "    --jobs 'bcftools-n--kathleen-cardone--250227-151649-32' \\\n",
    "    --users \"*\" \\\n",
    "    --status 'FAILURE' | wc -l"
   ]
  },
  {
   "cell_type": "markdown",
   "metadata": {},
   "source": [
    "## identify jobs that did not complete"
   ]
  },
  {
   "cell_type": "code",
   "execution_count": null,
   "metadata": {},
   "outputs": [],
   "source": [
    "%%bash\n",
    "dstat \\\n",
    "    --provider google-cls-v2 \\\n",
    "    --project \"${GOOGLE_PROJECT}\" \\\n",
    "    --location us-central1 \\\n",
    "    --jobs 'bcftools-n--kathleen-cardone--250227-151649-32' \\\n",
    "    --users \"*\" \\\n",
    "    --status 'FAILURE' | awk '{print $2}' | grep -v 'Name' | grep -v '-' | grep -v '^$' | awk '{print $1 - 1}' > norm_failed.txt\n",
    "tail norm_failed.txt"
   ]
  },
  {
   "cell_type": "code",
   "execution_count": null,
   "metadata": {},
   "outputs": [],
   "source": [
    "import pandas as pd\n",
    "failed_df = pd.read_csv('norm_failed.txt',header=None)\n",
    "failed_list=failed_df[0].tolist()\n",
    "print(len(failed_list))\n",
    "failed_list"
   ]
  },
  {
   "cell_type": "markdown",
   "metadata": {},
   "source": [
    "## resubmit jobs that ran out of memory"
   ]
  },
  {
   "cell_type": "code",
   "execution_count": null,
   "metadata": {},
   "outputs": [],
   "source": [
    "import os\n",
    "import pandas as pd\n",
    "bucket = os.getenv('WORKSPACE_BUCKET')\n",
    "USER_NAME = os.getenv('OWNER_EMAIL').split('@')[0].replace('.','-')\n",
    "%env USER_NAME={USER_NAME}\n",
    "JOB_NAME=f'bcftools-norm-{USER_NAME}'\n",
    "%env JOB_NAME={JOB_NAME}\n",
    "\n",
    "params_df = pd.DataFrame(data={\n",
    "    '--input INPUT_FILE': [f\"gs://fc-aou-datasets-controlled/v8/wgs/short_read/snpindel/exome/vcf/{x:010}.vcf.bgz\" for x in failed_list],\n",
    "    '--input INDEX': [f\"gs://fc-aou-datasets-controlled/v8/wgs/short_read/snpindel/exome/vcf/{x:010}.vcf.bgz.tbi\" for x in failed_list],\n",
    "    '--env FILE_NUM': [f\"{i:010}\" for i in failed_list],\n",
    "    '--output-recursive OUTPUT_DIR': [f\"{bucket}/split_multiallelic/\" for _ in range(115)]\n",
    "})\n",
    "\n",
    "PARAMETER_FILENAME = f'{JOB_NAME}_params.tsv'\n",
    "%env PARAMETER_FILENAME={PARAMETER_FILENAME}\n",
    "\n",
    "params_df.to_csv(PARAMETER_FILENAME, sep='\\t', index=False)\n",
    "\n",
    "job_id = !source ~/aou_dsub.bash; aou_dsub \\\n",
    "  --name \"${JOB_NAME}\" \\\n",
    "  --provider google-cls-v2 \\\n",
    "  --image \"gcr.io/ritchie-aou-psom-9015/bcftools:latest\" \\\n",
    "  --logging \"${WORKSPACE_BUCKET}/dsub_logs/bcftools/norm/\" \\\n",
    "  --disk-size 10 \\\n",
    "  --min-ram 128 \\\n",
    "  --tasks \"${PARAMETER_FILENAME}\" \\\n",
    "  --command 'bcftools norm -m- \\\n",
    "              $INPUT_FILE \\\n",
    "              -Oz -o ${OUTPUT_DIR}/exome_v8.${FILE_NUM}.exwas_genes_only.split_multiallelic.vcf.gz'\n",
    "\n",
    "print(\"\\n\".join(job_id))\n",
    "job_id = job_id[1].split(\" \")[-1]\n",
    "%env JOB_ID={job_id}"
   ]
  },
  {
   "cell_type": "markdown",
   "metadata": {},
   "source": [
    "## check status of redone jobs"
   ]
  },
  {
   "cell_type": "code",
   "execution_count": null,
   "metadata": {},
   "outputs": [],
   "source": [
    "!dstat \\\n",
    "    --provider google-cls-v2 \\\n",
    "    --project \"${GOOGLE_PROJECT}\" \\\n",
    "    --location us-central1 \\\n",
    "    --jobs 'bcftools-n--kathleen-cardone--250227-214322-30' \\\n",
    "    --users \"kathleen-cardone\" \\\n",
    "    --status '*'"
   ]
  },
  {
   "cell_type": "markdown",
   "metadata": {},
   "source": [
    "## check output files after all jobs finished"
   ]
  },
  {
   "cell_type": "code",
   "execution_count": null,
   "metadata": {},
   "outputs": [],
   "source": [
    "!gsutil ls -lh ${WORKSPACE_BUCKET}/split_multiallelic/ | tail"
   ]
  },
  {
   "cell_type": "code",
   "execution_count": null,
   "metadata": {},
   "outputs": [],
   "source": [
    "!gsutil ls ${WORKSPACE_BUCKET}/split_multiallelic/ | wc -l"
   ]
  },
  {
   "cell_type": "markdown",
   "metadata": {},
   "source": [
    "# change filename of output file (remove \"exwas_genes_only\" from filename- not a relevant name here)"
   ]
  },
  {
   "cell_type": "markdown",
   "metadata": {},
   "source": [
    "## run command"
   ]
  },
  {
   "cell_type": "code",
   "execution_count": null,
   "metadata": {},
   "outputs": [],
   "source": [
    "import os\n",
    "import pandas as pd\n",
    "bucket = os.getenv('WORKSPACE_BUCKET')\n",
    "USER_NAME = os.getenv('OWNER_EMAIL').split('@')[0].replace('.','-')\n",
    "%env USER_NAME={USER_NAME}\n",
    "JOB_NAME=f'norm_change_filename-{USER_NAME}'\n",
    "%env JOB_NAME={JOB_NAME}\n",
    "\n",
    "params_df = pd.DataFrame(data={\n",
    "    '--env FILE_NUM': [f\"{i:010}\" for i in range(1897, 18465)],\n",
    "    '--output-recursive OUTPUT_DIR': [f\"{bucket}/split_multiallelic/\" for _ in range(16568)]\n",
    "})\n",
    "\n",
    "PARAMETER_FILENAME = f'{JOB_NAME}_params.tsv'\n",
    "%env PARAMETER_FILENAME={PARAMETER_FILENAME}\n",
    "\n",
    "params_df.to_csv(PARAMETER_FILENAME, sep='\\t', index=False)\n",
    "\n",
    "job_id = !source ~/aou_dsub.bash; aou_dsub \\\n",
    "  --name \"${JOB_NAME}\" \\\n",
    "  --provider google-cls-v2 \\\n",
    "  --image \"gcr.io/ritchie-aou-psom-9015/bcftools:latest\" \\\n",
    "  --logging \"${WORKSPACE_BUCKET}/dsub_logs/bcftools/norm/\" \\\n",
    "  --disk-size 10 \\\n",
    "  --mount BUCKET=\"${WORKSPACE_BUCKET}\" \\\n",
    "  --tasks \"${PARAMETER_FILENAME}\" \\\n",
    "  --command 'cp $BUCKET/split_multiallelic/exome_v8.${FILE_NUM}.exwas_genes_only.split_multiallelic.vcf.gz $OUTPUT_DIR/exome_v8.${FILE_NUM}.split_multiallelic.vcf.gz'\n",
    "\n",
    "print(\"\\n\".join(job_id))\n",
    "job_id = job_id[1].split(\" \")[-1]\n",
    "%env JOB_ID={job_id}"
   ]
  },
  {
   "cell_type": "markdown",
   "metadata": {},
   "source": [
    "## check job status"
   ]
  },
  {
   "cell_type": "code",
   "execution_count": null,
   "metadata": {},
   "outputs": [],
   "source": [
    "!dstat \\\n",
    "    --provider google-cls-v2 \\\n",
    "    --project \"${GOOGLE_PROJECT}\" \\\n",
    "    --location us-central1 \\\n",
    "    --jobs 'norm-chang--kathleen-cardone--250303-165225-93' \\\n",
    "    --users \"kathleen-cardone\" \\\n",
    "    --status 'FAILURE' | wc -l"
   ]
  },
  {
   "cell_type": "code",
   "execution_count": null,
   "metadata": {},
   "outputs": [],
   "source": [
    "!dstat \\\n",
    "    --provider google-cls-v2 \\\n",
    "    --project \"${GOOGLE_PROJECT}\" \\\n",
    "    --location us-central1 \\\n",
    "    --jobs 'norm-chang--kathleen-cardone--250303-165225-93' \\\n",
    "    --users \"kathleen-cardone\" \\\n",
    "    --status 'RUNNING' | wc -l"
   ]
  },
  {
   "cell_type": "code",
   "execution_count": null,
   "metadata": {},
   "outputs": [],
   "source": [
    "!dstat \\\n",
    "    --provider google-cls-v2 \\\n",
    "    --project \"${GOOGLE_PROJECT}\" \\\n",
    "    --location us-central1 \\\n",
    "    --jobs 'norm-chang--kathleen-cardone--250303-165225-93' \\\n",
    "    --users \"kathleen-cardone\" \\\n",
    "    --status 'SUCCESS' | wc -l"
   ]
  },
  {
   "cell_type": "markdown",
   "metadata": {},
   "source": [
    "# filter to variants that passed QC and remove genotypes, creating sites only VCFs, with bcftools (for VEP annotations)"
   ]
  },
  {
   "cell_type": "markdown",
   "metadata": {},
   "source": [
    "## Command"
   ]
  },
  {
   "cell_type": "code",
   "execution_count": null,
   "metadata": {},
   "outputs": [],
   "source": [
    "import os\n",
    "import pandas as pd\n",
    "bucket=os.getenv('WORKSPACE_BUCKET')\n",
    "USER_NAME = os.getenv('OWNER_EMAIL').split('@')[0].replace('.','-')\n",
    "%env USER_NAME={USER_NAME}\n",
    "JOB_NAME=f'bcftools-view-{USER_NAME}'\n",
    "%env JOB_NAME={JOB_NAME}\n",
    "\n",
    "params_df = pd.DataFrame(data={\n",
    "    '--env FILE_NUM': [f\"{i:010}\" for i in range(0, 18465)],\n",
    "    '--output-recursive OUTPUT_DIR': [f\"{bucket}/sites_only_pass_QC/\" for _ in range(18465)]\n",
    "})\n",
    "\n",
    "PARAMETER_FILENAME = f'{JOB_NAME}_params.tsv'\n",
    "%env PARAMETER_FILENAME={PARAMETER_FILENAME}\n",
    "\n",
    "params_df.to_csv(PARAMETER_FILENAME, sep='\\t', index=False)\n",
    "\n",
    "job_id = !source ~/aou_dsub.bash; aou_dsub \\\n",
    "  --name \"${JOB_NAME}\" \\\n",
    "  --provider google-cls-v2 \\\n",
    "  --image \"gcr.io/ritchie-aou-psom-9015/bcftools:latest\" \\\n",
    "  --logging \"${WORKSPACE_BUCKET}/dsub_logs/bcftools/view/\" \\\n",
    "  --mount BUCKET=\"${WORKSPACE_BUCKET}\" \\\n",
    "  --disk-size 10 \\\n",
    "  --min-ram 128 \\\n",
    "  --tasks \"${PARAMETER_FILENAME}\" \\\n",
    "  --command 'bcftools view -G -f .,PASS \\\n",
    "              $BUCKET/split_multiallelic/exome_v8.${FILE_NUM}.split_multiallelic.vcf.gz \\\n",
    "              -Oz -o $OUTPUT_DIR/exome_v8.${FILE_NUM}.split_multiallelic.sites_only.pass_qc.vcf.gz'\n",
    "\n",
    "print(\"\\n\".join(job_id))\n",
    "job_id = job_id[1].split(\" \")[-1]\n",
    "%env JOB_ID={job_id}"
   ]
  },
  {
   "cell_type": "markdown",
   "metadata": {},
   "source": [
    "## check job status"
   ]
  },
  {
   "cell_type": "code",
   "execution_count": null,
   "metadata": {},
   "outputs": [],
   "source": [
    "!dstat \\\n",
    "    --provider google-cls-v2 \\\n",
    "    --project \"${GOOGLE_PROJECT}\" \\\n",
    "    --location us-central1 \\\n",
    "    --jobs 'bcftools-v--kathleen-cardone--250303-193616-32' \\\n",
    "    --users \"*\" \\\n",
    "    --status 'SUCCESS' | wc -l"
   ]
  },
  {
   "cell_type": "code",
   "execution_count": null,
   "metadata": {},
   "outputs": [],
   "source": [
    "!dstat \\\n",
    "    --provider google-cls-v2 \\\n",
    "    --project \"${GOOGLE_PROJECT}\" \\\n",
    "    --location us-central1 \\\n",
    "    --jobs 'bcftools-v--kathleen-cardone--250303-193616-32' \\\n",
    "    --users \"*\" \\\n",
    "    --status 'FAILURE' | wc -l"
   ]
  },
  {
   "cell_type": "code",
   "execution_count": null,
   "metadata": {},
   "outputs": [],
   "source": [
    "!dstat \\\n",
    "    --provider google-cls-v2 \\\n",
    "    --project \"${GOOGLE_PROJECT}\" \\\n",
    "    --location us-central1 \\\n",
    "    --jobs 'bcftools-v--kathleen-cardone--250303-193616-32' \\\n",
    "    --users \"*\" \\\n",
    "    --status 'RUNNING' | wc -l"
   ]
  },
  {
   "cell_type": "markdown",
   "metadata": {},
   "source": [
    "## resubmit jobs that ran out of memory"
   ]
  },
  {
   "cell_type": "code",
   "execution_count": null,
   "metadata": {},
   "outputs": [],
   "source": [
    "import pandas as pd\n",
    "failed_df = pd.read_csv('sites_only_pass_qc.failed_numbers.txt',header=None)\n",
    "failed_list=failed_df[0].tolist()\n",
    "print(len(failed_list))"
   ]
  },
  {
   "cell_type": "code",
   "execution_count": null,
   "metadata": {},
   "outputs": [],
   "source": [
    "import os\n",
    "import pandas as pd\n",
    "bucket=os.getenv('WORKSPACE_BUCKET')\n",
    "USER_NAME = os.getenv('OWNER_EMAIL').split('@')[0].replace('.','-')\n",
    "%env USER_NAME={USER_NAME}\n",
    "JOB_NAME=f'bcftools-view-{USER_NAME}'\n",
    "%env JOB_NAME={JOB_NAME}\n",
    "\n",
    "params_df = pd.DataFrame(data={\n",
    "    '--env FILE_NUM': [f\"{i:010}\" for i in failed_list],\n",
    "    '--output-recursive OUTPUT_DIR': [f\"{bucket}/sites_only_pass_QC/\" for _ in range(139)]\n",
    "})\n",
    "\n",
    "PARAMETER_FILENAME = f'{JOB_NAME}_params.tsv'\n",
    "%env PARAMETER_FILENAME={PARAMETER_FILENAME}\n",
    "\n",
    "params_df.to_csv(PARAMETER_FILENAME, sep='\\t', index=False)\n",
    "\n",
    "job_id = !source ~/aou_dsub.bash; aou_dsub \\\n",
    "  --name \"${JOB_NAME}\" \\\n",
    "  --provider google-cls-v2 \\\n",
    "  --image \"gcr.io/ritchie-aou-psom-9015/bcftools:latest\" \\\n",
    "  --logging \"${WORKSPACE_BUCKET}/dsub_logs/bcftools/view/\" \\\n",
    "  --mount BUCKET=\"${WORKSPACE_BUCKET}\" \\\n",
    "  --disk-size 10 \\\n",
    "  --min-ram 128 \\\n",
    "  --tasks \"${PARAMETER_FILENAME}\" \\\n",
    "  --command 'bcftools view -G -f .,PASS \\\n",
    "              $BUCKET/split_multiallelic/exome_v8.${FILE_NUM}.split_multiallelic.vcf.gz \\\n",
    "              -Oz -o $OUTPUT_DIR/exome_v8.${FILE_NUM}.split_multiallelic.sites_only.pass_qc.vcf.gz'\n",
    "\n",
    "print(\"\\n\".join(job_id))\n",
    "job_id = job_id[1].split(\" \")[-1]\n",
    "%env JOB_ID={job_id}"
   ]
  },
  {
   "cell_type": "markdown",
   "metadata": {},
   "source": [
    "## check status of redone jobs"
   ]
  },
  {
   "cell_type": "code",
   "execution_count": null,
   "metadata": {},
   "outputs": [],
   "source": [
    "!dstat \\\n",
    "    --provider google-cls-v2 \\\n",
    "    --project \"${GOOGLE_PROJECT}\" \\\n",
    "    --location us-central1 \\\n",
    "    --jobs 'bcftools-v--kathleen-cardone--250304-150138-81' \\\n",
    "    --users \"kathleen-cardone\" \\\n",
    "    --status 'FAILURE' | wc -l"
   ]
  },
  {
   "cell_type": "code",
   "execution_count": null,
   "metadata": {},
   "outputs": [],
   "source": [
    "!dstat \\\n",
    "    --provider google-cls-v2 \\\n",
    "    --project \"${GOOGLE_PROJECT}\" \\\n",
    "    --location us-central1 \\\n",
    "    --jobs 'bcftools-v--kathleen-cardone--250304-150138-81' \\\n",
    "    --users \"kathleen-cardone\" \\\n",
    "    --status 'RUNNING' | wc -l"
   ]
  },
  {
   "cell_type": "code",
   "execution_count": null,
   "metadata": {},
   "outputs": [],
   "source": [
    "!dstat \\\n",
    "    --provider google-cls-v2 \\\n",
    "    --project \"${GOOGLE_PROJECT}\" \\\n",
    "    --location us-central1 \\\n",
    "    --jobs 'bcftools-v--kathleen-cardone--250304-150138-81' \\\n",
    "    --users \"kathleen-cardone\" \\\n",
    "    --status 'SUCCESS' | wc -l"
   ]
  },
  {
   "cell_type": "markdown",
   "metadata": {},
   "source": [
    "## check output files after all jobs finished"
   ]
  },
  {
   "cell_type": "code",
   "execution_count": null,
   "metadata": {},
   "outputs": [],
   "source": [
    "!gsutil ls ${WORKSPACE_BUCKET}/sites_only_pass_QC/ | grep '.gz' | wc -l"
   ]
  },
  {
   "cell_type": "markdown",
   "metadata": {},
   "source": [
    "# filter to variants that passed QC and keep genotypes with bcftools (for PLINK files)"
   ]
  },
  {
   "cell_type": "markdown",
   "metadata": {},
   "source": [
    "## command"
   ]
  },
  {
   "cell_type": "code",
   "execution_count": null,
   "metadata": {},
   "outputs": [],
   "source": [
    "import pandas as pd\n",
    "import os\n",
    "bucket=os.getenv('WORKSPACE_BUCKET')\n",
    "USER_NAME = os.getenv('OWNER_EMAIL').split('@')[0].replace('.','-')\n",
    "%env USER_NAME={USER_NAME}\n",
    "JOB_NAME=f'bcftools-view-{USER_NAME}'\n",
    "%env JOB_NAME={JOB_NAME}\n",
    "\n",
    "params_df = pd.DataFrame(data={\n",
    "    '--env FILE_NUM': [f\"{i:010}\" for i in range(0, 18465)],\n",
    "    '--output-recursive OUTPUT_DIR': [f\"{bucket}/pass_QC_VCF/\" for _ in range(18465)]\n",
    "})\n",
    "\n",
    "PARAMETER_FILENAME = f'{JOB_NAME}_params.tsv'\n",
    "%env PARAMETER_FILENAME={PARAMETER_FILENAME}\n",
    "\n",
    "params_df.to_csv(PARAMETER_FILENAME, sep='\\t', index=False)\n",
    "\n",
    "job_id = !source ~/aou_dsub.bash; aou_dsub \\\n",
    "  --name \"${JOB_NAME}\" \\\n",
    "  --provider google-cls-v2 \\\n",
    "  --image \"gcr.io/ritchie-aou-psom-9015/bcftools:latest\" \\\n",
    "  --logging \"${WORKSPACE_BUCKET}/dsub_logs/bcftools/view/\" \\\n",
    "  --mount BUCKET=\"${WORKSPACE_BUCKET}\" \\\n",
    "  --disk-size 10 \\\n",
    "  --min-ram 128 \\\n",
    "  --tasks \"${PARAMETER_FILENAME}\" \\\n",
    "  --command 'bcftools view -f .,PASS \\\n",
    "              $BUCKET/split_multiallelic/exome_v8.${FILE_NUM}.split_multiallelic.vcf.gz \\\n",
    "              -Oz -o $OUTPUT_DIR/exome_v8.${FILE_NUM}.split_multiallelic.pass_qc.vcf.gz'\n",
    "\n",
    "print(\"\\n\".join(job_id))\n",
    "job_id = job_id[1].split(\" \")[-1]\n",
    "%env JOB_ID={job_id}"
   ]
  },
  {
   "cell_type": "markdown",
   "metadata": {},
   "source": [
    "## check job status"
   ]
  },
  {
   "cell_type": "code",
   "execution_count": null,
   "metadata": {},
   "outputs": [],
   "source": [
    "!dstat \\\n",
    "    --provider google-cls-v2 \\\n",
    "    --project \"$GOOGLE_PROJECT\" \\\n",
    "    --location us-central1 \\\n",
    "    --jobs \"bcftools-v--kathleen-cardone--250228-145821-62\" \\\n",
    "    --users \"kathleen-cardone\" \\\n",
    "    --status '*'"
   ]
  },
  {
   "cell_type": "code",
   "execution_count": null,
   "metadata": {},
   "outputs": [],
   "source": [
    "!dstat \\\n",
    "    --provider google-cls-v2 \\\n",
    "    --project \"$GOOGLE_PROJECT\" \\\n",
    "    --location us-central1 \\\n",
    "    --jobs \"bcftools-v--kathleen-cardone--250228-145821-62\" \\\n",
    "    --users \"kathleen-cardone\" \\\n",
    "    --status 'FAILURE' | wc -l"
   ]
  },
  {
   "cell_type": "code",
   "execution_count": null,
   "metadata": {},
   "outputs": [],
   "source": [
    "!dstat \\\n",
    "    --provider google-cls-v2 \\\n",
    "    --project \"$GOOGLE_PROJECT\" \\\n",
    "    --location us-central1 \\\n",
    "    --jobs \"bcftools-v--kathleen-cardone--250228-145821-62\" \\\n",
    "    --users \"kathleen-cardone\" \\\n",
    "    --status 'RUNNING' | wc -l"
   ]
  },
  {
   "cell_type": "code",
   "execution_count": null,
   "metadata": {},
   "outputs": [],
   "source": [
    "!dstat \\\n",
    "    --provider google-cls-v2 \\\n",
    "    --project \"$GOOGLE_PROJECT\" \\\n",
    "    --location us-central1 \\\n",
    "    --jobs \"bcftools-v--kathleen-cardone--250228-145821-62\" \\\n",
    "    --users \"kathleen-cardone\" \\\n",
    "    --status 'SUCCESS' | wc -l"
   ]
  },
  {
   "cell_type": "markdown",
   "metadata": {},
   "source": [
    "# index sites only VCF files for merge"
   ]
  },
  {
   "cell_type": "markdown",
   "metadata": {},
   "source": [
    "## command"
   ]
  },
  {
   "cell_type": "code",
   "execution_count": null,
   "metadata": {},
   "outputs": [],
   "source": [
    "import pandas as pd\n",
    "import os\n",
    "bucket=os.getenv('WORKSPACE_BUCKET')\n",
    "USER_NAME = os.getenv('OWNER_EMAIL').split('@')[0].replace('.','-')\n",
    "%env USER_NAME={USER_NAME}\n",
    "JOB_NAME=f'index_sites_only-{USER_NAME}'\n",
    "%env JOB_NAME={JOB_NAME}\n",
    "\n",
    "params_df = pd.DataFrame(data={\n",
    "    '--env FILE_NUM': [f\"{i:010}\" for i in range(0, 18465)],\n",
    "    '--output-recursive OUTPUT_DIR': [f\"{bucket}/sites_only_pass_QC/\" for _ in range(18465)]\n",
    "})\n",
    "\n",
    "PARAMETER_FILENAME = f'{JOB_NAME}_params.tsv'\n",
    "%env PARAMETER_FILENAME={PARAMETER_FILENAME}\n",
    "\n",
    "params_df.to_csv(PARAMETER_FILENAME, sep='\\t', index=False)\n",
    "\n",
    "job_id = !source ~/aou_dsub.bash; aou_dsub \\\n",
    "  --name \"${JOB_NAME}\" \\\n",
    "  --provider google-cls-v2 \\\n",
    "  --image \"gcr.io/ritchie-aou-psom-9015/bcftools:latest\" \\\n",
    "  --logging \"${WORKSPACE_BUCKET}/dsub_logs/bcftools/index/\" \\\n",
    "  --mount BUCKET=\"${WORKSPACE_BUCKET}\" \\\n",
    "  --disk-size 10 \\\n",
    "  --tasks \"${PARAMETER_FILENAME}\" \\\n",
    "  --command 'bcftools index -t \\\n",
    "              $BUCKET/sites_only_pass_QC/exome_v8.${FILE_NUM}.split_multiallelic.sites_only.pass_qc.vcf.gz \\\n",
    "              -o $OUTPUT_DIR/exome_v8.${FILE_NUM}.split_multiallelic.sites_only.pass_qc.vcf.gz.tbi'\n",
    "\n",
    "print(\"\\n\".join(job_id))\n",
    "job_id = job_id[1].split(\" \")[-1]\n",
    "%env JOB_ID={job_id}"
   ]
  },
  {
   "cell_type": "markdown",
   "metadata": {},
   "source": [
    "## check job status"
   ]
  },
  {
   "cell_type": "code",
   "execution_count": null,
   "metadata": {},
   "outputs": [],
   "source": [
    "!dstat \\\n",
    "    --provider google-cls-v2 \\\n",
    "    --project \"$GOOGLE_PROJECT\" \\\n",
    "    --location us-central1 \\\n",
    "    --jobs \"index-site--kathleen-cardone--250304-175527-62\" \\\n",
    "    --users \"kathleen-cardone\" \\\n",
    "    --status 'FAILURE' | wc -l"
   ]
  },
  {
   "cell_type": "code",
   "execution_count": null,
   "metadata": {},
   "outputs": [],
   "source": [
    "!dstat \\\n",
    "    --provider google-cls-v2 \\\n",
    "    --project \"$GOOGLE_PROJECT\" \\\n",
    "    --location us-central1 \\\n",
    "    --jobs \"index-site--kathleen-cardone--250304-175527-62\" \\\n",
    "    --users \"kathleen-cardone\" \\\n",
    "    --status 'RUNNING' | wc -l"
   ]
  },
  {
   "cell_type": "code",
   "execution_count": null,
   "metadata": {},
   "outputs": [],
   "source": [
    "!dstat \\\n",
    "    --provider google-cls-v2 \\\n",
    "    --project \"$GOOGLE_PROJECT\" \\\n",
    "    --location us-central1 \\\n",
    "    --jobs \"index-site--kathleen-cardone--250304-175527-62\" \\\n",
    "    --users \"kathleen-cardone\" \\\n",
    "    --status 'SUCCESS' | wc -l"
   ]
  },
  {
   "cell_type": "markdown",
   "metadata": {},
   "source": [
    "# index VCF files with genotypes for merge"
   ]
  },
  {
   "cell_type": "markdown",
   "metadata": {},
   "source": [
    "## command"
   ]
  },
  {
   "cell_type": "code",
   "execution_count": null,
   "metadata": {},
   "outputs": [],
   "source": [
    "import pandas as pd\n",
    "import os\n",
    "bucket=os.getenv('WORKSPACE_BUCKET')\n",
    "USER_NAME = os.getenv('OWNER_EMAIL').split('@')[0].replace('.','-')\n",
    "%env USER_NAME={USER_NAME}\n",
    "JOB_NAME=f'index_pass_qc-{USER_NAME}'\n",
    "%env JOB_NAME={JOB_NAME}\n",
    "\n",
    "params_df = pd.DataFrame(data={\n",
    "    '--env FILE_NUM': [f\"{i:010}\" for i in range(0, 18465)],\n",
    "    '--output-recursive OUTPUT_DIR': [f\"{bucket}/pass_QC_VCF/\" for _ in range(18465)]\n",
    "})\n",
    "\n",
    "PARAMETER_FILENAME = f'{JOB_NAME}_params.tsv'\n",
    "%env PARAMETER_FILENAME={PARAMETER_FILENAME}\n",
    "\n",
    "params_df.to_csv(PARAMETER_FILENAME, sep='\\t', index=False)\n",
    "\n",
    "job_id = !source ~/aou_dsub.bash; aou_dsub \\\n",
    "  --name \"${JOB_NAME}\" \\\n",
    "  --provider google-cls-v2 \\\n",
    "  --image \"gcr.io/ritchie-aou-psom-9015/bcftools:latest\" \\\n",
    "  --logging \"${WORKSPACE_BUCKET}/dsub_logs/bcftools/index/\" \\\n",
    "  --mount BUCKET=\"${WORKSPACE_BUCKET}\" \\\n",
    "  --disk-size 10 \\\n",
    "  --tasks \"${PARAMETER_FILENAME}\" \\\n",
    "  --command 'bcftools index -t \\\n",
    "              $BUCKET/pass_QC_VCF/exome_v8.${FILE_NUM}.split_multiallelic.pass_qc.vcf.gz \\\n",
    "              -o $OUTPUT_DIR/exome_v8.${FILE_NUM}.split_multiallelic.pass_qc.vcf.gz.tbi'\n",
    "\n",
    "print(\"\\n\".join(job_id))\n",
    "job_id = job_id[1].split(\" \")[-1]\n",
    "%env JOB_ID={job_id}"
   ]
  },
  {
   "cell_type": "markdown",
   "metadata": {},
   "source": [
    "## check job status"
   ]
  },
  {
   "cell_type": "code",
   "execution_count": null,
   "metadata": {},
   "outputs": [],
   "source": [
    "!dstat \\\n",
    "    --provider google-cls-v2 \\\n",
    "    --project \"$GOOGLE_PROJECT\" \\\n",
    "    --location us-central1 \\\n",
    "    --jobs \"index-pass--kathleen-cardone--250311-131326-16\" \\\n",
    "    --users \"kathleen-cardone\" \\\n",
    "    --status '*'"
   ]
  },
  {
   "cell_type": "code",
   "execution_count": null,
   "metadata": {},
   "outputs": [],
   "source": [
    "!dstat \\\n",
    "    --provider google-cls-v2 \\\n",
    "    --project \"$GOOGLE_PROJECT\" \\\n",
    "    --location us-central1 \\\n",
    "    --jobs \"index-pass--kathleen-cardone--250311-131326-16\" \\\n",
    "    --users \"kathleen-cardone\" \\\n",
    "    --status 'FAILURE' | wc -l"
   ]
  },
  {
   "cell_type": "code",
   "execution_count": null,
   "metadata": {},
   "outputs": [],
   "source": [
    "!dstat \\\n",
    "    --provider google-cls-v2 \\\n",
    "    --project \"$GOOGLE_PROJECT\" \\\n",
    "    --location us-central1 \\\n",
    "    --jobs \"index-pass--kathleen-cardone--250311-131326-16\" \\\n",
    "    --users \"kathleen-cardone\" \\\n",
    "    --status 'RUNNING' | wc -l"
   ]
  },
  {
   "cell_type": "code",
   "execution_count": null,
   "metadata": {},
   "outputs": [],
   "source": [
    "!dstat \\\n",
    "    --provider google-cls-v2 \\\n",
    "    --project \"$GOOGLE_PROJECT\" \\\n",
    "    --location us-central1 \\\n",
    "    --jobs \"index-pass--kathleen-cardone--250311-131326-16\" \\\n",
    "    --users \"kathleen-cardone\" \\\n",
    "    --status 'SUCCESS' | wc -l"
   ]
  },
  {
   "cell_type": "markdown",
   "metadata": {},
   "source": [
    "## check output files"
   ]
  },
  {
   "cell_type": "code",
   "execution_count": null,
   "metadata": {},
   "outputs": [],
   "source": [
    "!gsutil ls ${WORKSPACE_BUCKET}/pass_QC_VCF/*.tbi | head"
   ]
  },
  {
   "cell_type": "markdown",
   "metadata": {},
   "source": [
    "## redo job that ran out of memory"
   ]
  },
  {
   "cell_type": "code",
   "execution_count": null,
   "metadata": {},
   "outputs": [],
   "source": [
    "import pandas as pd\n",
    "import os\n",
    "bucket=os.getenv('WORKSPACE_BUCKET')\n",
    "USER_NAME = os.getenv('OWNER_EMAIL').split('@')[0].replace('.','-')\n",
    "%env USER_NAME={USER_NAME}\n",
    "JOB_NAME=f'index_pass_qc-{USER_NAME}'\n",
    "%env JOB_NAME={JOB_NAME}\n",
    "\n",
    "params_df = pd.DataFrame(data={\n",
    "    '--env FILE_NUM': [f\"{i:010}\" for i in [3307]],\n",
    "    '--output-recursive OUTPUT_DIR': [f\"{bucket}/pass_QC_VCF/\" for _ in range(1)]\n",
    "})\n",
    "\n",
    "PARAMETER_FILENAME = f'{JOB_NAME}_params.tsv'\n",
    "%env PARAMETER_FILENAME={PARAMETER_FILENAME}\n",
    "\n",
    "params_df.to_csv(PARAMETER_FILENAME, sep='\\t', index=False)\n",
    "\n",
    "job_id = !source ~/aou_dsub.bash; aou_dsub \\\n",
    "  --name \"${JOB_NAME}\" \\\n",
    "  --provider google-cls-v2 \\\n",
    "  --image \"gcr.io/ritchie-aou-psom-9015/bcftools:latest\" \\\n",
    "  --logging \"${WORKSPACE_BUCKET}/dsub_logs/bcftools/index/\" \\\n",
    "  --mount BUCKET=\"${WORKSPACE_BUCKET}\" \\\n",
    "  --disk-size 10 \\\n",
    "  --tasks \"${PARAMETER_FILENAME}\" \\\n",
    "  --command 'bcftools index -t \\\n",
    "              $BUCKET/pass_QC_VCF/exome_v8.${FILE_NUM}.split_multiallelic.pass_qc.vcf.gz \\\n",
    "              -o $OUTPUT_DIR/exome_v8.${FILE_NUM}.split_multiallelic.pass_qc.vcf.gz.tbi'\n",
    "\n",
    "print(\"\\n\".join(job_id))\n",
    "job_id = job_id[1].split(\" \")[-1]\n",
    "%env JOB_ID={job_id}"
   ]
  },
  {
   "cell_type": "markdown",
   "metadata": {},
   "source": [
    "## check status of redone jobs"
   ]
  },
  {
   "cell_type": "code",
   "execution_count": null,
   "metadata": {},
   "outputs": [],
   "source": [
    "!dstat \\\n",
    "    --provider google-cls-v2 \\\n",
    "    --project \"$GOOGLE_PROJECT\" \\\n",
    "    --location us-central1 \\\n",
    "    --jobs \"index-pass--kathleen-cardone--250304-141347-83\" \\\n",
    "    --users \"kathleen-cardone\" \\\n",
    "    --status '*'"
   ]
  },
  {
   "cell_type": "markdown",
   "metadata": {},
   "source": [
    "## check output files after all jobs complete"
   ]
  },
  {
   "cell_type": "code",
   "execution_count": null,
   "metadata": {},
   "outputs": [],
   "source": [
    "!gsutil ls ${WORKSPACE_BUCKET}/pass_QC_VCF/*.tbi | wc -l"
   ]
  },
  {
   "cell_type": "markdown",
   "metadata": {},
   "source": [
    "# merge sites only vcf files by chromosome"
   ]
  },
  {
   "cell_type": "markdown",
   "metadata": {},
   "source": [
    "## command"
   ]
  },
  {
   "cell_type": "code",
   "execution_count": null,
   "metadata": {},
   "outputs": [],
   "source": [
    "import os\n",
    "import pandas as pd\n",
    "bucket=os.getenv('WORKSPACE_BUCKET')\n",
    "USER_NAME = os.getenv('OWNER_EMAIL').split('@')[0].replace('.','-')\n",
    "%env USER_NAME={USER_NAME}\n",
    "JOB_NAME=f'sites_only_merge-{USER_NAME}'\n",
    "%env JOB_NAME={JOB_NAME}\n",
    "\n",
    "params_df = pd.DataFrame(data={\n",
    "    '--env CHR': list(range(1,23)),\n",
    "    '--output-recursive OUTPUT_DIR': [f\"{bucket}/sites_only_pass_QC/\" for _ in range(22)]\n",
    "})\n",
    "PARAMETER_FILENAME = f'{JOB_NAME}_params.tsv'\n",
    "%env PARAMETER_FILENAME={PARAMETER_FILENAME}\n",
    "\n",
    "params_df.to_csv(PARAMETER_FILENAME, sep='\\t', index=False)\n",
    "\n",
    "job_id = !source ~/aou_dsub.bash; aou_dsub \\\n",
    "  --name \"${JOB_NAME}\" \\\n",
    "  --provider google-cls-v2 \\\n",
    "  --image \"gcr.io/ritchie-aou-psom-9015/bcftools:latest\" \\\n",
    "  --logging \"${WORKSPACE_BUCKET}/dsub_logs/bcftools/merge/\" \\\n",
    "  --mount BUCKET=\"${WORKSPACE_BUCKET}\" \\\n",
    "  --disk-size 3 \\\n",
    "  --tasks \"${PARAMETER_FILENAME}\" \\\n",
    "  --command 'bcftools merge -l $BUCKET/sites_only_pass_QC/AOU_v8.srWGS_exome_vcf.chr${CHR}.sites_only_pass_qc.merge_list.txt --force-samples \\\n",
    "              -Oz -o $OUTPUT_DIR/exome_v8.chr${CHR}.split_multiallelic.sites_only.pass_qc.vcf.gz'\n",
    "\n",
    "print(\"\\n\".join(job_id))\n",
    "job_id = job_id[1].split(\" \")[-1]\n",
    "%env JOB_ID={job_id}"
   ]
  },
  {
   "cell_type": "markdown",
   "metadata": {},
   "source": [
    "## check job status"
   ]
  },
  {
   "cell_type": "code",
   "execution_count": null,
   "metadata": {},
   "outputs": [],
   "source": [
    "!dstat \\\n",
    "    --provider google-cls-v2 \\\n",
    "    --project \"$GOOGLE_PROJECT\" \\\n",
    "    --location us-central1 \\\n",
    "    --jobs \"sites-only--kathleen-cardone--250304-190259-66\" \\\n",
    "    --users \"kathleen-cardone\" \\\n",
    "    --status 'FAILURE'"
   ]
  },
  {
   "cell_type": "markdown",
   "metadata": {},
   "source": [
    "## redo jobs that ran out of memory"
   ]
  },
  {
   "cell_type": "code",
   "execution_count": null,
   "metadata": {},
   "outputs": [],
   "source": [
    "import os\n",
    "import pandas as pd\n",
    "bucket=os.getenv('WORKSPACE_BUCKET')\n",
    "USER_NAME = os.getenv('OWNER_EMAIL').split('@')[0].replace('.','-')\n",
    "%env USER_NAME={USER_NAME}\n",
    "JOB_NAME=f'sites_only_merge-{USER_NAME}'\n",
    "%env JOB_NAME={JOB_NAME}\n",
    "\n",
    "params_df = pd.DataFrame(data={\n",
    "    '--env CHR': [1,2,3,6,11,12,17,19],\n",
    "    '--output-recursive OUTPUT_DIR': [f\"{bucket}/sites_only_pass_QC/\" for _ in range(8)]\n",
    "})\n",
    "PARAMETER_FILENAME = f'{JOB_NAME}_params.tsv'\n",
    "%env PARAMETER_FILENAME={PARAMETER_FILENAME}\n",
    "\n",
    "params_df.to_csv(PARAMETER_FILENAME, sep='\\t', index=False)\n",
    "\n",
    "job_id = !source ~/aou_dsub.bash; aou_dsub \\\n",
    "  --name \"${JOB_NAME}\" \\\n",
    "  --provider google-cls-v2 \\\n",
    "  --image \"gcr.io/ritchie-aou-psom-9015/bcftools:latest\" \\\n",
    "  --logging \"${WORKSPACE_BUCKET}/dsub_logs/bcftools/merge/\" \\\n",
    "  --mount BUCKET=\"${WORKSPACE_BUCKET}\" \\\n",
    "  --disk-size 3 \\\n",
    "  --min-ram 15 \\\n",
    "  --tasks \"${PARAMETER_FILENAME}\" \\\n",
    "  --command 'bcftools merge -l $BUCKET/sites_only_pass_QC/AOU_v8.srWGS_exome_vcf.chr${CHR}.sites_only_pass_qc.merge_list.txt --force-samples \\\n",
    "              -Oz -o $OUTPUT_DIR/exome_v8.chr${CHR}.split_multiallelic.sites_only.pass_qc.vcf.gz'\n",
    "\n",
    "print(\"\\n\".join(job_id))\n",
    "job_id = job_id[1].split(\" \")[-1]\n",
    "%env JOB_ID={job_id}"
   ]
  },
  {
   "cell_type": "markdown",
   "metadata": {},
   "source": [
    "## check status of redone jobs"
   ]
  },
  {
   "cell_type": "code",
   "execution_count": null,
   "metadata": {},
   "outputs": [],
   "source": [
    "!dstat \\\n",
    "    --provider google-cls-v2 \\\n",
    "    --project \"$GOOGLE_PROJECT\" \\\n",
    "    --location us-central1 \\\n",
    "    --jobs \"sites-only--kathleen-cardone--250305-150319-50\" \\\n",
    "    --users \"kathleen-cardone\" \\\n",
    "    --status '*'"
   ]
  },
  {
   "cell_type": "markdown",
   "metadata": {},
   "source": [
    "# merge pass QC only VCF files"
   ]
  },
  {
   "cell_type": "raw",
   "metadata": {},
   "source": [
    "# i was unable to merge some of the larger chromosomes with bcftools- so I converted the chromosomes that merged to PLINK as well as the chunks of chromosomes that did not merge. I then merged the chunks of larger chromosomes with PLINK "
   ]
  },
  {
   "cell_type": "markdown",
   "metadata": {},
   "source": [
    "## command"
   ]
  },
  {
   "cell_type": "code",
   "execution_count": null,
   "metadata": {},
   "outputs": [],
   "source": [
    "import os\n",
    "import pandas as pd\n",
    "bucket=os.getenv('WORKSPACE_BUCKET')\n",
    "USER_NAME = os.getenv('OWNER_EMAIL').split('@')[0].replace('.','-')\n",
    "%env USER_NAME={USER_NAME}\n",
    "JOB_NAME=f'pass_qc_merge-{USER_NAME}'\n",
    "%env JOB_NAME={JOB_NAME}\n",
    "\n",
    "params_df = pd.DataFrame(data={\n",
    "    '--env CHR': list(range(1,23)),\n",
    "    '--output-recursive OUTPUT_DIR': [f\"{bucket}/pass_QC_VCF/\" for _ in range(22)]\n",
    "})\n",
    "PARAMETER_FILENAME = f'{JOB_NAME}_params.tsv'\n",
    "%env PARAMETER_FILENAME={PARAMETER_FILENAME}\n",
    "\n",
    "params_df.to_csv(PARAMETER_FILENAME, sep='\\t', index=False)\n",
    "\n",
    "job_id = !source ~/aou_dsub.bash; aou_dsub \\\n",
    "  --name \"${JOB_NAME}\" \\\n",
    "  --provider google-cls-v2 \\\n",
    "  --image \"gcr.io/ritchie-aou-psom-9015/bcftools:latest\" \\\n",
    "  --logging \"${WORKSPACE_BUCKET}/dsub_logs/bcftools/merge/\" \\\n",
    "  --mount BUCKET=\"${WORKSPACE_BUCKET}\" \\\n",
    "  --disk-size 315 \\\n",
    "  --min-ram 300 \\\n",
    "  --min-core 16 \\\n",
    "  --tasks \"${PARAMETER_FILENAME}\" \\\n",
    "  --command 'bcftools concat -a -f $BUCKET/pass_QC_VCF/AOU_v8.srWGS_exome_vcf.chr${CHR}.pass_qc_only.merge_list.txt \\\n",
    "              --threads 16 \\\n",
    "              -Oz -o $OUTPUT_DIR/exome_v8.chr${CHR}.split_multiallelic.pass_qc.vcf.gz'\n",
    "\n",
    "print(\"\\n\".join(job_id))\n",
    "job_id = job_id[1].split(\" \")[-1]\n",
    "%env JOB_ID={job_id}"
   ]
  },
  {
   "cell_type": "markdown",
   "metadata": {},
   "source": [
    "## check job status"
   ]
  },
  {
   "cell_type": "code",
   "execution_count": null,
   "metadata": {},
   "outputs": [],
   "source": [
    "!dstat \\\n",
    "    --provider google-cls-v2 \\\n",
    "    --project \"$GOOGLE_PROJECT\" \\\n",
    "    --location us-central1 \\\n",
    "    --jobs \"pass-qc-me--kathleen-cardone--250311-142457-14\" \\\n",
    "    --users \"kathleen-cardone\" \\\n",
    "    --status '*'"
   ]
  },
  {
   "cell_type": "code",
   "execution_count": null,
   "metadata": {},
   "outputs": [],
   "source": [
    "!dstat \\\n",
    "    --provider google-cls-v2 \\\n",
    "    --project \"$GOOGLE_PROJECT\" \\\n",
    "    --location us-central1 \\\n",
    "    --jobs \"pass-qc-me--kathleen-cardone--250311-142457-14\" \\\n",
    "    --users \"kathleen-cardone\" \\\n",
    "    --status 'FAILURE'"
   ]
  },
  {
   "cell_type": "markdown",
   "metadata": {},
   "source": [
    "## redo chromosomes that ran out of memory"
   ]
  },
  {
   "cell_type": "code",
   "execution_count": null,
   "metadata": {},
   "outputs": [],
   "source": [
    "import os\n",
    "import pandas as pd\n",
    "bucket=os.getenv('WORKSPACE_BUCKET')\n",
    "USER_NAME = os.getenv('OWNER_EMAIL').split('@')[0].replace('.','-')\n",
    "%env USER_NAME={USER_NAME}\n",
    "JOB_NAME=f'pass_qc_merge-{USER_NAME}'\n",
    "%env JOB_NAME={JOB_NAME}\n",
    "\n",
    "params_df = pd.DataFrame(data={\n",
    "    '--env CHR': [1,19],\n",
    "    '--output-recursive OUTPUT_DIR': [f\"{bucket}/pass_QC_VCF/\" for _ in range(2)]\n",
    "})\n",
    "PARAMETER_FILENAME = f'{JOB_NAME}_params.tsv'\n",
    "%env PARAMETER_FILENAME={PARAMETER_FILENAME}\n",
    "\n",
    "params_df.to_csv(PARAMETER_FILENAME, sep='\\t', index=False)\n",
    "\n",
    "job_id = !source ~/aou_dsub.bash; aou_dsub \\\n",
    "  --name \"${JOB_NAME}\" \\\n",
    "  --provider google-cls-v2 \\\n",
    "  --image \"gcr.io/ritchie-aou-psom-9015/bcftools:latest\" \\\n",
    "  --logging \"${WORKSPACE_BUCKET}/dsub_logs/bcftools/merge/\" \\\n",
    "  --mount BUCKET=\"${WORKSPACE_BUCKET}\" \\\n",
    "  --disk-size 315 \\\n",
    "  --min-ram 400 \\\n",
    "  --min-core 16 \\\n",
    "  --tasks \"${PARAMETER_FILENAME}\" \\\n",
    "  --command 'bcftools concat -a -f $BUCKET/pass_QC_VCF/AOU_v8.srWGS_exome_vcf.chr${CHR}.pass_qc_only.merge_list.txt \\\n",
    "              --threads 16 \\\n",
    "              -Oz -o $OUTPUT_DIR/exome_v8.chr${CHR}.split_multiallelic.pass_qc.vcf.gz'\n",
    "\n",
    "print(\"\\n\".join(job_id))\n",
    "job_id = job_id[1].split(\" \")[-1]\n",
    "%env JOB_ID={job_id}"
   ]
  },
  {
   "cell_type": "markdown",
   "metadata": {},
   "source": [
    "## check status of redone jobs"
   ]
  },
  {
   "cell_type": "code",
   "execution_count": null,
   "metadata": {},
   "outputs": [],
   "source": [
    "!dstat \\\n",
    "    --provider google-cls-v2 \\\n",
    "    --project \"$GOOGLE_PROJECT\" \\\n",
    "    --location us-central1 \\\n",
    "    --jobs \"pass-qc-me--kathleen-cardone--250312-152422-07\" \\\n",
    "    --users \"kathleen-cardone\" \\\n",
    "    --status '*'"
   ]
  },
  {
   "cell_type": "markdown",
   "metadata": {},
   "source": [
    "# update variant ID format for sites only vcf files with bcftools"
   ]
  },
  {
   "cell_type": "markdown",
   "metadata": {},
   "source": [
    "## command"
   ]
  },
  {
   "cell_type": "code",
   "execution_count": null,
   "metadata": {},
   "outputs": [],
   "source": [
    "import os\n",
    "import pandas as pd\n",
    "bucket=os.getenv('WORKSPACE_BUCKET')\n",
    "USER_NAME = os.getenv('OWNER_EMAIL').split('@')[0].replace('.','-')\n",
    "%env USER_NAME={USER_NAME}\n",
    "JOB_NAME=f'bcftools-annotate-{USER_NAME}'\n",
    "%env JOB_NAME={JOB_NAME}\n",
    "\n",
    "params_df = pd.DataFrame(data={\n",
    "    '--env CHR': list(range(1,23)),\n",
    "    '--output-recursive OUTPUT_DIR': [f\"{bucket}/newID_VCF/\" for _ in range(22)]\n",
    "})\n",
    "\n",
    "PARAMETER_FILENAME = f'{JOB_NAME}_params.tsv'\n",
    "%env PARAMETER_FILENAME={PARAMETER_FILENAME}\n",
    "\n",
    "params_df.to_csv(PARAMETER_FILENAME, sep='\\t', index=False)\n",
    "\n",
    "job_id = !source ~/aou_dsub.bash; aou_dsub \\\n",
    "  --name \"${JOB_NAME}\" \\\n",
    "  --provider google-cls-v2 \\\n",
    "  --image \"gcr.io/ritchie-aou-psom-9015/bcftools:latest\" \\\n",
    "  --logging \"${WORKSPACE_BUCKET}/dsub_logs/bcftools/annotate/\" \\\n",
    "  --disk-size 10 \\\n",
    "  --mount BUCKET=\"${WORKSPACE_BUCKET}\" \\\n",
    "  --tasks \"${PARAMETER_FILENAME}\" \\\n",
    "  --command 'bcftools annotate --set-id \"%CHROM:%POS:%REF:%FIRST_ALT\" \\\n",
    "              $BUCKET/sites_only_pass_QC/exome_v8.chr${CHR}.split_multiallelic.sites_only.pass_qc.vcf.gz \\\n",
    "              -Oz -o $OUTPUT_DIR/exome_v8.chr${CHR}.new_id.split_multiallelic.sites_only.pass_qc.vcf.gz'\n",
    "\n",
    "print(\"\\n\".join(job_id))\n",
    "job_id = job_id[1].split(\" \")[-1]\n",
    "%env JOB_ID={job_id}"
   ]
  },
  {
   "cell_type": "markdown",
   "metadata": {},
   "source": [
    "## check job status"
   ]
  },
  {
   "cell_type": "code",
   "execution_count": null,
   "metadata": {},
   "outputs": [],
   "source": [
    "!dstat \\\n",
    "    --provider google-cls-v2 \\\n",
    "    --project \"$GOOGLE_PROJECT\" \\\n",
    "    --location us-central1 \\\n",
    "    --jobs \"bcftools-a--kathleen-cardone--250321-171640-47\" \\\n",
    "    --users \"kathleen-cardone\" \\\n",
    "    --status '*'"
   ]
  },
  {
   "cell_type": "markdown",
   "metadata": {},
   "source": [
    "## check output files"
   ]
  },
  {
   "cell_type": "code",
   "execution_count": null,
   "metadata": {},
   "outputs": [],
   "source": [
    "!gsutil ls ${WORKSPACE_BUCKET}/newID_VCF/*sites_only*"
   ]
  },
  {
   "cell_type": "markdown",
   "metadata": {},
   "source": [
    "## inspect one output file to make sure command worked"
   ]
  },
  {
   "cell_type": "code",
   "execution_count": null,
   "metadata": {},
   "outputs": [],
   "source": [
    "!gsutil cp ${WORKSPACE_BUCKET}/newID_VCF/exome_v8.chr22.new_id.split_multiallelic.sites_only.pass_qc.vcf.gz ."
   ]
  },
  {
   "cell_type": "code",
   "execution_count": null,
   "metadata": {},
   "outputs": [],
   "source": [
    "!zcat exome_v8.chr22.new_id.split_multiallelic.sites_only.pass_qc.vcf.gz | grep -v '##' | head"
   ]
  },
  {
   "cell_type": "markdown",
   "metadata": {},
   "source": [
    "# reformat variant ID in vcf files with genotypes with bcftools"
   ]
  },
  {
   "cell_type": "markdown",
   "metadata": {},
   "source": [
    "## command for chromosomes that merged"
   ]
  },
  {
   "cell_type": "code",
   "execution_count": null,
   "metadata": {},
   "outputs": [],
   "source": [
    "import os\n",
    "import pandas as pd\n",
    "bucket = os.getenv('WORKSPACE_BUCKET')\n",
    "USER_NAME = os.getenv('OWNER_EMAIL').split('@')[0].replace('.','-')\n",
    "%env USER_NAME={USER_NAME}\n",
    "JOB_NAME=f'bcftools-annotate-{USER_NAME}'\n",
    "%env JOB_NAME={JOB_NAME}\n",
    "\n",
    "params_df = pd.DataFrame(data={\n",
    "    '--env CHR': [8,9,13,14,15,18,20,21,22],\n",
    "    '--output-recursive OUTPUT_DIR': [f\"{bucket}/newID_VCF/\" for _ in range(9)]\n",
    "})\n",
    "\n",
    "PARAMETER_FILENAME = f'{JOB_NAME}_params.tsv'\n",
    "%env PARAMETER_FILENAME={PARAMETER_FILENAME}\n",
    "\n",
    "params_df.to_csv(PARAMETER_FILENAME, sep='\\t', index=False)\n",
    "\n",
    "job_id = !source ~/aou_dsub.bash; aou_dsub \\\n",
    "  --name \"${JOB_NAME}\" \\\n",
    "  --provider google-cls-v2 \\\n",
    "  --image \"gcr.io/ritchie-aou-psom-9015/bcftools:latest\" \\\n",
    "  --logging \"${WORKSPACE_BUCKET}/dsub_logs/bcftools/annotate/\" \\\n",
    "  --disk-size 120 \\\n",
    "  --mount BUCKET=\"${WORKSPACE_BUCKET}\" \\\n",
    "  --tasks \"${PARAMETER_FILENAME}\" \\\n",
    "  --command 'bcftools annotate --set-id \"%CHROM:%POS:%REF:%FIRST_ALT\" \\\n",
    "              $BUCKET/pass_QC_VCF/exome_v8.chr${CHR}.split_multiallelic.pass_qc.vcf.gz \\\n",
    "              -Oz -o $OUTPUT_DIR/exome_v8.chr${CHR}.new_id.split_multiallelic.pass_qc.vcf.gz'\n",
    "\n",
    "print(\"\\n\".join(job_id))\n",
    "job_id = job_id[1].split(\" \")[-1]\n",
    "%env JOB_ID={job_id}"
   ]
  },
  {
   "cell_type": "markdown",
   "metadata": {},
   "source": [
    "### check job status"
   ]
  },
  {
   "cell_type": "code",
   "execution_count": null,
   "metadata": {},
   "outputs": [],
   "source": [
    "!dstat \\\n",
    "    --provider google-cls-v2 \\\n",
    "    --project \"$GOOGLE_PROJECT\" \\\n",
    "    --location us-central1 \\\n",
    "    --jobs \"bcftools-a--kathleen-cardone--250314-012340-24\" \\\n",
    "    --users \"kathleen-cardone\" \\\n",
    "    --status '*'"
   ]
  },
  {
   "cell_type": "markdown",
   "metadata": {},
   "source": [
    "## commands for chunked files"
   ]
  },
  {
   "cell_type": "markdown",
   "metadata": {},
   "source": [
    "### chr 1-7"
   ]
  },
  {
   "cell_type": "code",
   "execution_count": null,
   "metadata": {},
   "outputs": [],
   "source": [
    "import os\n",
    "import pandas as pd\n",
    "bucket = os.getenv('WORKSPACE_BUCKET')\n",
    "USER_NAME = os.getenv('OWNER_EMAIL').split('@')[0].replace('.','-')\n",
    "%env USER_NAME={USER_NAME}\n",
    "JOB_NAME=f'bcftools-annotate-{USER_NAME}'\n",
    "%env JOB_NAME={JOB_NAME}\n",
    "\n",
    "params_df = pd.DataFrame(data={\n",
    "    '--env FILE_NUM': [f\"{i:010}\" for i in range(0, 7846)],\n",
    "    '--output-recursive OUTPUT_DIR': [f\"{bucket}/newID_VCF/\" for _ in range(7846)]\n",
    "})\n",
    "\n",
    "PARAMETER_FILENAME = f'{JOB_NAME}_params.tsv'\n",
    "%env PARAMETER_FILENAME={PARAMETER_FILENAME}\n",
    "\n",
    "params_df.to_csv(PARAMETER_FILENAME, sep='\\t', index=False)\n",
    "\n",
    "job_id = !source ~/aou_dsub.bash; aou_dsub \\\n",
    "  --name \"${JOB_NAME}\" \\\n",
    "  --provider google-cls-v2 \\\n",
    "  --image \"gcr.io/ritchie-aou-psom-9015/bcftools:latest\" \\\n",
    "  --logging \"${WORKSPACE_BUCKET}/dsub_logs/bcftools/annotate/\" \\\n",
    "  --disk-size 10 \\\n",
    "  --min-ram 128 \\\n",
    "  --mount BUCKET=\"${WORKSPACE_BUCKET}\" \\\n",
    "  --tasks \"${PARAMETER_FILENAME}\" \\\n",
    "  --command 'bcftools annotate --set-id \"%CHROM:%POS:%REF:%FIRST_ALT\" \\\n",
    "              $BUCKET/pass_QC_VCF/exome_v8.${FILE_NUM}.split_multiallelic.pass_qc.vcf.gz \\\n",
    "              -Oz -o $OUTPUT_DIR/exome_v8.${FILE_NUM}.new_id.split_multiallelic.pass_qc.vcf.gz'\n",
    "\n",
    "print(\"\\n\".join(job_id))\n",
    "job_id = job_id[1].split(\" \")[-1]\n",
    "%env JOB_ID={job_id}"
   ]
  },
  {
   "cell_type": "markdown",
   "metadata": {},
   "source": [
    "#### check job status"
   ]
  },
  {
   "cell_type": "code",
   "execution_count": null,
   "metadata": {},
   "outputs": [],
   "source": [
    "!dstat \\\n",
    "    --provider google-cls-v2 \\\n",
    "    --project \"$GOOGLE_PROJECT\" \\\n",
    "    --location us-central1 \\\n",
    "    --jobs \"bcftools-a--kathleen-cardone--250314-192422-85\" \\\n",
    "    --users \"kathleen-cardone\" \\\n",
    "    --status 'FAILURE' | wc -l"
   ]
  },
  {
   "cell_type": "code",
   "execution_count": null,
   "metadata": {},
   "outputs": [],
   "source": [
    "!dstat \\\n",
    "    --provider google-cls-v2 \\\n",
    "    --project \"$GOOGLE_PROJECT\" \\\n",
    "    --location us-central1 \\\n",
    "    --jobs \"bcftools-a--kathleen-cardone--250314-192422-85\" \\\n",
    "    --users \"kathleen-cardone\" \\\n",
    "    --status 'RUNNING' | wc -l"
   ]
  },
  {
   "cell_type": "code",
   "execution_count": null,
   "metadata": {},
   "outputs": [],
   "source": [
    "!dstat \\\n",
    "    --provider google-cls-v2 \\\n",
    "    --project \"$GOOGLE_PROJECT\" \\\n",
    "    --location us-central1 \\\n",
    "    --jobs \"bcftools-a--kathleen-cardone--250314-192422-85\" \\\n",
    "    --users \"kathleen-cardone\" \\\n",
    "    --status 'SUCCESS' | wc -l"
   ]
  },
  {
   "cell_type": "markdown",
   "metadata": {},
   "source": [
    "### chr 10-12"
   ]
  },
  {
   "cell_type": "code",
   "execution_count": null,
   "metadata": {},
   "outputs": [],
   "source": [
    "import os\n",
    "import pandas as pd\n",
    "bucket = os.getenv('WORKSPACE_BUCKET')\n",
    "USER_NAME = os.getenv('OWNER_EMAIL').split('@')[0].replace('.','-')\n",
    "%env USER_NAME={USER_NAME}\n",
    "JOB_NAME=f'bcftools-annotate-{USER_NAME}'\n",
    "%env JOB_NAME={JOB_NAME}\n",
    "\n",
    "params_df = pd.DataFrame(data={\n",
    "    '--env FILE_NUM': [f\"{i:010}\" for i in range(9271, 12199)],\n",
    "    '--output-recursive OUTPUT_DIR': [f\"{bucket}/newID_VCF/\" for _ in range(2928)]\n",
    "})\n",
    "\n",
    "PARAMETER_FILENAME = f'{JOB_NAME}_params.tsv'\n",
    "%env PARAMETER_FILENAME={PARAMETER_FILENAME}\n",
    "\n",
    "params_df.to_csv(PARAMETER_FILENAME, sep='\\t', index=False)\n",
    "\n",
    "job_id = !source ~/aou_dsub.bash; aou_dsub \\\n",
    "  --name \"${JOB_NAME}\" \\\n",
    "  --provider google-cls-v2 \\\n",
    "  --image \"gcr.io/ritchie-aou-psom-9015/bcftools:latest\" \\\n",
    "  --logging \"${WORKSPACE_BUCKET}/dsub_logs/bcftools/annotate/\" \\\n",
    "  --disk-size 10 \\\n",
    "  --min-ram 128 \\\n",
    "  --mount BUCKET=\"${WORKSPACE_BUCKET}\" \\\n",
    "  --tasks \"${PARAMETER_FILENAME}\" \\\n",
    "  --command 'bcftools annotate --set-id \"%CHROM:%POS:%REF:%FIRST_ALT\" \\\n",
    "              $BUCKET/pass_QC_VCF/exome_v8.${FILE_NUM}.split_multiallelic.pass_qc.vcf.gz \\\n",
    "              -Oz -o $OUTPUT_DIR/exome_v8.${FILE_NUM}.new_id.split_multiallelic.pass_qc.vcf.gz'\n",
    "\n",
    "print(\"\\n\".join(job_id))\n",
    "job_id = job_id[1].split(\" \")[-1]\n",
    "%env JOB_ID={job_id}"
   ]
  },
  {
   "cell_type": "markdown",
   "metadata": {},
   "source": [
    "#### check job status"
   ]
  },
  {
   "cell_type": "code",
   "execution_count": null,
   "metadata": {},
   "outputs": [],
   "source": [
    "!dstat \\\n",
    "    --provider google-cls-v2 \\\n",
    "    --project \"$GOOGLE_PROJECT\" \\\n",
    "    --location us-central1 \\\n",
    "    --jobs \"bcftools-a--kathleen-cardone--250317-130823-95\" \\\n",
    "    --users \"kathleen-cardone\" \\\n",
    "    --status 'FAILURE' | wc -l"
   ]
  },
  {
   "cell_type": "code",
   "execution_count": null,
   "metadata": {},
   "outputs": [],
   "source": [
    "!dstat \\\n",
    "    --provider google-cls-v2 \\\n",
    "    --project \"$GOOGLE_PROJECT\" \\\n",
    "    --location us-central1 \\\n",
    "    --jobs \"bcftools-a--kathleen-cardone--250317-130823-95\" \\\n",
    "    --users \"kathleen-cardone\" \\\n",
    "    --status 'SUCCESS' | wc -l"
   ]
  },
  {
   "cell_type": "code",
   "execution_count": null,
   "metadata": {},
   "outputs": [],
   "source": [
    "!dstat \\\n",
    "    --provider google-cls-v2 \\\n",
    "    --project \"$GOOGLE_PROJECT\" \\\n",
    "    --location us-central1 \\\n",
    "    --jobs \"bcftools-a--kathleen-cardone--250317-130823-95\" \\\n",
    "    --users \"kathleen-cardone\" \\\n",
    "    --status 'RUNNING' | wc -l"
   ]
  },
  {
   "cell_type": "markdown",
   "metadata": {},
   "source": [
    "### chr 16-17"
   ]
  },
  {
   "cell_type": "code",
   "execution_count": null,
   "metadata": {},
   "outputs": [],
   "source": [
    "import os\n",
    "import pandas as pd\n",
    "bucket = os.getenv('WORKSPACE_BUCKET')\n",
    "USER_NAME = os.getenv('OWNER_EMAIL').split('@')[0].replace('.','-')\n",
    "%env USER_NAME={USER_NAME}\n",
    "JOB_NAME=f'bcftools-annotate-{USER_NAME}'\n",
    "%env JOB_NAME={JOB_NAME}\n",
    "\n",
    "params_df = pd.DataFrame(data={\n",
    "    '--env FILE_NUM': [f\"{i:010}\" for i in range(13904, 15681)],\n",
    "    '--output-recursive OUTPUT_DIR': [f\"{bucket}/newID_VCF/\" for _ in range(1777)]\n",
    "})\n",
    "\n",
    "PARAMETER_FILENAME = f'{JOB_NAME}_params.tsv'\n",
    "%env PARAMETER_FILENAME={PARAMETER_FILENAME}\n",
    "\n",
    "params_df.to_csv(PARAMETER_FILENAME, sep='\\t', index=False)\n",
    "\n",
    "job_id = !source ~/aou_dsub.bash; aou_dsub \\\n",
    "  --name \"${JOB_NAME}\" \\\n",
    "  --provider google-cls-v2 \\\n",
    "  --image \"gcr.io/ritchie-aou-psom-9015/bcftools:latest\" \\\n",
    "  --logging \"${WORKSPACE_BUCKET}/dsub_logs/bcftools/annotate/\" \\\n",
    "  --disk-size 10 \\\n",
    "  --min-ram 128 \\\n",
    "  --mount BUCKET=\"${WORKSPACE_BUCKET}\" \\\n",
    "  --tasks \"${PARAMETER_FILENAME}\" \\\n",
    "  --command 'bcftools annotate --set-id \"%CHROM:%POS:%REF:%FIRST_ALT\" \\\n",
    "              $BUCKET/pass_QC_VCF/exome_v8.${FILE_NUM}.split_multiallelic.pass_qc.vcf.gz \\\n",
    "              -Oz -o $OUTPUT_DIR/exome_v8.${FILE_NUM}.new_id.split_multiallelic.pass_qc.vcf.gz'\n",
    "\n",
    "print(\"\\n\".join(job_id))\n",
    "job_id = job_id[1].split(\" \")[-1]\n",
    "%env JOB_ID={job_id}"
   ]
  },
  {
   "cell_type": "markdown",
   "metadata": {},
   "source": [
    "#### check job status"
   ]
  },
  {
   "cell_type": "code",
   "execution_count": null,
   "metadata": {},
   "outputs": [],
   "source": [
    "!dstat \\\n",
    "    --provider google-cls-v2 \\\n",
    "    --project \"$GOOGLE_PROJECT\" \\\n",
    "    --location us-central1 \\\n",
    "    --jobs \"bcftools-a--kathleen-cardone--250317-160403-39\" \\\n",
    "    --users \"kathleen-cardone\" \\\n",
    "    --status 'FAILURE' | wc -l"
   ]
  },
  {
   "cell_type": "code",
   "execution_count": null,
   "metadata": {},
   "outputs": [],
   "source": [
    "!dstat \\\n",
    "    --provider google-cls-v2 \\\n",
    "    --project \"$GOOGLE_PROJECT\" \\\n",
    "    --location us-central1 \\\n",
    "    --jobs \"bcftools-a--kathleen-cardone--250317-160403-39\" \\\n",
    "    --users \"kathleen-cardone\" \\\n",
    "    --status 'SUCCESS' | wc -l"
   ]
  },
  {
   "cell_type": "code",
   "execution_count": null,
   "metadata": {},
   "outputs": [],
   "source": [
    "!dstat \\\n",
    "    --provider google-cls-v2 \\\n",
    "    --project \"$GOOGLE_PROJECT\" \\\n",
    "    --location us-central1 \\\n",
    "    --jobs \"bcftools-a--kathleen-cardone--250317-160403-39\" \\\n",
    "    --users \"kathleen-cardone\" \\\n",
    "    --status 'RUNNING' | wc -l"
   ]
  },
  {
   "cell_type": "markdown",
   "metadata": {},
   "source": [
    "### chr 19"
   ]
  },
  {
   "cell_type": "code",
   "execution_count": null,
   "metadata": {},
   "outputs": [],
   "source": [
    "import os\n",
    "import pandas as pd\n",
    "bucket = os.getenv('WORKSPACE_BUCKET')\n",
    "USER_NAME = os.getenv('OWNER_EMAIL').split('@')[0].replace('.','-')\n",
    "%env USER_NAME={USER_NAME}\n",
    "JOB_NAME=f'bcftools-annotate-{USER_NAME}'\n",
    "%env JOB_NAME={JOB_NAME}\n",
    "\n",
    "params_df = pd.DataFrame(data={\n",
    "    '--env FILE_NUM': [f\"{i:010}\" for i in range(16057, 17397)],\n",
    "    '--output-recursive OUTPUT_DIR': [f\"{bucket}/newID_VCF/\" for _ in range(1340)]\n",
    "})\n",
    "\n",
    "PARAMETER_FILENAME = f'{JOB_NAME}_params.tsv'\n",
    "%env PARAMETER_FILENAME={PARAMETER_FILENAME}\n",
    "\n",
    "params_df.to_csv(PARAMETER_FILENAME, sep='\\t', index=False)\n",
    "\n",
    "job_id = !source ~/aou_dsub.bash; aou_dsub \\\n",
    "  --name \"${JOB_NAME}\" \\\n",
    "  --provider google-cls-v2 \\\n",
    "  --image \"gcr.io/ritchie-aou-psom-9015/bcftools:latest\" \\\n",
    "  --logging \"${WORKSPACE_BUCKET}/dsub_logs/bcftools/annotate/\" \\\n",
    "  --disk-size 10 \\\n",
    "  --min-ram 128 \\\n",
    "  --mount BUCKET=\"${WORKSPACE_BUCKET}\" \\\n",
    "  --tasks \"${PARAMETER_FILENAME}\" \\\n",
    "  --command 'bcftools annotate --set-id \"%CHROM:%POS:%REF:%FIRST_ALT\" \\\n",
    "              $BUCKET/pass_QC_VCF/exome_v8.${FILE_NUM}.split_multiallelic.pass_qc.vcf.gz \\\n",
    "              -Oz -o $OUTPUT_DIR/exome_v8.${FILE_NUM}.new_id.split_multiallelic.pass_qc.vcf.gz'\n",
    "\n",
    "print(\"\\n\".join(job_id))\n",
    "job_id = job_id[1].split(\" \")[-1]\n",
    "%env JOB_ID={job_id}"
   ]
  },
  {
   "cell_type": "markdown",
   "metadata": {},
   "source": [
    "#### check job status"
   ]
  },
  {
   "cell_type": "code",
   "execution_count": null,
   "metadata": {},
   "outputs": [],
   "source": [
    "!dstat \\\n",
    "    --provider google-cls-v2 \\\n",
    "    --project \"$GOOGLE_PROJECT\" \\\n",
    "    --location us-central1 \\\n",
    "    --jobs \"bcftools-a--kathleen-cardone--250317-194848-23\" \\\n",
    "    --users \"kathleen-cardone\" \\\n",
    "    --status 'FAILURE' | wc -l"
   ]
  },
  {
   "cell_type": "code",
   "execution_count": null,
   "metadata": {},
   "outputs": [],
   "source": [
    "!dstat \\\n",
    "    --provider google-cls-v2 \\\n",
    "    --project \"$GOOGLE_PROJECT\" \\\n",
    "    --location us-central1 \\\n",
    "    --jobs \"bcftools-a--kathleen-cardone--250317-194848-23\" \\\n",
    "    --users \"kathleen-cardone\" \\\n",
    "    --status 'SUCCESS' | wc -l"
   ]
  },
  {
   "cell_type": "code",
   "execution_count": null,
   "metadata": {},
   "outputs": [],
   "source": [
    "!dstat \\\n",
    "    --provider google-cls-v2 \\\n",
    "    --project \"$GOOGLE_PROJECT\" \\\n",
    "    --location us-central1 \\\n",
    "    --jobs \"bcftools-a--kathleen-cardone--250317-194848-23\" \\\n",
    "    --users \"kathleen-cardone\" \\\n",
    "    --status 'RUNNING' | wc -l"
   ]
  },
  {
   "cell_type": "markdown",
   "metadata": {},
   "source": [
    "# convert VCF files to PLINK2 files"
   ]
  },
  {
   "cell_type": "markdown",
   "metadata": {},
   "source": [
    "## command for merged chromosomes"
   ]
  },
  {
   "cell_type": "code",
   "execution_count": null,
   "metadata": {},
   "outputs": [],
   "source": [
    "import os\n",
    "import pandas as pd\n",
    "bucket=os.getenv('WORKSPACE_BUCKET')\n",
    "USER_NAME = os.getenv('OWNER_EMAIL').split('@')[0].replace('.','-')\n",
    "%env USER_NAME={USER_NAME}\n",
    "JOB_NAME=f'plink-{USER_NAME}'\n",
    "%env JOB_NAME={JOB_NAME}\n",
    "\n",
    "params_df = pd.DataFrame(data={\n",
    "    '--env CHR': [8,9,13,14,15,18,20,21,22],\n",
    "    '--output-recursive OUTPUT_DIR': [f\"{bucket}/newID_PLINK/\" for _ in range(9)]\n",
    "})\n",
    "\n",
    "PARAMETER_FILENAME = f'{JOB_NAME}_params.tsv'\n",
    "%env PARAMETER_FILENAME={PARAMETER_FILENAME}\n",
    "\n",
    "params_df.to_csv(PARAMETER_FILENAME, sep='\\t', index=False)\n",
    "\n",
    "job_id = !source ~/aou_dsub.bash; aou_dsub \\\n",
    "  --name \"${JOB_NAME}\" \\\n",
    "  --provider google-cls-v2 \\\n",
    "  --image \"gcr.io/ritchie-aou-psom-9015/plink2:latest\" \\\n",
    "  --logging \"${WORKSPACE_BUCKET}/dsub_logs/plink/\" \\\n",
    "  --disk-size 300 \\\n",
    "  --mount BUCKET=\"${WORKSPACE_BUCKET}\" \\\n",
    "  --tasks \"${PARAMETER_FILENAME}\" \\\n",
    "  --command 'plink2 --vcf $BUCKET/newID_VCF/exome_v8.chr${CHR}.new_id.split_multiallelic.pass_qc.vcf.gz \\\n",
    "              --make-pgen \\\n",
    "              --out $OUTPUT_DIR/exome_v8.chr${CHR}.new_id.split_multiallelic.pass_qc'\n",
    "\n",
    "print(\"\\n\".join(job_id))\n",
    "job_id = job_id[1].split(\" \")[-1]\n",
    "%env JOB_ID={job_id}"
   ]
  },
  {
   "cell_type": "markdown",
   "metadata": {},
   "source": [
    "### check job status"
   ]
  },
  {
   "cell_type": "code",
   "execution_count": null,
   "metadata": {},
   "outputs": [],
   "source": [
    "!dstat \\\n",
    "    --provider google-cls-v2 \\\n",
    "    --project \"${GOOGLE_PROJECT}\" \\\n",
    "    --location us-central1 \\\n",
    "    --jobs \"plink-kath--kathleen-cardone--250318-133518-68\" \\\n",
    "    --users \"kathleen-cardone\" \\\n",
    "    --status '*'"
   ]
  },
  {
   "cell_type": "markdown",
   "metadata": {},
   "source": [
    "## command for chromosome chunks"
   ]
  },
  {
   "cell_type": "markdown",
   "metadata": {},
   "source": [
    "### chr 1-7"
   ]
  },
  {
   "cell_type": "code",
   "execution_count": null,
   "metadata": {},
   "outputs": [],
   "source": [
    "import os\n",
    "import pandas as pd\n",
    "bucket=os.getenv('WORKSPACE_BUCKET')\n",
    "USER_NAME = os.getenv('OWNER_EMAIL').split('@')[0].replace('.','-')\n",
    "%env USER_NAME={USER_NAME}\n",
    "JOB_NAME=f'plink-{USER_NAME}'\n",
    "%env JOB_NAME={JOB_NAME}\n",
    "\n",
    "params_df = pd.DataFrame(data={\n",
    "    '--env FILE_NUM': [f\"{i:010}\" for i in range(0, 7846)],\n",
    "    '--output-recursive OUTPUT_DIR': [f\"{bucket}/newID_PLINK/\" for _ in range(7846)]\n",
    "})\n",
    "\n",
    "PARAMETER_FILENAME = f'{JOB_NAME}_params.tsv'\n",
    "%env PARAMETER_FILENAME={PARAMETER_FILENAME}\n",
    "\n",
    "params_df.to_csv(PARAMETER_FILENAME, sep='\\t', index=False)\n",
    "\n",
    "job_id = !source ~/aou_dsub.bash; aou_dsub \\\n",
    "  --name \"${JOB_NAME}\" \\\n",
    "  --provider google-cls-v2 \\\n",
    "  --image \"gcr.io/ritchie-aou-psom-9015/plink2:latest\" \\\n",
    "  --logging \"${WORKSPACE_BUCKET}/dsub_logs/plink/\" \\\n",
    "  --disk-size 10 \\\n",
    "  --min-ram 128 \\\n",
    "  --mount BUCKET=\"${WORKSPACE_BUCKET}\" \\\n",
    "  --tasks \"${PARAMETER_FILENAME}\" \\\n",
    "  --command 'plink2 --vcf $BUCKET/newID_VCF/exome_v8.${FILE_NUM}.new_id.split_multiallelic.pass_qc.vcf.gz \\\n",
    "              --make-pgen \\\n",
    "              --out $OUTPUT_DIR/exome_v8.${FILE_NUM}.new_id.split_multiallelic.pass_qc'\n",
    "\n",
    "print(\"\\n\".join(job_id))\n",
    "job_id = job_id[1].split(\" \")[-1]\n",
    "%env JOB_ID={job_id}"
   ]
  },
  {
   "cell_type": "markdown",
   "metadata": {},
   "source": [
    "#### check job status"
   ]
  },
  {
   "cell_type": "code",
   "execution_count": null,
   "metadata": {},
   "outputs": [],
   "source": [
    "!dstat \\\n",
    "    --provider google-cls-v2 \\\n",
    "    --project \"$GOOGLE_PROJECT\" \\\n",
    "    --location us-central1 \\\n",
    "    --jobs \"plink-kath--kathleen-cardone--250318-140621-85\" \\\n",
    "    --users \"kathleen-cardone\" \\\n",
    "    --status 'FAILURE' | wc -l"
   ]
  },
  {
   "cell_type": "code",
   "execution_count": null,
   "metadata": {},
   "outputs": [],
   "source": [
    "!dstat \\\n",
    "    --provider google-cls-v2 \\\n",
    "    --project \"$GOOGLE_PROJECT\" \\\n",
    "    --location us-central1 \\\n",
    "    --jobs \"plink-kath--kathleen-cardone--250318-140621-85\" \\\n",
    "    --users \"kathleen-cardone\" \\\n",
    "    --status 'SUCCESS' | wc -l"
   ]
  },
  {
   "cell_type": "code",
   "execution_count": null,
   "metadata": {},
   "outputs": [],
   "source": [
    "!dstat \\\n",
    "    --provider google-cls-v2 \\\n",
    "    --project \"$GOOGLE_PROJECT\" \\\n",
    "    --location us-central1 \\\n",
    "    --jobs \"plink-kath--kathleen-cardone--250318-140621-85\" \\\n",
    "    --users \"kathleen-cardone\" \\\n",
    "    --status 'RUNNING' | wc -l"
   ]
  },
  {
   "cell_type": "markdown",
   "metadata": {},
   "source": [
    "### redo chunks in chr1-7 that ran out of memory"
   ]
  },
  {
   "cell_type": "markdown",
   "metadata": {},
   "source": [
    "#### identify failed chunks"
   ]
  },
  {
   "cell_type": "code",
   "execution_count": null,
   "metadata": {},
   "outputs": [],
   "source": [
    "!dstat \\\n",
    "    --provider google-cls-v2 \\\n",
    "    --project \"$GOOGLE_PROJECT\" \\\n",
    "    --location us-central1 \\\n",
    "    --jobs \"plink-kath--kathleen-cardone--250318-140621-85\" \\\n",
    "    --users \"kathleen-cardone\" \\\n",
    "    --status 'FAILURE' | grep -v 'Job' | grep -v '\\--' | sed 's/    /,/g' | sed 's/  /,/g' > chr1_7.convert_plink.failed.csv"
   ]
  },
  {
   "cell_type": "code",
   "execution_count": null,
   "metadata": {},
   "outputs": [],
   "source": [
    "import pandas as pd\n",
    "failed_df = pd.read_csv('chr1_7.convert_plink.failed.csv',header=None)\n",
    "failed_df['FILE_NUM'] = failed_df[1] - 1\n",
    "failed_list=failed_df['FILE_NUM'].tolist()\n",
    "print(failed_list)\n",
    "print(len(failed_list))"
   ]
  },
  {
   "cell_type": "markdown",
   "metadata": {},
   "source": [
    "#### resubmit jobs"
   ]
  },
  {
   "cell_type": "code",
   "execution_count": null,
   "metadata": {},
   "outputs": [],
   "source": [
    "import os\n",
    "import pandas as pd\n",
    "bucket=os.getenv('WORKSPACE_BUCKET')\n",
    "USER_NAME = os.getenv('OWNER_EMAIL').split('@')[0].replace('.','-')\n",
    "%env USER_NAME={USER_NAME}\n",
    "JOB_NAME=f'plink-{USER_NAME}'\n",
    "%env JOB_NAME={JOB_NAME}\n",
    "\n",
    "params_df = pd.DataFrame(data={\n",
    "    '--env FILE_NUM': [f\"{i:010}\" for i in failed_list],\n",
    "    '--output-recursive OUTPUT_DIR': [f\"{bucket}/newID_PLINK/\" for _ in range(40)]\n",
    "})\n",
    "\n",
    "PARAMETER_FILENAME = f'{JOB_NAME}_params.tsv'\n",
    "%env PARAMETER_FILENAME={PARAMETER_FILENAME}\n",
    "\n",
    "params_df.to_csv(PARAMETER_FILENAME, sep='\\t', index=False)\n",
    "\n",
    "job_id = !source ~/aou_dsub.bash; aou_dsub \\\n",
    "  --name \"${JOB_NAME}\" \\\n",
    "  --provider google-cls-v2 \\\n",
    "  --image \"gcr.io/ritchie-aou-psom-9015/plink2:latest\" \\\n",
    "  --logging \"${WORKSPACE_BUCKET}/dsub_logs/plink/\" \\\n",
    "  --disk-size 10 \\\n",
    "  --min-ram 128 \\\n",
    "  --mount BUCKET=\"${WORKSPACE_BUCKET}\" \\\n",
    "  --tasks \"${PARAMETER_FILENAME}\" \\\n",
    "  --command 'plink2 --vcf $BUCKET/newID_VCF/exome_v8.${FILE_NUM}.new_id.split_multiallelic.pass_qc.vcf.gz \\\n",
    "              --make-pgen \\\n",
    "              --out $OUTPUT_DIR/exome_v8.${FILE_NUM}.new_id.split_multiallelic.pass_qc'\n",
    "\n",
    "print(\"\\n\".join(job_id))\n",
    "job_id = job_id[1].split(\" \")[-1]\n",
    "%env JOB_ID={job_id}"
   ]
  },
  {
   "cell_type": "markdown",
   "metadata": {},
   "source": [
    "#### check job status"
   ]
  },
  {
   "cell_type": "code",
   "execution_count": null,
   "metadata": {},
   "outputs": [],
   "source": [
    "!dstat \\\n",
    "    --provider google-cls-v2 \\\n",
    "    --project \"$GOOGLE_PROJECT\" \\\n",
    "    --location us-central1 \\\n",
    "    --jobs \"plink-kath--kathleen-cardone--250319-180850-57\" \\\n",
    "    --users \"kathleen-cardone\" \\\n",
    "    --status 'FAILURE' | wc -l"
   ]
  },
  {
   "cell_type": "code",
   "execution_count": null,
   "metadata": {},
   "outputs": [],
   "source": [
    "!dstat \\\n",
    "    --provider google-cls-v2 \\\n",
    "    --project \"$GOOGLE_PROJECT\" \\\n",
    "    --location us-central1 \\\n",
    "    --jobs \"plink-kath--kathleen-cardone--250319-180850-57\" \\\n",
    "    --users \"kathleen-cardone\" \\\n",
    "    --status 'SUCCESS' | wc -l"
   ]
  },
  {
   "cell_type": "code",
   "execution_count": null,
   "metadata": {},
   "outputs": [],
   "source": [
    "!dstat \\\n",
    "    --provider google-cls-v2 \\\n",
    "    --project \"$GOOGLE_PROJECT\" \\\n",
    "    --location us-central1 \\\n",
    "    --jobs \"plink-kath--kathleen-cardone--250319-180850-57\" \\\n",
    "    --users \"kathleen-cardone\" \\\n",
    "    --status 'RUNNING' | wc -l"
   ]
  },
  {
   "cell_type": "markdown",
   "metadata": {},
   "source": [
    "### chr 10-12"
   ]
  },
  {
   "cell_type": "code",
   "execution_count": null,
   "metadata": {},
   "outputs": [],
   "source": [
    "import os\n",
    "import pandas as pd\n",
    "bucket=os.getenv('WORKSPACE_BUCKET')\n",
    "USER_NAME = os.getenv('OWNER_EMAIL').split('@')[0].replace('.','-')\n",
    "%env USER_NAME={USER_NAME}\n",
    "JOB_NAME=f'plink-{USER_NAME}'\n",
    "%env JOB_NAME={JOB_NAME}\n",
    "\n",
    "params_df = pd.DataFrame(data={\n",
    "    '--env FILE_NUM': [f\"{i:010}\" for i in range(9271, 12199)],\n",
    "    '--output-recursive OUTPUT_DIR': [f\"{bucket}/newID_PLINK/\" for _ in range(2928)]\n",
    "})\n",
    "\n",
    "PARAMETER_FILENAME = f'{JOB_NAME}_params.tsv'\n",
    "%env PARAMETER_FILENAME={PARAMETER_FILENAME}\n",
    "\n",
    "params_df.to_csv(PARAMETER_FILENAME, sep='\\t', index=False)\n",
    "\n",
    "job_id = !source ~/aou_dsub.bash; aou_dsub \\\n",
    "  --name \"${JOB_NAME}\" \\\n",
    "  --provider google-cls-v2 \\\n",
    "  --image \"gcr.io/ritchie-aou-psom-9015/plink2:latest\" \\\n",
    "  --logging \"${WORKSPACE_BUCKET}/dsub_logs/plink/\" \\\n",
    "  --disk-size 10 \\\n",
    "  --min-ram 128 \\\n",
    "  --mount BUCKET=\"${WORKSPACE_BUCKET}\" \\\n",
    "  --tasks \"${PARAMETER_FILENAME}\" \\\n",
    "  --command 'plink2 --vcf $BUCKET/newID_VCF/exome_v8.${FILE_NUM}.new_id.split_multiallelic.pass_qc.vcf.gz \\\n",
    "              --make-pgen \\\n",
    "              --out $OUTPUT_DIR/exome_v8.${FILE_NUM}.new_id.split_multiallelic.pass_qc'\n",
    "\n",
    "print(\"\\n\".join(job_id))\n",
    "job_id = job_id[1].split(\" \")[-1]\n",
    "%env JOB_ID={job_id}"
   ]
  },
  {
   "cell_type": "markdown",
   "metadata": {},
   "source": [
    "#### check job status"
   ]
  },
  {
   "cell_type": "code",
   "execution_count": null,
   "metadata": {},
   "outputs": [],
   "source": [
    "!dstat \\\n",
    "    --provider google-cls-v2 \\\n",
    "    --project \"$GOOGLE_PROJECT\" \\\n",
    "    --location us-central1 \\\n",
    "    --jobs \"plink-kath--kathleen-cardone--250318-191511-35\" \\\n",
    "    --users \"kathleen-cardone\" \\\n",
    "    --status 'FAILURE' | wc -l"
   ]
  },
  {
   "cell_type": "code",
   "execution_count": null,
   "metadata": {},
   "outputs": [],
   "source": [
    "!dstat \\\n",
    "    --provider google-cls-v2 \\\n",
    "    --project \"$GOOGLE_PROJECT\" \\\n",
    "    --location us-central1 \\\n",
    "    --jobs \"plink-kath--kathleen-cardone--250318-191511-35\" \\\n",
    "    --users \"kathleen-cardone\" \\\n",
    "    --status 'SUCCESS' | wc -l"
   ]
  },
  {
   "cell_type": "code",
   "execution_count": null,
   "metadata": {},
   "outputs": [],
   "source": [
    "!dstat \\\n",
    "    --provider google-cls-v2 \\\n",
    "    --project \"$GOOGLE_PROJECT\" \\\n",
    "    --location us-central1 \\\n",
    "    --jobs \"plink-kath--kathleen-cardone--250318-191511-35\" \\\n",
    "    --users \"kathleen-cardone\" \\\n",
    "    --status 'RUNNING' | wc -l"
   ]
  },
  {
   "cell_type": "markdown",
   "metadata": {},
   "source": [
    "### chr 16-17"
   ]
  },
  {
   "cell_type": "code",
   "execution_count": null,
   "metadata": {},
   "outputs": [],
   "source": [
    "import os\n",
    "import pandas as pd\n",
    "bucket=os.getenv('WORKSPACE_BUCKET')\n",
    "USER_NAME = os.getenv('OWNER_EMAIL').split('@')[0].replace('.','-')\n",
    "%env USER_NAME={USER_NAME}\n",
    "JOB_NAME=f'plink-{USER_NAME}'\n",
    "%env JOB_NAME={JOB_NAME}\n",
    "\n",
    "params_df = pd.DataFrame(data={\n",
    "    '--env FILE_NUM': [f\"{i:010}\" for i in range(13904, 15681)],\n",
    "    '--output-recursive OUTPUT_DIR': [f\"{bucket}/newID_PLINK/\" for _ in range(1777)]\n",
    "})\n",
    "\n",
    "PARAMETER_FILENAME = f'{JOB_NAME}_params.tsv'\n",
    "%env PARAMETER_FILENAME={PARAMETER_FILENAME}\n",
    "\n",
    "params_df.to_csv(PARAMETER_FILENAME, sep='\\t', index=False)\n",
    "\n",
    "job_id = !source ~/aou_dsub.bash; aou_dsub \\\n",
    "  --name \"${JOB_NAME}\" \\\n",
    "  --provider google-cls-v2 \\\n",
    "  --image \"gcr.io/ritchie-aou-psom-9015/plink2:latest\" \\\n",
    "  --logging \"${WORKSPACE_BUCKET}/dsub_logs/plink/\" \\\n",
    "  --disk-size 10 \\\n",
    "  --min-ram 128 \\\n",
    "  --mount BUCKET=\"${WORKSPACE_BUCKET}\" \\\n",
    "  --tasks \"${PARAMETER_FILENAME}\" \\\n",
    "  --command 'plink2 --vcf $BUCKET/newID_VCF/exome_v8.${FILE_NUM}.new_id.split_multiallelic.pass_qc.vcf.gz \\\n",
    "              --make-pgen \\\n",
    "              --out $OUTPUT_DIR/exome_v8.${FILE_NUM}.new_id.split_multiallelic.pass_qc'\n",
    "\n",
    "print(\"\\n\".join(job_id))\n",
    "job_id = job_id[1].split(\" \")[-1]\n",
    "%env JOB_ID={job_id}"
   ]
  },
  {
   "cell_type": "markdown",
   "metadata": {},
   "source": [
    "#### check job status"
   ]
  },
  {
   "cell_type": "code",
   "execution_count": null,
   "metadata": {},
   "outputs": [],
   "source": [
    "!dstat \\\n",
    "    --provider google-cls-v2 \\\n",
    "    --project \"$GOOGLE_PROJECT\" \\\n",
    "    --location us-central1 \\\n",
    "    --jobs \"plink-kath--kathleen-cardone--250319-125200-07\" \\\n",
    "    --users \"kathleen-cardone\" \\\n",
    "    --status 'FAILURE' | wc -l"
   ]
  },
  {
   "cell_type": "code",
   "execution_count": null,
   "metadata": {},
   "outputs": [],
   "source": [
    "!dstat \\\n",
    "    --provider google-cls-v2 \\\n",
    "    --project \"$GOOGLE_PROJECT\" \\\n",
    "    --location us-central1 \\\n",
    "    --jobs \"plink-kath--kathleen-cardone--250319-125200-07\" \\\n",
    "    --users \"kathleen-cardone\" \\\n",
    "    --status 'SUCCESS' | wc -l"
   ]
  },
  {
   "cell_type": "code",
   "execution_count": null,
   "metadata": {},
   "outputs": [],
   "source": [
    "!dstat \\\n",
    "    --provider google-cls-v2 \\\n",
    "    --project \"$GOOGLE_PROJECT\" \\\n",
    "    --location us-central1 \\\n",
    "    --jobs \"plink-kath--kathleen-cardone--250319-125200-07\" \\\n",
    "    --users \"kathleen-cardone\" \\\n",
    "    --status 'RUNNING' | wc -l"
   ]
  },
  {
   "cell_type": "markdown",
   "metadata": {},
   "source": [
    "### chr 19"
   ]
  },
  {
   "cell_type": "code",
   "execution_count": null,
   "metadata": {},
   "outputs": [],
   "source": [
    "import os\n",
    "import pandas as pd\n",
    "bucket=os.getenv('WORKSPACE_BUCKET')\n",
    "USER_NAME = os.getenv('OWNER_EMAIL').split('@')[0].replace('.','-')\n",
    "%env USER_NAME={USER_NAME}\n",
    "JOB_NAME=f'plink-{USER_NAME}'\n",
    "%env JOB_NAME={JOB_NAME}\n",
    "\n",
    "params_df = pd.DataFrame(data={\n",
    "    '--env FILE_NUM': [f\"{i:010}\" for i in range(16057, 17397)],\n",
    "    '--output-recursive OUTPUT_DIR': [f\"{bucket}/newID_PLINK/\" for _ in range(1340)]\n",
    "})\n",
    "\n",
    "PARAMETER_FILENAME = f'{JOB_NAME}_params.tsv'\n",
    "%env PARAMETER_FILENAME={PARAMETER_FILENAME}\n",
    "\n",
    "params_df.to_csv(PARAMETER_FILENAME, sep='\\t', index=False)\n",
    "\n",
    "job_id = !source ~/aou_dsub.bash; aou_dsub \\\n",
    "  --name \"${JOB_NAME}\" \\\n",
    "  --provider google-cls-v2 \\\n",
    "  --image \"gcr.io/ritchie-aou-psom-9015/plink2:latest\" \\\n",
    "  --logging \"${WORKSPACE_BUCKET}/dsub_logs/plink/\" \\\n",
    "  --disk-size 10 \\\n",
    "  --min-ram 128 \\\n",
    "  --mount BUCKET=\"${WORKSPACE_BUCKET}\" \\\n",
    "  --tasks \"${PARAMETER_FILENAME}\" \\\n",
    "  --command 'plink2 --vcf $BUCKET/newID_VCF/exome_v8.${FILE_NUM}.new_id.split_multiallelic.pass_qc.vcf.gz \\\n",
    "              --make-pgen \\\n",
    "              --out $OUTPUT_DIR/exome_v8.${FILE_NUM}.new_id.split_multiallelic.pass_qc'\n",
    "\n",
    "print(\"\\n\".join(job_id))\n",
    "job_id = job_id[1].split(\" \")[-1]\n",
    "%env JOB_ID={job_id}"
   ]
  },
  {
   "cell_type": "markdown",
   "metadata": {},
   "source": [
    "#### check job status"
   ]
  },
  {
   "cell_type": "code",
   "execution_count": null,
   "metadata": {},
   "outputs": [],
   "source": [
    "!dstat \\\n",
    "    --provider google-cls-v2 \\\n",
    "    --project \"$GOOGLE_PROJECT\" \\\n",
    "    --location us-central1 \\\n",
    "    --jobs \"plink-kath--kathleen-cardone--250319-144112-37\" \\\n",
    "    --users \"kathleen-cardone\" \\\n",
    "    --status 'FAILURE' | wc -l"
   ]
  },
  {
   "cell_type": "code",
   "execution_count": null,
   "metadata": {},
   "outputs": [],
   "source": [
    "!dstat \\\n",
    "    --provider google-cls-v2 \\\n",
    "    --project \"$GOOGLE_PROJECT\" \\\n",
    "    --location us-central1 \\\n",
    "    --jobs \"plink-kath--kathleen-cardone--250319-144112-37\" \\\n",
    "    --users \"kathleen-cardone\" \\\n",
    "    --status 'SUCCESS' | wc -l"
   ]
  },
  {
   "cell_type": "code",
   "execution_count": null,
   "metadata": {},
   "outputs": [],
   "source": [
    "!dstat \\\n",
    "    --provider google-cls-v2 \\\n",
    "    --project \"$GOOGLE_PROJECT\" \\\n",
    "    --location us-central1 \\\n",
    "    --jobs \"plink-kath--kathleen-cardone--250319-144112-37\" \\\n",
    "    --users \"kathleen-cardone\" \\\n",
    "    --status 'RUNNING' | wc -l"
   ]
  },
  {
   "cell_type": "markdown",
   "metadata": {},
   "source": [
    "# merge chunked plink files"
   ]
  },
  {
   "cell_type": "markdown",
   "metadata": {},
   "source": [
    "## command"
   ]
  },
  {
   "cell_type": "code",
   "execution_count": null,
   "metadata": {},
   "outputs": [],
   "source": [
    "import os\n",
    "import pandas as pd\n",
    "bucket=os.getenv('WORKSPACE_BUCKET')\n",
    "USER_NAME = os.getenv('OWNER_EMAIL').split('@')[0].replace('.','-')\n",
    "%env USER_NAME={USER_NAME}\n",
    "JOB_NAME=f'plink_merge-{USER_NAME}'\n",
    "%env JOB_NAME={JOB_NAME}\n",
    "\n",
    "params_df = pd.DataFrame(data={\n",
    "    '--env CHR': [1,2,3,4,5,6,7,10,11,12,16,17,19],\n",
    "    '--output-recursive OUTPUT_DIR': [f\"{bucket}/newID_PLINK/\" for _ in range(13)]\n",
    "})\n",
    "PARAMETER_FILENAME = f'{JOB_NAME}_params.tsv'\n",
    "%env PARAMETER_FILENAME={PARAMETER_FILENAME}\n",
    "\n",
    "params_df.to_csv(PARAMETER_FILENAME, sep='\\t', index=False)\n",
    "\n",
    "job_id = !source ~/aou_dsub.bash; aou_dsub \\\n",
    "  --name \"${JOB_NAME}\" \\\n",
    "  --provider google-cls-v2 \\\n",
    "  --image \"gcr.io/ritchie-aou-psom-9015/plink2:latest\" \\\n",
    "  --logging \"${WORKSPACE_BUCKET}/dsub_logs/plink/merge/\" \\\n",
    "  --mount BUCKET=\"${WORKSPACE_BUCKET}\" \\\n",
    "  --disk-size 500 \\\n",
    "  --tasks \"${PARAMETER_FILENAME}\" \\\n",
    "  --command 'plink2 --pmerge-list $BUCKET/newID_PLINK/AOU_v8.srWGS_exome_vcf.chr${CHR}.pass_qc_only.plink_merge_list.txt \\\n",
    "              --make-pgen \\\n",
    "              --out $OUTPUT_DIR/exome_v8.chr${CHR}.new_id.split_multiallelic.pass_qc'\n",
    "\n",
    "print(\"\\n\".join(job_id))\n",
    "job_id = job_id[1].split(\" \")[-1]\n",
    "%env JOB_ID={job_id}"
   ]
  },
  {
   "cell_type": "markdown",
   "metadata": {},
   "source": [
    "## check job status"
   ]
  },
  {
   "cell_type": "code",
   "execution_count": null,
   "metadata": {},
   "outputs": [],
   "source": [
    "!dstat \\\n",
    "    --provider google-cls-v2 \\\n",
    "    --project \"$GOOGLE_PROJECT\" \\\n",
    "    --location us-central1 \\\n",
    "    --jobs \"plink-merg--kathleen-cardone--250319-215818-28\" \\\n",
    "    --users \"kathleen-cardone\" \\\n",
    "    --status '*'"
   ]
  },
  {
   "cell_type": "markdown",
   "metadata": {},
   "source": [
    "## check output files"
   ]
  },
  {
   "cell_type": "code",
   "execution_count": null,
   "metadata": {},
   "outputs": [],
   "source": [
    "!gsutil ls ${WORKSPACE_BUCKET}/newID_PLINK/*chr*"
   ]
  },
  {
   "cell_type": "code",
   "execution_count": null,
   "metadata": {},
   "outputs": [],
   "source": []
  }
 ],
 "metadata": {
  "kernelspec": {
   "display_name": "Python 3",
   "language": "python",
   "name": "python3"
  },
  "language_info": {
   "codemirror_mode": {
    "name": "ipython",
    "version": 3
   },
   "file_extension": ".py",
   "mimetype": "text/x-python",
   "name": "python",
   "nbconvert_exporter": "python",
   "pygments_lexer": "ipython3",
   "version": "3.10.16"
  },
  "toc": {
   "base_numbering": 1,
   "nav_menu": {},
   "number_sections": true,
   "sideBar": true,
   "skip_h1_title": false,
   "title_cell": "Table of Contents",
   "title_sidebar": "Contents",
   "toc_cell": false,
   "toc_position": {},
   "toc_section_display": true,
   "toc_window_display": false
  }
 },
 "nbformat": 4,
 "nbformat_minor": 2
}
