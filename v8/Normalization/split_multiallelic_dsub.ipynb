{
 "cells": [
  {
   "cell_type": "markdown",
   "metadata": {},
   "source": [
    "# setup"
   ]
  },
  {
   "cell_type": "markdown",
   "metadata": {},
   "source": [
    "## import python modules"
   ]
  },
  {
   "cell_type": "code",
   "execution_count": 1,
   "metadata": {},
   "outputs": [],
   "source": [
    "import pandas as pd\n",
    "import os"
   ]
  },
  {
   "cell_type": "markdown",
   "metadata": {},
   "source": [
    "## define workspace bucket"
   ]
  },
  {
   "cell_type": "code",
   "execution_count": 2,
   "metadata": {},
   "outputs": [
    {
     "data": {
      "text/plain": [
       "'gs://fc-secure-5e490ca2-d5ae-40a3-aa5e-7355e31ab9cc'"
      ]
     },
     "execution_count": 2,
     "metadata": {},
     "output_type": "execute_result"
    }
   ],
   "source": [
    "bucket = os.getenv('WORKSPACE_BUCKET')\n",
    "bucket"
   ]
  },
  {
   "cell_type": "code",
   "execution_count": 3,
   "metadata": {},
   "outputs": [
    {
     "data": {
      "text/plain": [
       "'terra-vpc-sc-f6a2ddef'"
      ]
     },
     "execution_count": 3,
     "metadata": {},
     "output_type": "execute_result"
    }
   ],
   "source": [
    "os.getenv('GOOGLE_PROJECT')"
   ]
  },
  {
   "cell_type": "markdown",
   "metadata": {},
   "source": [
    "## set up dsub"
   ]
  },
  {
   "cell_type": "code",
   "execution_count": 4,
   "metadata": {},
   "outputs": [
    {
     "name": "stdout",
     "output_type": "stream",
     "text": [
      "Overwriting /home/jupyter/aou_dsub.bash\n"
     ]
    }
   ],
   "source": [
    "%%writefile ~/aou_dsub.bash\n",
    "\n",
    "#!/bin/bash\n",
    "\n",
    "# This shell function passes reasonable defaults for several dsub parameters, while\n",
    "# allowing the caller to override any of them. It creates a nice folder structure within\n",
    "# the workspace bucket for dsub log files.\n",
    "\n",
    "# --[ Parameters ]--\n",
    "# any valid dsub parameter flag\n",
    "\n",
    "#--[ Returns ]--\n",
    "# the job id of the job created by dsub\n",
    "\n",
    "#--[ Details ]--\n",
    "# The first five parameters below should always be those values when running on AoU RWB.\n",
    "\n",
    "# Feel free to change the values for --user, --regions, --logging, and --image if you like.\n",
    "\n",
    "# Note that we insert some job data into the logging path.\n",
    "# https://github.com/DataBiosphere/dsub/blob/main/docs/logging.md#inserting-job-data\n",
    "\n",
    "function aou_dsub () {\n",
    "\n",
    "  # Get a shorter username to leave more characters for the job name.\n",
    "  local DSUB_USER_NAME=\"$(echo \"${OWNER_EMAIL}\" | cut -d@ -f1)\"\n",
    "\n",
    "  # For AoU RWB projects network name is \"network\".\n",
    "  local AOU_NETWORK=network\n",
    "  local AOU_SUBNETWORK=subnetwork\n",
    "\n",
    "  dsub \\\n",
    "      --provider google-cls-v2 \\\n",
    "      --user-project \"${GOOGLE_PROJECT}\"\\\n",
    "      --project \"${GOOGLE_PROJECT}\"\\\n",
    "      --image 'marketplace.gcr.io/google/ubuntu1804:latest' \\\n",
    "      --network \"${AOU_NETWORK}\" \\\n",
    "      --subnetwork \"${AOU_SUBNETWORK}\" \\\n",
    "      --service-account \"$(gcloud config get-value account)\" \\\n",
    "      --user \"${DSUB_USER_NAME}\" \\\n",
    "      --regions us-central1 \\\n",
    "      --logging \"${WORKSPACE_BUCKET}/dsub/logs/{job-name}/{user-id}/$(date +'%Y%m%d/%H%M%S')/{job-id}-{task-id}-{task-attempt}.log\" \\\n",
    "      \"$@\"\n",
    "}"
   ]
  },
  {
   "cell_type": "markdown",
   "metadata": {},
   "source": [
    "# make exome file map"
   ]
  },
  {
   "cell_type": "code",
   "execution_count": null,
   "metadata": {},
   "outputs": [],
   "source": [
    "numbers = [f\"{i:010}\" for i in range(0, 20017)]"
   ]
  },
  {
   "cell_type": "code",
   "execution_count": null,
   "metadata": {},
   "outputs": [],
   "source": [
    "!gsutil cp exome_vcf_file_map.py ${WORKSPACE_BUCKET}/exome_map/input/"
   ]
  },
  {
   "cell_type": "code",
   "execution_count": 5,
   "metadata": {},
   "outputs": [
    {
     "name": "stdout",
     "output_type": "stream",
     "text": [
      "Copying gs://fc-secure-5e490ca2-d5ae-40a3-aa5e-7355e31ab9cc/exome_map/input/exome_vcf_file_map.py...\n",
      "/ [1 files][  1.1 KiB/  1.1 KiB]                                                \n",
      "Operation completed over 1 objects/1.1 KiB.                                      \n"
     ]
    }
   ],
   "source": [
    "!gsutil cp ${WORKSPACE_BUCKET}/exome_map/input/exome_vcf_file_map.py ./"
   ]
  },
  {
   "cell_type": "code",
   "execution_count": null,
   "metadata": {},
   "outputs": [],
   "source": [
    "!gsutil ls {bucket}/exome_map/input/"
   ]
  },
  {
   "cell_type": "code",
   "execution_count": null,
   "metadata": {},
   "outputs": [],
   "source": [
    "import os\n",
    "import pandas as pd\n",
    "bucket = os.getenv('WORKSPACE_BUCKET')\n",
    "USER_NAME = os.getenv('OWNER_EMAIL').split('@')[0].replace('.','-')\n",
    "%env USER_NAME={USER_NAME}\n",
    "JOB_NAME=f'exome-map-{USER_NAME}'\n",
    "%env JOB_NAME={JOB_NAME}\n",
    "\n",
    "params_df = pd.DataFrame(data={\n",
    "    '--input VCF_FILE': [f\"gs://fc-aou-datasets-controlled/v8/wgs/short_read/snpindel/exome/vcf/{x:010}.vcf.bgz\" for x in range(0, 20017)],\n",
    "    '--input SCRIPT': [f\"{bucket}/exome_map/input/exome_vcf_file_map.py\" for _ in range(20017)],\n",
    "    '--env FILE_NUM': [f\"{i:010}\" for i in range(0, 20017)],\n",
    "    '--output-recursive OUTPUT_DIR': [f\"{bucket}/exome_map/output/\" for _ in range(20017)]\n",
    "})\n",
    "\n",
    "PARAMETER_FILENAME = f'{JOB_NAME}_params.tsv'\n",
    "%env PARAMETER_FILENAME={PARAMETER_FILENAME}\n",
    "\n",
    "params_df.to_csv(PARAMETER_FILENAME, sep='\\t', index=False)\n",
    "\n",
    "job_id = !source ~/aou_dsub.bash; aou_dsub \\\n",
    "  --name \"${JOB_NAME}\" \\\n",
    "  --provider google-cls-v2 \\\n",
    "  --image \"gcr.io/ritchie-aou-psom-9015/general_python:latest\" \\\n",
    "  --logging \"${WORKSPACE_BUCKET}/dsub_logs/exome_map/\" \\\n",
    "  --disk-size 7 \\\n",
    "  --tasks \"${PARAMETER_FILENAME}\" \\\n",
    "  --command 'python ${SCRIPT} \\\n",
    "              --input ${VCF_FILE} \\\n",
    "              --file_number ${FILE_NUM} \\\n",
    "              --output_dir ${OUTPUT_DIR}'\n",
    "\n",
    "print(\"\\n\".join(job_id))\n",
    "job_id = job_id[1].split(\" \")[-1]\n",
    "%env JOB_ID={job_id}"
   ]
  },
  {
   "cell_type": "code",
   "execution_count": null,
   "metadata": {},
   "outputs": [],
   "source": [
    "!dstat \\\n",
    "    --provider google-cls-v2 \\\n",
    "    --project \"${GOOGLE_PROJECT}\" \\\n",
    "    --location us-central1 \\\n",
    "    --jobs 'exome-map---kathleen-cardone--250226-195148-20' \\\n",
    "    --users \"kathleen-cardone\" \\\n",
    "    --status '*'"
   ]
  },
  {
   "cell_type": "code",
   "execution_count": null,
   "metadata": {},
   "outputs": [],
   "source": [
    "!gsutil ls ${WORKSPACE_BUCKET}/exome_map/output/"
   ]
  },
  {
   "cell_type": "code",
   "execution_count": null,
   "metadata": {},
   "outputs": [],
   "source": [
    "!gsutil ls ${WORKSPACE_BUCKET}/exome_map/output/* | head"
   ]
  },
  {
   "cell_type": "markdown",
   "metadata": {
    "heading_collapsed": true
   },
   "source": [
    "# bcftools Split Multiallelic Variants"
   ]
  },
  {
   "cell_type": "markdown",
   "metadata": {
    "hidden": true
   },
   "source": [
    "## check out size of VCF files"
   ]
  },
  {
   "cell_type": "code",
   "execution_count": null,
   "metadata": {
    "hidden": true
   },
   "outputs": [],
   "source": [
    "!gsutil -u $GOOGLE_PROJECT ls -lh gs://fc-aou-datasets-controlled/v8/wgs/short_read/snpindel/exome/vcf/"
   ]
  },
  {
   "cell_type": "markdown",
   "metadata": {
    "hidden": true
   },
   "source": [
    "## command"
   ]
  },
  {
   "cell_type": "code",
   "execution_count": null,
   "metadata": {
    "hidden": true
   },
   "outputs": [],
   "source": [
    "import os\n",
    "import pandas as pd\n",
    "bucket = os.getenv('WORKSPACE_BUCKET')\n",
    "USER_NAME = os.getenv('OWNER_EMAIL').split('@')[0].replace('.','-')\n",
    "%env USER_NAME={USER_NAME}\n",
    "JOB_NAME=f'bcftools-norm-{USER_NAME}'\n",
    "%env JOB_NAME={JOB_NAME}\n",
    "\n",
    "params_df = pd.DataFrame(data={\n",
    "    '--input INPUT_FILE': [f\"gs://fc-aou-datasets-controlled/v8/wgs/short_read/snpindel/exome/vcf/{x:010}.vcf.bgz\" for x in range(0, 18465)],\n",
    "    '--input INDEX': [f\"gs://fc-aou-datasets-controlled/v8/wgs/short_read/snpindel/exome/vcf/{x:010}.vcf.bgz.tbi\" for x in range(0, 18465)],\n",
    "    '--env FILE_NUM': [f\"{i:010}\" for i in range(0, 18465)],\n",
    "    '--output-recursive OUTPUT_DIR': [f\"{bucket}/split_multiallelic/\" for _ in range(18465)]\n",
    "})\n",
    "\n",
    "PARAMETER_FILENAME = f'{JOB_NAME}_params.tsv'\n",
    "%env PARAMETER_FILENAME={PARAMETER_FILENAME}\n",
    "\n",
    "params_df.to_csv(PARAMETER_FILENAME, sep='\\t', index=False)\n",
    "\n",
    "job_id = !source ~/aou_dsub.bash; aou_dsub \\\n",
    "  --name \"${JOB_NAME}\" \\\n",
    "  --provider google-cls-v2 \\\n",
    "  --image \"gcr.io/ritchie-aou-psom-9015/bcftools:latest\" \\\n",
    "  --logging \"${WORKSPACE_BUCKET}/dsub_logs/bcftools/norm/\" \\\n",
    "  --disk-size 10 \\\n",
    "  --min-ram 26 \\\n",
    "  --tasks \"${PARAMETER_FILENAME}\" \\\n",
    "  --command 'bcftools norm -m- \\\n",
    "              $INPUT_FILE \\\n",
    "              -Oz -o ${OUTPUT_DIR}/exome_v8.${FILE_NUM}.split_multiallelic.vcf.gz'\n",
    "\n",
    "print(\"\\n\".join(job_id))\n",
    "job_id = job_id[1].split(\" \")[-1]\n",
    "%env JOB_ID={job_id}"
   ]
  },
  {
   "cell_type": "markdown",
   "metadata": {
    "hidden": true
   },
   "source": [
    "## check job status"
   ]
  },
  {
   "cell_type": "code",
   "execution_count": null,
   "metadata": {
    "hidden": true
   },
   "outputs": [],
   "source": [
    "!dstat \\\n",
    "    --provider google-cls-v2 \\\n",
    "    --project \"${GOOGLE_PROJECT}\" \\\n",
    "    --location us-central1 \\\n",
    "    --jobs 'bcftools-n--kathleen-cardone--250227-151649-32' \\\n",
    "    --users \"*\" \\\n",
    "    --status 'RUNNING'"
   ]
  },
  {
   "cell_type": "code",
   "execution_count": null,
   "metadata": {
    "hidden": true
   },
   "outputs": [],
   "source": [
    "!dstat \\\n",
    "    --provider google-cls-v2 \\\n",
    "    --project \"${GOOGLE_PROJECT}\" \\\n",
    "    --location us-central1 \\\n",
    "    --jobs 'bcftools-n--kathleen-cardone--250227-151649-32' \\\n",
    "    --users \"*\" \\\n",
    "    --status 'SUCCESS' | wc -l"
   ]
  },
  {
   "cell_type": "code",
   "execution_count": null,
   "metadata": {
    "hidden": true
   },
   "outputs": [],
   "source": [
    "!dstat \\\n",
    "    --provider google-cls-v2 \\\n",
    "    --project \"${GOOGLE_PROJECT}\" \\\n",
    "    --location us-central1 \\\n",
    "    --jobs 'bcftools-n--kathleen-cardone--250227-151649-32' \\\n",
    "    --users \"*\" \\\n",
    "    --status 'FAILURE' | wc -l"
   ]
  },
  {
   "cell_type": "code",
   "execution_count": null,
   "metadata": {
    "hidden": true
   },
   "outputs": [],
   "source": [
    "%%bash\n",
    "dstat \\\n",
    "    --provider google-cls-v2 \\\n",
    "    --project \"${GOOGLE_PROJECT}\" \\\n",
    "    --location us-central1 \\\n",
    "    --jobs 'bcftools-n--kathleen-cardone--250227-151649-32' \\\n",
    "    --users \"*\" \\\n",
    "    --status 'FAILURE' | awk '{print $2}' | grep -v 'Name' | grep -v '-' | grep -v '^$' | awk '{print $1 - 1}' > norm_failed.txt\n",
    "tail norm_failed.txt"
   ]
  },
  {
   "cell_type": "code",
   "execution_count": null,
   "metadata": {
    "hidden": true
   },
   "outputs": [],
   "source": [
    "import pandas as pd\n",
    "failed_df = pd.read_csv('norm_failed.txt',header=None)\n",
    "failed_list=failed_df[0].tolist()\n",
    "print(len(failed_list))\n",
    "failed_list"
   ]
  },
  {
   "cell_type": "markdown",
   "metadata": {
    "hidden": true
   },
   "source": [
    "## rerun command for ones that ran out of memory (grr)"
   ]
  },
  {
   "cell_type": "code",
   "execution_count": null,
   "metadata": {
    "hidden": true
   },
   "outputs": [],
   "source": [
    "import os\n",
    "import pandas as pd\n",
    "bucket = os.getenv('WORKSPACE_BUCKET')\n",
    "USER_NAME = os.getenv('OWNER_EMAIL').split('@')[0].replace('.','-')\n",
    "%env USER_NAME={USER_NAME}\n",
    "JOB_NAME=f'bcftools-norm-{USER_NAME}'\n",
    "%env JOB_NAME={JOB_NAME}\n",
    "\n",
    "params_df = pd.DataFrame(data={\n",
    "    '--input INPUT_FILE': [f\"gs://fc-aou-datasets-controlled/v8/wgs/short_read/snpindel/exome/vcf/{x:010}.vcf.bgz\" for x in failed_list],\n",
    "    '--input INDEX': [f\"gs://fc-aou-datasets-controlled/v8/wgs/short_read/snpindel/exome/vcf/{x:010}.vcf.bgz.tbi\" for x in failed_list],\n",
    "    '--env FILE_NUM': [f\"{i:010}\" for i in failed_list],\n",
    "    '--output-recursive OUTPUT_DIR': [f\"{bucket}/split_multiallelic/\" for _ in range(115)]\n",
    "})\n",
    "\n",
    "PARAMETER_FILENAME = f'{JOB_NAME}_params.tsv'\n",
    "%env PARAMETER_FILENAME={PARAMETER_FILENAME}\n",
    "\n",
    "params_df.to_csv(PARAMETER_FILENAME, sep='\\t', index=False)\n",
    "\n",
    "job_id = !source ~/aou_dsub.bash; aou_dsub \\\n",
    "  --name \"${JOB_NAME}\" \\\n",
    "  --provider google-cls-v2 \\\n",
    "  --image \"gcr.io/ritchie-aou-psom-9015/bcftools:latest\" \\\n",
    "  --logging \"${WORKSPACE_BUCKET}/dsub_logs/bcftools/norm/\" \\\n",
    "  --disk-size 10 \\\n",
    "  --min-ram 128 \\\n",
    "  --tasks \"${PARAMETER_FILENAME}\" \\\n",
    "  --command 'bcftools norm -m- \\\n",
    "              $INPUT_FILE \\\n",
    "              -Oz -o ${OUTPUT_DIR}/exome_v8.${FILE_NUM}.exwas_genes_only.split_multiallelic.vcf.gz'\n",
    "\n",
    "print(\"\\n\".join(job_id))\n",
    "job_id = job_id[1].split(\" \")[-1]\n",
    "%env JOB_ID={job_id}"
   ]
  },
  {
   "cell_type": "markdown",
   "metadata": {
    "hidden": true
   },
   "source": [
    "## check status"
   ]
  },
  {
   "cell_type": "code",
   "execution_count": null,
   "metadata": {
    "hidden": true
   },
   "outputs": [],
   "source": [
    "!dstat \\\n",
    "    --provider google-cls-v2 \\\n",
    "    --project \"${GOOGLE_PROJECT}\" \\\n",
    "    --location us-central1 \\\n",
    "    --jobs 'bcftools-n--kathleen-cardone--250227-214322-30' \\\n",
    "    --users \"kathleen-cardone\" \\\n",
    "    --status '*'"
   ]
  },
  {
   "cell_type": "code",
   "execution_count": null,
   "metadata": {
    "hidden": true
   },
   "outputs": [],
   "source": [
    "!gsutil cp ${WORKSPACE_BUCKET}/dsub_logs/bcftools/norm/bcftools-n--kathleen-cardone--250227-200958-99.90-* ."
   ]
  },
  {
   "cell_type": "code",
   "execution_count": null,
   "metadata": {
    "hidden": true
   },
   "outputs": [],
   "source": [
    "!cat bcftools-n--kathleen-cardone--250227-200958-99.90-stderr.log"
   ]
  },
  {
   "cell_type": "code",
   "execution_count": null,
   "metadata": {
    "hidden": true
   },
   "outputs": [],
   "source": [
    "!gsutil -u $GOOGLE_PROJECT ls -lh gs://fc-aou-datasets-controlled/v8/wgs/short_read/snpindel/exome/vcf/ | tail"
   ]
  },
  {
   "cell_type": "code",
   "execution_count": null,
   "metadata": {
    "hidden": true
   },
   "outputs": [],
   "source": [
    "!gsutil ls -lh ${WORKSPACE_BUCKET}/split_multiallelic/ | tail"
   ]
  },
  {
   "cell_type": "code",
   "execution_count": null,
   "metadata": {
    "hidden": true
   },
   "outputs": [],
   "source": [
    "!gsutil ls ${WORKSPACE_BUCKET}/split_multiallelic/ | wc -l"
   ]
  },
  {
   "cell_type": "markdown",
   "metadata": {
    "heading_collapsed": true
   },
   "source": [
    "# change filename"
   ]
  },
  {
   "cell_type": "markdown",
   "metadata": {
    "hidden": true
   },
   "source": [
    "## run command"
   ]
  },
  {
   "cell_type": "code",
   "execution_count": null,
   "metadata": {
    "hidden": true
   },
   "outputs": [],
   "source": [
    "import os\n",
    "import pandas as pd\n",
    "bucket = os.getenv('WORKSPACE_BUCKET')\n",
    "USER_NAME = os.getenv('OWNER_EMAIL').split('@')[0].replace('.','-')\n",
    "%env USER_NAME={USER_NAME}\n",
    "JOB_NAME=f'norm_change_filename-{USER_NAME}'\n",
    "%env JOB_NAME={JOB_NAME}\n",
    "\n",
    "params_df = pd.DataFrame(data={\n",
    "    '--env FILE_NUM': [f\"{i:010}\" for i in range(1897, 18465)],\n",
    "    '--output-recursive OUTPUT_DIR': [f\"{bucket}/split_multiallelic/\" for _ in range(16568)]\n",
    "})\n",
    "\n",
    "PARAMETER_FILENAME = f'{JOB_NAME}_params.tsv'\n",
    "%env PARAMETER_FILENAME={PARAMETER_FILENAME}\n",
    "\n",
    "params_df.to_csv(PARAMETER_FILENAME, sep='\\t', index=False)\n",
    "\n",
    "job_id = !source ~/aou_dsub.bash; aou_dsub \\\n",
    "  --name \"${JOB_NAME}\" \\\n",
    "  --provider google-cls-v2 \\\n",
    "  --image \"gcr.io/ritchie-aou-psom-9015/bcftools:latest\" \\\n",
    "  --logging \"${WORKSPACE_BUCKET}/dsub_logs/bcftools/norm/\" \\\n",
    "  --disk-size 10 \\\n",
    "  --mount BUCKET=\"${WORKSPACE_BUCKET}\" \\\n",
    "  --tasks \"${PARAMETER_FILENAME}\" \\\n",
    "  --command 'cp $BUCKET/split_multiallelic/exome_v8.${FILE_NUM}.exwas_genes_only.split_multiallelic.vcf.gz $OUTPUT_DIR/exome_v8.${FILE_NUM}.split_multiallelic.vcf.gz'\n",
    "\n",
    "print(\"\\n\".join(job_id))\n",
    "job_id = job_id[1].split(\" \")[-1]\n",
    "%env JOB_ID={job_id}"
   ]
  },
  {
   "cell_type": "markdown",
   "metadata": {
    "hidden": true
   },
   "source": [
    "## check status"
   ]
  },
  {
   "cell_type": "code",
   "execution_count": null,
   "metadata": {
    "hidden": true
   },
   "outputs": [],
   "source": [
    "!dstat \\\n",
    "    --provider google-cls-v2 \\\n",
    "    --project \"${GOOGLE_PROJECT}\" \\\n",
    "    --location us-central1 \\\n",
    "    --jobs 'norm-chang--kathleen-cardone--250303-165225-93' \\\n",
    "    --users \"kathleen-cardone\" \\\n",
    "    --status 'FAILURE' | wc -l"
   ]
  },
  {
   "cell_type": "code",
   "execution_count": null,
   "metadata": {
    "hidden": true
   },
   "outputs": [],
   "source": [
    "!dstat \\\n",
    "    --provider google-cls-v2 \\\n",
    "    --project \"${GOOGLE_PROJECT}\" \\\n",
    "    --location us-central1 \\\n",
    "    --jobs 'norm-chang--kathleen-cardone--250303-165225-93' \\\n",
    "    --users \"kathleen-cardone\" \\\n",
    "    --status 'RUNNING' | wc -l"
   ]
  },
  {
   "cell_type": "code",
   "execution_count": null,
   "metadata": {
    "hidden": true
   },
   "outputs": [],
   "source": [
    "!dstat \\\n",
    "    --provider google-cls-v2 \\\n",
    "    --project \"${GOOGLE_PROJECT}\" \\\n",
    "    --location us-central1 \\\n",
    "    --jobs 'norm-chang--kathleen-cardone--250303-165225-93' \\\n",
    "    --users \"kathleen-cardone\" \\\n",
    "    --status 'SUCCESS' | wc -l"
   ]
  },
  {
   "cell_type": "markdown",
   "metadata": {
    "heading_collapsed": true
   },
   "source": [
    "# bcftools Sites Only & Pass QC"
   ]
  },
  {
   "cell_type": "markdown",
   "metadata": {
    "hidden": true
   },
   "source": [
    "## Command"
   ]
  },
  {
   "cell_type": "code",
   "execution_count": null,
   "metadata": {
    "hidden": true
   },
   "outputs": [],
   "source": [
    "import os\n",
    "import pandas as pd\n",
    "bucket=os.getenv('WORKSPACE_BUCKET')\n",
    "USER_NAME = os.getenv('OWNER_EMAIL').split('@')[0].replace('.','-')\n",
    "%env USER_NAME={USER_NAME}\n",
    "JOB_NAME=f'bcftools-view-{USER_NAME}'\n",
    "%env JOB_NAME={JOB_NAME}\n",
    "\n",
    "params_df = pd.DataFrame(data={\n",
    "    '--env FILE_NUM': [f\"{i:010}\" for i in range(0, 18465)],\n",
    "    '--output-recursive OUTPUT_DIR': [f\"{bucket}/sites_only_pass_QC/\" for _ in range(18465)]\n",
    "})\n",
    "\n",
    "PARAMETER_FILENAME = f'{JOB_NAME}_params.tsv'\n",
    "%env PARAMETER_FILENAME={PARAMETER_FILENAME}\n",
    "\n",
    "params_df.to_csv(PARAMETER_FILENAME, sep='\\t', index=False)\n",
    "\n",
    "job_id = !source ~/aou_dsub.bash; aou_dsub \\\n",
    "  --name \"${JOB_NAME}\" \\\n",
    "  --provider google-cls-v2 \\\n",
    "  --image \"gcr.io/ritchie-aou-psom-9015/bcftools:latest\" \\\n",
    "  --logging \"${WORKSPACE_BUCKET}/dsub_logs/bcftools/view/\" \\\n",
    "  --mount BUCKET=\"${WORKSPACE_BUCKET}\" \\\n",
    "  --disk-size 10 \\\n",
    "  --min-ram 128 \\\n",
    "  --tasks \"${PARAMETER_FILENAME}\" \\\n",
    "  --command 'bcftools view -G -f .,PASS \\\n",
    "              $BUCKET/split_multiallelic/exome_v8.${FILE_NUM}.split_multiallelic.vcf.gz \\\n",
    "              -Oz -o $OUTPUT_DIR/exome_v8.${FILE_NUM}.split_multiallelic.sites_only.pass_qc.vcf.gz'\n",
    "\n",
    "print(\"\\n\".join(job_id))\n",
    "job_id = job_id[1].split(\" \")[-1]\n",
    "%env JOB_ID={job_id}"
   ]
  },
  {
   "cell_type": "markdown",
   "metadata": {
    "hidden": true
   },
   "source": [
    "## check job status"
   ]
  },
  {
   "cell_type": "code",
   "execution_count": null,
   "metadata": {
    "hidden": true
   },
   "outputs": [],
   "source": [
    "!dstat \\\n",
    "    --provider google-cls-v2 \\\n",
    "    --project \"${GOOGLE_PROJECT}\" \\\n",
    "    --location us-central1 \\\n",
    "    --jobs 'bcftools-v--kathleen-cardone--250303-193616-32' \\\n",
    "    --users \"*\" \\\n",
    "    --status 'SUCCESS' | wc -l"
   ]
  },
  {
   "cell_type": "code",
   "execution_count": null,
   "metadata": {
    "hidden": true
   },
   "outputs": [],
   "source": [
    "!dstat \\\n",
    "    --provider google-cls-v2 \\\n",
    "    --project \"${GOOGLE_PROJECT}\" \\\n",
    "    --location us-central1 \\\n",
    "    --jobs 'bcftools-v--kathleen-cardone--250303-193616-32' \\\n",
    "    --users \"*\" \\\n",
    "    --status 'FAILURE' | wc -l"
   ]
  },
  {
   "cell_type": "code",
   "execution_count": null,
   "metadata": {
    "hidden": true
   },
   "outputs": [],
   "source": [
    "!dstat \\\n",
    "    --provider google-cls-v2 \\\n",
    "    --project \"${GOOGLE_PROJECT}\" \\\n",
    "    --location us-central1 \\\n",
    "    --jobs 'bcftools-v--kathleen-cardone--250303-193616-32' \\\n",
    "    --users \"*\" \\\n",
    "    --status 'RUNNING' | wc -l"
   ]
  },
  {
   "cell_type": "markdown",
   "metadata": {
    "hidden": true
   },
   "source": [
    "## rerun files that failed bc AOU is stupid"
   ]
  },
  {
   "cell_type": "code",
   "execution_count": null,
   "metadata": {
    "hidden": true
   },
   "outputs": [],
   "source": [
    "import pandas as pd\n",
    "failed_df = pd.read_csv('sites_only_pass_qc.failed_numbers.txt',header=None)\n",
    "failed_list=failed_df[0].tolist()\n",
    "print(len(failed_list))"
   ]
  },
  {
   "cell_type": "code",
   "execution_count": null,
   "metadata": {
    "hidden": true
   },
   "outputs": [],
   "source": [
    "import os\n",
    "import pandas as pd\n",
    "bucket=os.getenv('WORKSPACE_BUCKET')\n",
    "USER_NAME = os.getenv('OWNER_EMAIL').split('@')[0].replace('.','-')\n",
    "%env USER_NAME={USER_NAME}\n",
    "JOB_NAME=f'bcftools-view-{USER_NAME}'\n",
    "%env JOB_NAME={JOB_NAME}\n",
    "\n",
    "params_df = pd.DataFrame(data={\n",
    "    '--env FILE_NUM': [f\"{i:010}\" for i in failed_list],\n",
    "    '--output-recursive OUTPUT_DIR': [f\"{bucket}/sites_only_pass_QC/\" for _ in range(139)]\n",
    "})\n",
    "\n",
    "PARAMETER_FILENAME = f'{JOB_NAME}_params.tsv'\n",
    "%env PARAMETER_FILENAME={PARAMETER_FILENAME}\n",
    "\n",
    "params_df.to_csv(PARAMETER_FILENAME, sep='\\t', index=False)\n",
    "\n",
    "job_id = !source ~/aou_dsub.bash; aou_dsub \\\n",
    "  --name \"${JOB_NAME}\" \\\n",
    "  --provider google-cls-v2 \\\n",
    "  --image \"gcr.io/ritchie-aou-psom-9015/bcftools:latest\" \\\n",
    "  --logging \"${WORKSPACE_BUCKET}/dsub_logs/bcftools/view/\" \\\n",
    "  --mount BUCKET=\"${WORKSPACE_BUCKET}\" \\\n",
    "  --disk-size 10 \\\n",
    "  --min-ram 128 \\\n",
    "  --tasks \"${PARAMETER_FILENAME}\" \\\n",
    "  --command 'bcftools view -G -f .,PASS \\\n",
    "              $BUCKET/split_multiallelic/exome_v8.${FILE_NUM}.split_multiallelic.vcf.gz \\\n",
    "              -Oz -o $OUTPUT_DIR/exome_v8.${FILE_NUM}.split_multiallelic.sites_only.pass_qc.vcf.gz'\n",
    "\n",
    "print(\"\\n\".join(job_id))\n",
    "job_id = job_id[1].split(\" \")[-1]\n",
    "%env JOB_ID={job_id}"
   ]
  },
  {
   "cell_type": "markdown",
   "metadata": {
    "hidden": true
   },
   "source": [
    "## check status"
   ]
  },
  {
   "cell_type": "code",
   "execution_count": null,
   "metadata": {
    "hidden": true
   },
   "outputs": [],
   "source": [
    "!dstat \\\n",
    "    --provider google-cls-v2 \\\n",
    "    --project \"${GOOGLE_PROJECT}\" \\\n",
    "    --location us-central1 \\\n",
    "    --jobs 'bcftools-v--kathleen-cardone--250304-150138-81' \\\n",
    "    --users \"kathleen-cardone\" \\\n",
    "    --status 'FAILURE' | wc -l"
   ]
  },
  {
   "cell_type": "code",
   "execution_count": null,
   "metadata": {
    "hidden": true
   },
   "outputs": [],
   "source": [
    "!dstat \\\n",
    "    --provider google-cls-v2 \\\n",
    "    --project \"${GOOGLE_PROJECT}\" \\\n",
    "    --location us-central1 \\\n",
    "    --jobs 'bcftools-v--kathleen-cardone--250304-150138-81' \\\n",
    "    --users \"kathleen-cardone\" \\\n",
    "    --status 'RUNNING' | wc -l"
   ]
  },
  {
   "cell_type": "code",
   "execution_count": null,
   "metadata": {
    "hidden": true
   },
   "outputs": [],
   "source": [
    "!dstat \\\n",
    "    --provider google-cls-v2 \\\n",
    "    --project \"${GOOGLE_PROJECT}\" \\\n",
    "    --location us-central1 \\\n",
    "    --jobs 'bcftools-v--kathleen-cardone--250304-150138-81' \\\n",
    "    --users \"kathleen-cardone\" \\\n",
    "    --status 'SUCCESS' | wc -l"
   ]
  },
  {
   "cell_type": "code",
   "execution_count": null,
   "metadata": {
    "hidden": true
   },
   "outputs": [],
   "source": [
    "!gsutil ls ${WORKSPACE_BUCKET}/sites_only_pass_QC/ | grep '.gz' | wc -l"
   ]
  },
  {
   "cell_type": "markdown",
   "metadata": {
    "heading_collapsed": true
   },
   "source": [
    "# bcftools Pass QC Only (for PLINK files)"
   ]
  },
  {
   "cell_type": "markdown",
   "metadata": {
    "hidden": true
   },
   "source": [
    "## command"
   ]
  },
  {
   "cell_type": "code",
   "execution_count": null,
   "metadata": {
    "hidden": true
   },
   "outputs": [],
   "source": [
    "import pandas as pd\n",
    "import os\n",
    "bucket=os.getenv('WORKSPACE_BUCKET')\n",
    "USER_NAME = os.getenv('OWNER_EMAIL').split('@')[0].replace('.','-')\n",
    "%env USER_NAME={USER_NAME}\n",
    "JOB_NAME=f'bcftools-view-{USER_NAME}'\n",
    "%env JOB_NAME={JOB_NAME}\n",
    "\n",
    "params_df = pd.DataFrame(data={\n",
    "    '--env FILE_NUM': [f\"{i:010}\" for i in range(0, 18465)],\n",
    "    '--output-recursive OUTPUT_DIR': [f\"{bucket}/pass_QC_VCF/\" for _ in range(18465)]\n",
    "})\n",
    "\n",
    "PARAMETER_FILENAME = f'{JOB_NAME}_params.tsv'\n",
    "%env PARAMETER_FILENAME={PARAMETER_FILENAME}\n",
    "\n",
    "params_df.to_csv(PARAMETER_FILENAME, sep='\\t', index=False)\n",
    "\n",
    "job_id = !source ~/aou_dsub.bash; aou_dsub \\\n",
    "  --name \"${JOB_NAME}\" \\\n",
    "  --provider google-cls-v2 \\\n",
    "  --image \"gcr.io/ritchie-aou-psom-9015/bcftools:latest\" \\\n",
    "  --logging \"${WORKSPACE_BUCKET}/dsub_logs/bcftools/view/\" \\\n",
    "  --mount BUCKET=\"${WORKSPACE_BUCKET}\" \\\n",
    "  --disk-size 10 \\\n",
    "  --min-ram 128 \\\n",
    "  --tasks \"${PARAMETER_FILENAME}\" \\\n",
    "  --command 'bcftools view -f .,PASS \\\n",
    "              $BUCKET/split_multiallelic/exome_v8.${FILE_NUM}.split_multiallelic.vcf.gz \\\n",
    "              -Oz -o $OUTPUT_DIR/exome_v8.${FILE_NUM}.split_multiallelic.pass_qc.vcf.gz'\n",
    "\n",
    "print(\"\\n\".join(job_id))\n",
    "job_id = job_id[1].split(\" \")[-1]\n",
    "%env JOB_ID={job_id}"
   ]
  },
  {
   "cell_type": "markdown",
   "metadata": {
    "hidden": true
   },
   "source": [
    "## check job status"
   ]
  },
  {
   "cell_type": "code",
   "execution_count": null,
   "metadata": {
    "hidden": true
   },
   "outputs": [],
   "source": [
    "!dstat \\\n",
    "    --provider google-cls-v2 \\\n",
    "    --project \"$GOOGLE_PROJECT\" \\\n",
    "    --location us-central1 \\\n",
    "    --jobs \"bcftools-v--kathleen-cardone--250228-145821-62\" \\\n",
    "    --users \"kathleen-cardone\" \\\n",
    "    --status '*'"
   ]
  },
  {
   "cell_type": "code",
   "execution_count": null,
   "metadata": {
    "hidden": true
   },
   "outputs": [],
   "source": [
    "!dstat \\\n",
    "    --provider google-cls-v2 \\\n",
    "    --project \"$GOOGLE_PROJECT\" \\\n",
    "    --location us-central1 \\\n",
    "    --jobs \"bcftools-v--kathleen-cardone--250228-145821-62\" \\\n",
    "    --users \"kathleen-cardone\" \\\n",
    "    --status 'FAILURE' | wc -l"
   ]
  },
  {
   "cell_type": "code",
   "execution_count": null,
   "metadata": {
    "hidden": true
   },
   "outputs": [],
   "source": [
    "!dstat \\\n",
    "    --provider google-cls-v2 \\\n",
    "    --project \"$GOOGLE_PROJECT\" \\\n",
    "    --location us-central1 \\\n",
    "    --jobs \"bcftools-v--kathleen-cardone--250228-145821-62\" \\\n",
    "    --users \"kathleen-cardone\" \\\n",
    "    --status 'RUNNING' | wc -l"
   ]
  },
  {
   "cell_type": "code",
   "execution_count": null,
   "metadata": {
    "hidden": true
   },
   "outputs": [],
   "source": [
    "!dstat \\\n",
    "    --provider google-cls-v2 \\\n",
    "    --project \"$GOOGLE_PROJECT\" \\\n",
    "    --location us-central1 \\\n",
    "    --jobs \"bcftools-v--kathleen-cardone--250228-145821-62\" \\\n",
    "    --users \"kathleen-cardone\" \\\n",
    "    --status 'SUCCESS' | wc -l"
   ]
  },
  {
   "cell_type": "markdown",
   "metadata": {
    "heading_collapsed": true
   },
   "source": [
    "# index sites only VCF files for merge"
   ]
  },
  {
   "cell_type": "markdown",
   "metadata": {
    "hidden": true
   },
   "source": [
    "## command"
   ]
  },
  {
   "cell_type": "code",
   "execution_count": null,
   "metadata": {
    "hidden": true
   },
   "outputs": [],
   "source": [
    "import pandas as pd\n",
    "import os\n",
    "bucket=os.getenv('WORKSPACE_BUCKET')\n",
    "USER_NAME = os.getenv('OWNER_EMAIL').split('@')[0].replace('.','-')\n",
    "%env USER_NAME={USER_NAME}\n",
    "JOB_NAME=f'index_sites_only-{USER_NAME}'\n",
    "%env JOB_NAME={JOB_NAME}\n",
    "\n",
    "params_df = pd.DataFrame(data={\n",
    "    '--env FILE_NUM': [f\"{i:010}\" for i in range(0, 18465)],\n",
    "    '--output-recursive OUTPUT_DIR': [f\"{bucket}/sites_only_pass_QC/\" for _ in range(18465)]\n",
    "})\n",
    "\n",
    "PARAMETER_FILENAME = f'{JOB_NAME}_params.tsv'\n",
    "%env PARAMETER_FILENAME={PARAMETER_FILENAME}\n",
    "\n",
    "params_df.to_csv(PARAMETER_FILENAME, sep='\\t', index=False)\n",
    "\n",
    "job_id = !source ~/aou_dsub.bash; aou_dsub \\\n",
    "  --name \"${JOB_NAME}\" \\\n",
    "  --provider google-cls-v2 \\\n",
    "  --image \"gcr.io/ritchie-aou-psom-9015/bcftools:latest\" \\\n",
    "  --logging \"${WORKSPACE_BUCKET}/dsub_logs/bcftools/index/\" \\\n",
    "  --mount BUCKET=\"${WORKSPACE_BUCKET}\" \\\n",
    "  --disk-size 10 \\\n",
    "  --tasks \"${PARAMETER_FILENAME}\" \\\n",
    "  --command 'bcftools index -t \\\n",
    "              $BUCKET/sites_only_pass_QC/exome_v8.${FILE_NUM}.split_multiallelic.sites_only.pass_qc.vcf.gz \\\n",
    "              -o $OUTPUT_DIR/exome_v8.${FILE_NUM}.split_multiallelic.sites_only.pass_qc.vcf.gz.tbi'\n",
    "\n",
    "print(\"\\n\".join(job_id))\n",
    "job_id = job_id[1].split(\" \")[-1]\n",
    "%env JOB_ID={job_id}"
   ]
  },
  {
   "cell_type": "markdown",
   "metadata": {
    "hidden": true
   },
   "source": [
    "## get status"
   ]
  },
  {
   "cell_type": "code",
   "execution_count": null,
   "metadata": {
    "hidden": true
   },
   "outputs": [],
   "source": [
    "!dstat \\\n",
    "    --provider google-cls-v2 \\\n",
    "    --project \"$GOOGLE_PROJECT\" \\\n",
    "    --location us-central1 \\\n",
    "    --jobs \"index-site--kathleen-cardone--250304-175527-62\" \\\n",
    "    --users \"kathleen-cardone\" \\\n",
    "    --status 'FAILURE' | wc -l"
   ]
  },
  {
   "cell_type": "code",
   "execution_count": null,
   "metadata": {
    "hidden": true
   },
   "outputs": [],
   "source": [
    "!dstat \\\n",
    "    --provider google-cls-v2 \\\n",
    "    --project \"$GOOGLE_PROJECT\" \\\n",
    "    --location us-central1 \\\n",
    "    --jobs \"index-site--kathleen-cardone--250304-175527-62\" \\\n",
    "    --users \"kathleen-cardone\" \\\n",
    "    --status 'RUNNING' | wc -l"
   ]
  },
  {
   "cell_type": "code",
   "execution_count": null,
   "metadata": {
    "hidden": true
   },
   "outputs": [],
   "source": [
    "!dstat \\\n",
    "    --provider google-cls-v2 \\\n",
    "    --project \"$GOOGLE_PROJECT\" \\\n",
    "    --location us-central1 \\\n",
    "    --jobs \"index-site--kathleen-cardone--250304-175527-62\" \\\n",
    "    --users \"kathleen-cardone\" \\\n",
    "    --status 'SUCCESS' | wc -l"
   ]
  },
  {
   "cell_type": "markdown",
   "metadata": {
    "heading_collapsed": true
   },
   "source": [
    "# index pass QC VCF files for merge"
   ]
  },
  {
   "cell_type": "markdown",
   "metadata": {
    "hidden": true
   },
   "source": [
    "## command"
   ]
  },
  {
   "cell_type": "code",
   "execution_count": null,
   "metadata": {
    "hidden": true
   },
   "outputs": [],
   "source": [
    "import pandas as pd\n",
    "import os\n",
    "bucket=os.getenv('WORKSPACE_BUCKET')\n",
    "USER_NAME = os.getenv('OWNER_EMAIL').split('@')[0].replace('.','-')\n",
    "%env USER_NAME={USER_NAME}\n",
    "JOB_NAME=f'index_pass_qc-{USER_NAME}'\n",
    "%env JOB_NAME={JOB_NAME}\n",
    "\n",
    "params_df = pd.DataFrame(data={\n",
    "    '--env FILE_NUM': [f\"{i:010}\" for i in range(0, 18465)],\n",
    "    '--output-recursive OUTPUT_DIR': [f\"{bucket}/pass_QC_VCF/\" for _ in range(18465)]\n",
    "})\n",
    "\n",
    "PARAMETER_FILENAME = f'{JOB_NAME}_params.tsv'\n",
    "%env PARAMETER_FILENAME={PARAMETER_FILENAME}\n",
    "\n",
    "params_df.to_csv(PARAMETER_FILENAME, sep='\\t', index=False)\n",
    "\n",
    "job_id = !source ~/aou_dsub.bash; aou_dsub \\\n",
    "  --name \"${JOB_NAME}\" \\\n",
    "  --provider google-cls-v2 \\\n",
    "  --image \"gcr.io/ritchie-aou-psom-9015/bcftools:latest\" \\\n",
    "  --logging \"${WORKSPACE_BUCKET}/dsub_logs/bcftools/index/\" \\\n",
    "  --mount BUCKET=\"${WORKSPACE_BUCKET}\" \\\n",
    "  --disk-size 10 \\\n",
    "  --tasks \"${PARAMETER_FILENAME}\" \\\n",
    "  --command 'bcftools index -t \\\n",
    "              $BUCKET/pass_QC_VCF/exome_v8.${FILE_NUM}.split_multiallelic.pass_qc.vcf.gz \\\n",
    "              -o $OUTPUT_DIR/exome_v8.${FILE_NUM}.split_multiallelic.pass_qc.vcf.gz.tbi'\n",
    "\n",
    "print(\"\\n\".join(job_id))\n",
    "job_id = job_id[1].split(\" \")[-1]\n",
    "%env JOB_ID={job_id}"
   ]
  },
  {
   "cell_type": "markdown",
   "metadata": {
    "hidden": true
   },
   "source": [
    "## check status"
   ]
  },
  {
   "cell_type": "code",
   "execution_count": null,
   "metadata": {
    "hidden": true
   },
   "outputs": [],
   "source": [
    "!dstat \\\n",
    "    --provider google-cls-v2 \\\n",
    "    --project \"$GOOGLE_PROJECT\" \\\n",
    "    --location us-central1 \\\n",
    "    --jobs \"index-pass--kathleen-cardone--250311-131326-16\" \\\n",
    "    --users \"kathleen-cardone\" \\\n",
    "    --status '*'"
   ]
  },
  {
   "cell_type": "code",
   "execution_count": null,
   "metadata": {
    "hidden": true
   },
   "outputs": [],
   "source": [
    "!dstat \\\n",
    "    --provider google-cls-v2 \\\n",
    "    --project \"$GOOGLE_PROJECT\" \\\n",
    "    --location us-central1 \\\n",
    "    --jobs \"index-pass--kathleen-cardone--250311-131326-16\" \\\n",
    "    --users \"kathleen-cardone\" \\\n",
    "    --status 'FAILURE' | wc -l"
   ]
  },
  {
   "cell_type": "code",
   "execution_count": null,
   "metadata": {
    "hidden": true
   },
   "outputs": [],
   "source": [
    "!dstat \\\n",
    "    --provider google-cls-v2 \\\n",
    "    --project \"$GOOGLE_PROJECT\" \\\n",
    "    --location us-central1 \\\n",
    "    --jobs \"index-pass--kathleen-cardone--250311-131326-16\" \\\n",
    "    --users \"kathleen-cardone\" \\\n",
    "    --status 'RUNNING' | wc -l"
   ]
  },
  {
   "cell_type": "code",
   "execution_count": null,
   "metadata": {
    "hidden": true
   },
   "outputs": [],
   "source": [
    "!dstat \\\n",
    "    --provider google-cls-v2 \\\n",
    "    --project \"$GOOGLE_PROJECT\" \\\n",
    "    --location us-central1 \\\n",
    "    --jobs \"index-pass--kathleen-cardone--250311-131326-16\" \\\n",
    "    --users \"kathleen-cardone\" \\\n",
    "    --status 'SUCCESS' | wc -l"
   ]
  },
  {
   "cell_type": "code",
   "execution_count": null,
   "metadata": {
    "hidden": true
   },
   "outputs": [],
   "source": [
    "!gsutil ls ${WORKSPACE_BUCKET}/pass_QC_VCF/*.tbi | head"
   ]
  },
  {
   "cell_type": "markdown",
   "metadata": {
    "hidden": true
   },
   "source": [
    "## redo chunk that failed"
   ]
  },
  {
   "cell_type": "code",
   "execution_count": null,
   "metadata": {
    "hidden": true
   },
   "outputs": [],
   "source": [
    "import pandas as pd\n",
    "import os\n",
    "bucket=os.getenv('WORKSPACE_BUCKET')\n",
    "USER_NAME = os.getenv('OWNER_EMAIL').split('@')[0].replace('.','-')\n",
    "%env USER_NAME={USER_NAME}\n",
    "JOB_NAME=f'index_pass_qc-{USER_NAME}'\n",
    "%env JOB_NAME={JOB_NAME}\n",
    "\n",
    "params_df = pd.DataFrame(data={\n",
    "    '--env FILE_NUM': [f\"{i:010}\" for i in [3307]],\n",
    "    '--output-recursive OUTPUT_DIR': [f\"{bucket}/pass_QC_VCF/\" for _ in range(1)]\n",
    "})\n",
    "\n",
    "PARAMETER_FILENAME = f'{JOB_NAME}_params.tsv'\n",
    "%env PARAMETER_FILENAME={PARAMETER_FILENAME}\n",
    "\n",
    "params_df.to_csv(PARAMETER_FILENAME, sep='\\t', index=False)\n",
    "\n",
    "job_id = !source ~/aou_dsub.bash; aou_dsub \\\n",
    "  --name \"${JOB_NAME}\" \\\n",
    "  --provider google-cls-v2 \\\n",
    "  --image \"gcr.io/ritchie-aou-psom-9015/bcftools:latest\" \\\n",
    "  --logging \"${WORKSPACE_BUCKET}/dsub_logs/bcftools/index/\" \\\n",
    "  --mount BUCKET=\"${WORKSPACE_BUCKET}\" \\\n",
    "  --disk-size 10 \\\n",
    "  --tasks \"${PARAMETER_FILENAME}\" \\\n",
    "  --command 'bcftools index -t \\\n",
    "              $BUCKET/pass_QC_VCF/exome_v8.${FILE_NUM}.split_multiallelic.pass_qc.vcf.gz \\\n",
    "              -o $OUTPUT_DIR/exome_v8.${FILE_NUM}.split_multiallelic.pass_qc.vcf.gz.tbi'\n",
    "\n",
    "print(\"\\n\".join(job_id))\n",
    "job_id = job_id[1].split(\" \")[-1]\n",
    "%env JOB_ID={job_id}"
   ]
  },
  {
   "cell_type": "markdown",
   "metadata": {
    "hidden": true
   },
   "source": [
    "## check status"
   ]
  },
  {
   "cell_type": "code",
   "execution_count": null,
   "metadata": {
    "hidden": true
   },
   "outputs": [],
   "source": [
    "!dstat \\\n",
    "    --provider google-cls-v2 \\\n",
    "    --project \"$GOOGLE_PROJECT\" \\\n",
    "    --location us-central1 \\\n",
    "    --jobs \"index-pass--kathleen-cardone--250304-141347-83\" \\\n",
    "    --users \"kathleen-cardone\" \\\n",
    "    --status '*'"
   ]
  },
  {
   "cell_type": "code",
   "execution_count": null,
   "metadata": {
    "hidden": true
   },
   "outputs": [],
   "source": [
    "!gsutil ls ${WORKSPACE_BUCKET}/pass_QC_VCF/*.tbi | wc -l"
   ]
  },
  {
   "cell_type": "markdown",
   "metadata": {
    "heading_collapsed": true
   },
   "source": [
    "# merge sites only vcf files by chromosome"
   ]
  },
  {
   "cell_type": "markdown",
   "metadata": {
    "hidden": true
   },
   "source": [
    "## command"
   ]
  },
  {
   "cell_type": "code",
   "execution_count": null,
   "metadata": {
    "hidden": true
   },
   "outputs": [],
   "source": [
    "!gsutil ls -lh ${WORKSPACE_BUCKET}/sites_only_pass_QC/ | tail"
   ]
  },
  {
   "cell_type": "code",
   "execution_count": null,
   "metadata": {
    "hidden": true
   },
   "outputs": [],
   "source": [
    "!wc -l AOU_v8.srWGS_exome_vcf.file_map/AOU_v8.srWGS_exome_vcf.chr1.sites_only_pass_qc.merge_list.txt"
   ]
  },
  {
   "cell_type": "code",
   "execution_count": null,
   "metadata": {
    "hidden": true
   },
   "outputs": [],
   "source": [
    "import os\n",
    "import pandas as pd\n",
    "bucket=os.getenv('WORKSPACE_BUCKET')\n",
    "USER_NAME = os.getenv('OWNER_EMAIL').split('@')[0].replace('.','-')\n",
    "%env USER_NAME={USER_NAME}\n",
    "JOB_NAME=f'sites_only_merge-{USER_NAME}'\n",
    "%env JOB_NAME={JOB_NAME}\n",
    "\n",
    "params_df = pd.DataFrame(data={\n",
    "    '--env CHR': list(range(1,23)),\n",
    "    '--output-recursive OUTPUT_DIR': [f\"{bucket}/sites_only_pass_QC/\" for _ in range(22)]\n",
    "})\n",
    "PARAMETER_FILENAME = f'{JOB_NAME}_params.tsv'\n",
    "%env PARAMETER_FILENAME={PARAMETER_FILENAME}\n",
    "\n",
    "params_df.to_csv(PARAMETER_FILENAME, sep='\\t', index=False)\n",
    "\n",
    "job_id = !source ~/aou_dsub.bash; aou_dsub \\\n",
    "  --name \"${JOB_NAME}\" \\\n",
    "  --provider google-cls-v2 \\\n",
    "  --image \"gcr.io/ritchie-aou-psom-9015/bcftools:latest\" \\\n",
    "  --logging \"${WORKSPACE_BUCKET}/dsub_logs/bcftools/merge/\" \\\n",
    "  --mount BUCKET=\"${WORKSPACE_BUCKET}\" \\\n",
    "  --disk-size 3 \\\n",
    "  --tasks \"${PARAMETER_FILENAME}\" \\\n",
    "  --command 'bcftools merge -l $BUCKET/sites_only_pass_QC/AOU_v8.srWGS_exome_vcf.chr${CHR}.sites_only_pass_qc.merge_list.txt --force-samples \\\n",
    "              -Oz -o $OUTPUT_DIR/exome_v8.chr${CHR}.split_multiallelic.sites_only.pass_qc.vcf.gz'\n",
    "\n",
    "print(\"\\n\".join(job_id))\n",
    "job_id = job_id[1].split(\" \")[-1]\n",
    "%env JOB_ID={job_id}"
   ]
  },
  {
   "cell_type": "markdown",
   "metadata": {
    "hidden": true
   },
   "source": [
    "## check status"
   ]
  },
  {
   "cell_type": "code",
   "execution_count": null,
   "metadata": {
    "hidden": true
   },
   "outputs": [],
   "source": [
    "!dstat \\\n",
    "    --provider google-cls-v2 \\\n",
    "    --project \"$GOOGLE_PROJECT\" \\\n",
    "    --location us-central1 \\\n",
    "    --jobs \"sites-only--kathleen-cardone--250304-190259-66\" \\\n",
    "    --users \"kathleen-cardone\" \\\n",
    "    --status 'FAILURE'"
   ]
  },
  {
   "cell_type": "code",
   "execution_count": null,
   "metadata": {
    "hidden": true
   },
   "outputs": [],
   "source": [
    "!gsutil cp ${WORKSPACE_BUCKET}/dsub_logs/bcftools/merge/sites-only--kathleen-cardone--250304-190259-66.19-* ."
   ]
  },
  {
   "cell_type": "code",
   "execution_count": null,
   "metadata": {
    "hidden": true
   },
   "outputs": [],
   "source": [
    "!cat sites-only--kathleen-cardone--250304-190259-66.19-stderr.log"
   ]
  },
  {
   "cell_type": "code",
   "execution_count": null,
   "metadata": {
    "hidden": true
   },
   "outputs": [],
   "source": [
    "!cat sites-only--kathleen-cardone--250304-190259-66.19-stdout.log"
   ]
  },
  {
   "cell_type": "code",
   "execution_count": null,
   "metadata": {
    "hidden": true
   },
   "outputs": [],
   "source": [
    "!gsutil cp gs://fc-secure-5e490ca2-d5ae-40a3-aa5e-7355e31ab9cc/sites_only_pass_QC/exome_v8.0000017069.split_multiallelic.sites_only.pass_qc.vcf.gz ."
   ]
  },
  {
   "cell_type": "code",
   "execution_count": null,
   "metadata": {
    "hidden": true
   },
   "outputs": [],
   "source": [
    "!zcat exome_v8.0000017069.split_multiallelic.sites_only.pass_qc.vcf.gz | tail"
   ]
  },
  {
   "cell_type": "code",
   "execution_count": null,
   "metadata": {
    "hidden": true
   },
   "outputs": [],
   "source": [
    "!gzip -t exome_v8.0000017069.split_multiallelic.sites_only.pass_qc.vcf.gz"
   ]
  },
  {
   "cell_type": "code",
   "execution_count": null,
   "metadata": {
    "hidden": true
   },
   "outputs": [],
   "source": [
    "!gsutil ls gs://fc-secure-5e490ca2-d5ae-40a3-aa5e-7355e31ab9cc/sites_only_pass_QC/exome_v8.0000012180*"
   ]
  },
  {
   "cell_type": "code",
   "execution_count": null,
   "metadata": {
    "hidden": true
   },
   "outputs": [],
   "source": [
    "!gsutil ls gs://fc-secure-5e490ca2-d5ae-40a3-aa5e-7355e31ab9cc/sites_only_pass_QC/exome_v8.0000017069*"
   ]
  },
  {
   "cell_type": "markdown",
   "metadata": {
    "hidden": true
   },
   "source": [
    "## redo failed chromosomes"
   ]
  },
  {
   "cell_type": "code",
   "execution_count": null,
   "metadata": {
    "hidden": true
   },
   "outputs": [],
   "source": [
    "import os\n",
    "import pandas as pd\n",
    "bucket=os.getenv('WORKSPACE_BUCKET')\n",
    "USER_NAME = os.getenv('OWNER_EMAIL').split('@')[0].replace('.','-')\n",
    "%env USER_NAME={USER_NAME}\n",
    "JOB_NAME=f'sites_only_merge-{USER_NAME}'\n",
    "%env JOB_NAME={JOB_NAME}\n",
    "\n",
    "params_df = pd.DataFrame(data={\n",
    "    '--env CHR': [1,2,3,6,11,12,17,19],\n",
    "    '--output-recursive OUTPUT_DIR': [f\"{bucket}/sites_only_pass_QC/\" for _ in range(8)]\n",
    "})\n",
    "PARAMETER_FILENAME = f'{JOB_NAME}_params.tsv'\n",
    "%env PARAMETER_FILENAME={PARAMETER_FILENAME}\n",
    "\n",
    "params_df.to_csv(PARAMETER_FILENAME, sep='\\t', index=False)\n",
    "\n",
    "job_id = !source ~/aou_dsub.bash; aou_dsub \\\n",
    "  --name \"${JOB_NAME}\" \\\n",
    "  --provider google-cls-v2 \\\n",
    "  --image \"gcr.io/ritchie-aou-psom-9015/bcftools:latest\" \\\n",
    "  --logging \"${WORKSPACE_BUCKET}/dsub_logs/bcftools/merge/\" \\\n",
    "  --mount BUCKET=\"${WORKSPACE_BUCKET}\" \\\n",
    "  --disk-size 3 \\\n",
    "  --min-ram 15 \\\n",
    "  --tasks \"${PARAMETER_FILENAME}\" \\\n",
    "  --command 'bcftools merge -l $BUCKET/sites_only_pass_QC/AOU_v8.srWGS_exome_vcf.chr${CHR}.sites_only_pass_qc.merge_list.txt --force-samples \\\n",
    "              -Oz -o $OUTPUT_DIR/exome_v8.chr${CHR}.split_multiallelic.sites_only.pass_qc.vcf.gz'\n",
    "\n",
    "print(\"\\n\".join(job_id))\n",
    "job_id = job_id[1].split(\" \")[-1]\n",
    "%env JOB_ID={job_id}"
   ]
  },
  {
   "cell_type": "markdown",
   "metadata": {
    "hidden": true
   },
   "source": [
    "## check status"
   ]
  },
  {
   "cell_type": "code",
   "execution_count": null,
   "metadata": {
    "hidden": true
   },
   "outputs": [],
   "source": [
    "!dstat \\\n",
    "    --provider google-cls-v2 \\\n",
    "    --project \"$GOOGLE_PROJECT\" \\\n",
    "    --location us-central1 \\\n",
    "    --jobs \"sites-only--kathleen-cardone--250305-150319-50\" \\\n",
    "    --users \"kathleen-cardone\" \\\n",
    "    --status '*'"
   ]
  },
  {
   "cell_type": "markdown",
   "metadata": {
    "heading_collapsed": true
   },
   "source": [
    "# merge pass QC only VCF files"
   ]
  },
  {
   "cell_type": "markdown",
   "metadata": {
    "heading_collapsed": true,
    "hidden": true
   },
   "source": [
    "## command"
   ]
  },
  {
   "cell_type": "code",
   "execution_count": null,
   "metadata": {
    "hidden": true
   },
   "outputs": [],
   "source": [
    "import os\n",
    "import pandas as pd\n",
    "bucket=os.getenv('WORKSPACE_BUCKET')\n",
    "USER_NAME = os.getenv('OWNER_EMAIL').split('@')[0].replace('.','-')\n",
    "%env USER_NAME={USER_NAME}\n",
    "JOB_NAME=f'pass_qc_merge-{USER_NAME}'\n",
    "%env JOB_NAME={JOB_NAME}\n",
    "\n",
    "params_df = pd.DataFrame(data={\n",
    "    '--env CHR': list(range(1,23)),\n",
    "    '--output-recursive OUTPUT_DIR': [f\"{bucket}/pass_QC_VCF/\" for _ in range(22)]\n",
    "})\n",
    "PARAMETER_FILENAME = f'{JOB_NAME}_params.tsv'\n",
    "%env PARAMETER_FILENAME={PARAMETER_FILENAME}\n",
    "\n",
    "params_df.to_csv(PARAMETER_FILENAME, sep='\\t', index=False)\n",
    "\n",
    "job_id = !source ~/aou_dsub.bash; aou_dsub \\\n",
    "  --name \"${JOB_NAME}\" \\\n",
    "  --provider google-cls-v2 \\\n",
    "  --image \"gcr.io/ritchie-aou-psom-9015/bcftools:latest\" \\\n",
    "  --logging \"${WORKSPACE_BUCKET}/dsub_logs/bcftools/merge/\" \\\n",
    "  --mount BUCKET=\"${WORKSPACE_BUCKET}\" \\\n",
    "  --disk-size 315 \\\n",
    "  --min-ram 300 \\\n",
    "  --min-core 16 \\\n",
    "  --tasks \"${PARAMETER_FILENAME}\" \\\n",
    "  --command 'bcftools concat -a -f $BUCKET/pass_QC_VCF/AOU_v8.srWGS_exome_vcf.chr${CHR}.pass_qc_only.merge_list.txt \\\n",
    "              --threads 16 \\\n",
    "              -Oz -o $OUTPUT_DIR/exome_v8.chr${CHR}.split_multiallelic.pass_qc.vcf.gz'\n",
    "\n",
    "print(\"\\n\".join(job_id))\n",
    "job_id = job_id[1].split(\" \")[-1]\n",
    "%env JOB_ID={job_id}"
   ]
  },
  {
   "cell_type": "markdown",
   "metadata": {
    "hidden": true
   },
   "source": [
    "## check status"
   ]
  },
  {
   "cell_type": "code",
   "execution_count": null,
   "metadata": {
    "hidden": true
   },
   "outputs": [],
   "source": [
    "!dstat \\\n",
    "    --provider google-cls-v2 \\\n",
    "    --project \"$GOOGLE_PROJECT\" \\\n",
    "    --location us-central1 \\\n",
    "    --jobs \"pass-qc-me--kathleen-cardone--250311-142457-14\" \\\n",
    "    --users \"kathleen-cardone\" \\\n",
    "    --status '*'"
   ]
  },
  {
   "cell_type": "code",
   "execution_count": null,
   "metadata": {
    "hidden": true
   },
   "outputs": [],
   "source": [
    "!dstat \\\n",
    "    --provider google-cls-v2 \\\n",
    "    --project \"$GOOGLE_PROJECT\" \\\n",
    "    --location us-central1 \\\n",
    "    --jobs \"pass-qc-me--kathleen-cardone--250311-142457-14\" \\\n",
    "    --users \"kathleen-cardone\" \\\n",
    "    --status 'FAILURE'"
   ]
  },
  {
   "cell_type": "code",
   "execution_count": null,
   "metadata": {
    "hidden": true
   },
   "outputs": [],
   "source": [
    "!gsutil cp ${WORKSPACE_BUCKET}/dsub_logs/bcftools/merge/pass-qc-me--kathleen-cardone--250311-142457-14.17* ."
   ]
  },
  {
   "cell_type": "markdown",
   "metadata": {
    "hidden": true
   },
   "source": [
    "## redo chromosomes that failed"
   ]
  },
  {
   "cell_type": "code",
   "execution_count": null,
   "metadata": {
    "hidden": true
   },
   "outputs": [],
   "source": [
    "import os\n",
    "import pandas as pd\n",
    "bucket=os.getenv('WORKSPACE_BUCKET')\n",
    "USER_NAME = os.getenv('OWNER_EMAIL').split('@')[0].replace('.','-')\n",
    "%env USER_NAME={USER_NAME}\n",
    "JOB_NAME=f'pass_qc_merge-{USER_NAME}'\n",
    "%env JOB_NAME={JOB_NAME}\n",
    "\n",
    "params_df = pd.DataFrame(data={\n",
    "    '--env CHR': [1,19],\n",
    "    '--output-recursive OUTPUT_DIR': [f\"{bucket}/pass_QC_VCF/\" for _ in range(2)]\n",
    "})\n",
    "PARAMETER_FILENAME = f'{JOB_NAME}_params.tsv'\n",
    "%env PARAMETER_FILENAME={PARAMETER_FILENAME}\n",
    "\n",
    "params_df.to_csv(PARAMETER_FILENAME, sep='\\t', index=False)\n",
    "\n",
    "job_id = !source ~/aou_dsub.bash; aou_dsub \\\n",
    "  --name \"${JOB_NAME}\" \\\n",
    "  --provider google-cls-v2 \\\n",
    "  --image \"gcr.io/ritchie-aou-psom-9015/bcftools:latest\" \\\n",
    "  --logging \"${WORKSPACE_BUCKET}/dsub_logs/bcftools/merge/\" \\\n",
    "  --mount BUCKET=\"${WORKSPACE_BUCKET}\" \\\n",
    "  --disk-size 315 \\\n",
    "  --min-ram 400 \\\n",
    "  --min-core 16 \\\n",
    "  --tasks \"${PARAMETER_FILENAME}\" \\\n",
    "  --command 'bcftools concat -a -f $BUCKET/pass_QC_VCF/AOU_v8.srWGS_exome_vcf.chr${CHR}.pass_qc_only.merge_list.txt \\\n",
    "              --threads 16 \\\n",
    "              -Oz -o $OUTPUT_DIR/exome_v8.chr${CHR}.split_multiallelic.pass_qc.vcf.gz'\n",
    "\n",
    "print(\"\\n\".join(job_id))\n",
    "job_id = job_id[1].split(\" \")[-1]\n",
    "%env JOB_ID={job_id}"
   ]
  },
  {
   "cell_type": "code",
   "execution_count": null,
   "metadata": {
    "hidden": true
   },
   "outputs": [],
   "source": [
    "!dstat \\\n",
    "    --provider google-cls-v2 \\\n",
    "    --project \"$GOOGLE_PROJECT\" \\\n",
    "    --location us-central1 \\\n",
    "    --jobs \"pass-qc-me--kathleen-cardone--250312-152422-07\" \\\n",
    "    --users \"kathleen-cardone\" \\\n",
    "    --status '*'"
   ]
  },
  {
   "cell_type": "markdown",
   "metadata": {},
   "source": [
    "# bcftools update variant ID in sites only/pass QC files"
   ]
  },
  {
   "cell_type": "markdown",
   "metadata": {},
   "source": [
    "## command for chromosomes that merged"
   ]
  },
  {
   "cell_type": "code",
   "execution_count": null,
   "metadata": {},
   "outputs": [],
   "source": [
    "!gsutil ls -lh ${WORKSPACE_BUCKET}/pass_QC_VCF/*chr*"
   ]
  },
  {
   "cell_type": "code",
   "execution_count": 1,
   "metadata": {},
   "outputs": [
    {
     "name": "stdout",
     "output_type": "stream",
     "text": [
      "env: USER_NAME=kathleen-cardone\n",
      "env: JOB_NAME=bcftools-annotate-kathleen-cardone\n",
      "env: PARAMETER_FILENAME=bcftools-annotate-kathleen-cardone_params.tsv\n",
      "Job properties:\n",
      "  job-id: bcftools-a--kathleen-cardone--250321-171640-47\n",
      "  job-name: bcftools-annotate-kathleen-cardone\n",
      "  user-id: kathleen-cardone\n",
      "Provider internal-id (operation): projects/540927738276/locations/us-central1/operations/17051743046552730538\n",
      "Provider internal-id (operation): projects/540927738276/locations/us-central1/operations/1408123632464452589\n",
      "Provider internal-id (operation): projects/540927738276/locations/us-central1/operations/7621773929260110014\n",
      "Provider internal-id (operation): projects/540927738276/locations/us-central1/operations/3024405971926822848\n",
      "Provider internal-id (operation): projects/540927738276/locations/us-central1/operations/2217785990500010288\n",
      "Provider internal-id (operation): projects/540927738276/locations/us-central1/operations/16441849479250758734\n",
      "Provider internal-id (operation): projects/540927738276/locations/us-central1/operations/11027617632813003249\n",
      "Provider internal-id (operation): projects/540927738276/locations/us-central1/operations/13604509816699379609\n",
      "Provider internal-id (operation): projects/540927738276/locations/us-central1/operations/16435939845990202122\n",
      "Provider internal-id (operation): projects/540927738276/locations/us-central1/operations/16864188307136347621\n",
      "Provider internal-id (operation): projects/540927738276/locations/us-central1/operations/8154206520882520295\n",
      "Provider internal-id (operation): projects/540927738276/locations/us-central1/operations/4465688396103517808\n",
      "Provider internal-id (operation): projects/540927738276/locations/us-central1/operations/1855288871016310041\n",
      "Provider internal-id (operation): projects/540927738276/locations/us-central1/operations/9946009321989551653\n",
      "Provider internal-id (operation): projects/540927738276/locations/us-central1/operations/15343783677451296976\n",
      "Provider internal-id (operation): projects/540927738276/locations/us-central1/operations/12470258328100954618\n",
      "Provider internal-id (operation): projects/540927738276/locations/us-central1/operations/7360755274345840171\n",
      "Provider internal-id (operation): projects/540927738276/locations/us-central1/operations/8073653364827679616\n",
      "Provider internal-id (operation): projects/540927738276/locations/us-central1/operations/10061363320697865991\n",
      "Provider internal-id (operation): projects/540927738276/locations/us-central1/operations/7302072875321917824\n",
      "Provider internal-id (operation): projects/540927738276/locations/us-central1/operations/42888521814254071\n",
      "Provider internal-id (operation): projects/540927738276/locations/us-central1/operations/13865098420771830344\n",
      "Launched job-id: bcftools-a--kathleen-cardone--250321-171640-47\n",
      "22 task(s)\n",
      "To check the status, run:\n",
      "  dstat --provider google-cls-v2 --project terra-vpc-sc-f6a2ddef --location us-central1 --jobs 'bcftools-a--kathleen-cardone--250321-171640-47' --users 'kathleen-cardone' --status '*'\n",
      "To cancel the job, run:\n",
      "  ddel --provider google-cls-v2 --project terra-vpc-sc-f6a2ddef --location us-central1 --jobs 'bcftools-a--kathleen-cardone--250321-171640-47' --users 'kathleen-cardone'\n",
      "bcftools-a--kathleen-cardone--250321-171640-47\n",
      "env: JOB_ID=bcftools-a--kathleen-cardone--250321-171640-47\n"
     ]
    }
   ],
   "source": [
    "import os\n",
    "import pandas as pd\n",
    "bucket=os.getenv('WORKSPACE_BUCKET')\n",
    "USER_NAME = os.getenv('OWNER_EMAIL').split('@')[0].replace('.','-')\n",
    "%env USER_NAME={USER_NAME}\n",
    "JOB_NAME=f'bcftools-annotate-{USER_NAME}'\n",
    "%env JOB_NAME={JOB_NAME}\n",
    "\n",
    "params_df = pd.DataFrame(data={\n",
    "    '--env CHR': list(range(1,23)),\n",
    "    '--output-recursive OUTPUT_DIR': [f\"{bucket}/newID_VCF/\" for _ in range(22)]\n",
    "})\n",
    "\n",
    "PARAMETER_FILENAME = f'{JOB_NAME}_params.tsv'\n",
    "%env PARAMETER_FILENAME={PARAMETER_FILENAME}\n",
    "\n",
    "params_df.to_csv(PARAMETER_FILENAME, sep='\\t', index=False)\n",
    "\n",
    "job_id = !source ~/aou_dsub.bash; aou_dsub \\\n",
    "  --name \"${JOB_NAME}\" \\\n",
    "  --provider google-cls-v2 \\\n",
    "  --image \"gcr.io/ritchie-aou-psom-9015/bcftools:latest\" \\\n",
    "  --logging \"${WORKSPACE_BUCKET}/dsub_logs/bcftools/annotate/\" \\\n",
    "  --disk-size 10 \\\n",
    "  --mount BUCKET=\"${WORKSPACE_BUCKET}\" \\\n",
    "  --tasks \"${PARAMETER_FILENAME}\" \\\n",
    "  --command 'bcftools annotate --set-id \"%CHROM:%POS:%REF:%FIRST_ALT\" \\\n",
    "              $BUCKET/sites_only_pass_QC/exome_v8.chr${CHR}.split_multiallelic.sites_only.pass_qc.vcf.gz \\\n",
    "              -Oz -o $OUTPUT_DIR/exome_v8.chr${CHR}.new_id.split_multiallelic.sites_only.pass_qc.vcf.gz'\n",
    "\n",
    "print(\"\\n\".join(job_id))\n",
    "job_id = job_id[1].split(\" \")[-1]\n",
    "%env JOB_ID={job_id}"
   ]
  },
  {
   "cell_type": "markdown",
   "metadata": {},
   "source": [
    "## check job status"
   ]
  },
  {
   "cell_type": "code",
   "execution_count": 4,
   "metadata": {},
   "outputs": [
    {
     "name": "stdout",
     "output_type": "stream",
     "text": [
      "Job Name           Task  Status    Last Update\r\n",
      "---------------  ------  --------  --------------\r\n",
      "bcftools-ann...      22  Success   03-21 17:18:53\r\n",
      "bcftools-ann...      21  Success   03-21 17:18:52\r\n",
      "bcftools-ann...      20  Success   03-21 17:19:05\r\n",
      "bcftools-ann...      19  Success   03-21 17:19:15\r\n",
      "bcftools-ann...      18  Success   03-21 17:18:41\r\n",
      "bcftools-ann...      17  Success   03-21 17:18:51\r\n",
      "bcftools-ann...      16  Success   03-21 17:19:02\r\n",
      "bcftools-ann...      15  Success   03-21 17:18:51\r\n",
      "bcftools-ann...      14  Success   03-21 17:18:57\r\n",
      "bcftools-ann...      13  Success   03-21 17:19:07\r\n",
      "bcftools-ann...      12  Success   03-21 17:22:21\r\n",
      "bcftools-ann...      11  Success   03-21 17:18:52\r\n",
      "bcftools-ann...      10  Success   03-21 17:19:05\r\n",
      "bcftools-ann...       9  Success   03-21 17:18:56\r\n",
      "bcftools-ann...       8  Success   03-21 17:19:05\r\n",
      "bcftools-ann...       7  Success   03-21 17:19:02\r\n",
      "bcftools-ann...       6  Success   03-21 17:18:50\r\n",
      "bcftools-ann...       5  Success   03-21 17:19:06\r\n",
      "bcftools-ann...       4  Success   03-21 17:21:36\r\n",
      "bcftools-ann...       3  Success   03-21 17:19:05\r\n",
      "bcftools-ann...       2  Success   03-21 17:18:57\r\n",
      "bcftools-ann...       1  Success   03-21 17:19:15\r\n",
      "\r\n"
     ]
    }
   ],
   "source": [
    "!dstat \\\n",
    "    --provider google-cls-v2 \\\n",
    "    --project \"$GOOGLE_PROJECT\" \\\n",
    "    --location us-central1 \\\n",
    "    --jobs \"bcftools-a--kathleen-cardone--250321-171640-47\" \\\n",
    "    --users \"kathleen-cardone\" \\\n",
    "    --status '*'"
   ]
  },
  {
   "cell_type": "code",
   "execution_count": 5,
   "metadata": {},
   "outputs": [
    {
     "name": "stdout",
     "output_type": "stream",
     "text": [
      "gs://fc-secure-5e490ca2-d5ae-40a3-aa5e-7355e31ab9cc/newID_VCF/exome_v8.chr1.new_id.split_multiallelic.sites_only.pass_qc.vcf.gz\r\n",
      "gs://fc-secure-5e490ca2-d5ae-40a3-aa5e-7355e31ab9cc/newID_VCF/exome_v8.chr10.new_id.split_multiallelic.sites_only.pass_qc.vcf.gz\r\n",
      "gs://fc-secure-5e490ca2-d5ae-40a3-aa5e-7355e31ab9cc/newID_VCF/exome_v8.chr11.new_id.split_multiallelic.sites_only.pass_qc.vcf.gz\r\n",
      "gs://fc-secure-5e490ca2-d5ae-40a3-aa5e-7355e31ab9cc/newID_VCF/exome_v8.chr12.new_id.split_multiallelic.sites_only.pass_qc.vcf.gz\r\n",
      "gs://fc-secure-5e490ca2-d5ae-40a3-aa5e-7355e31ab9cc/newID_VCF/exome_v8.chr13.new_id.split_multiallelic.sites_only.pass_qc.vcf.gz\r\n",
      "gs://fc-secure-5e490ca2-d5ae-40a3-aa5e-7355e31ab9cc/newID_VCF/exome_v8.chr14.new_id.split_multiallelic.sites_only.pass_qc.vcf.gz\r\n",
      "gs://fc-secure-5e490ca2-d5ae-40a3-aa5e-7355e31ab9cc/newID_VCF/exome_v8.chr15.new_id.split_multiallelic.sites_only.pass_qc.vcf.gz\r\n",
      "gs://fc-secure-5e490ca2-d5ae-40a3-aa5e-7355e31ab9cc/newID_VCF/exome_v8.chr16.new_id.split_multiallelic.sites_only.pass_qc.vcf.gz\r\n",
      "gs://fc-secure-5e490ca2-d5ae-40a3-aa5e-7355e31ab9cc/newID_VCF/exome_v8.chr17.new_id.split_multiallelic.sites_only.pass_qc.vcf.gz\r\n",
      "gs://fc-secure-5e490ca2-d5ae-40a3-aa5e-7355e31ab9cc/newID_VCF/exome_v8.chr18.new_id.split_multiallelic.sites_only.pass_qc.vcf.gz\r\n",
      "gs://fc-secure-5e490ca2-d5ae-40a3-aa5e-7355e31ab9cc/newID_VCF/exome_v8.chr19.new_id.split_multiallelic.sites_only.pass_qc.vcf.gz\r\n",
      "gs://fc-secure-5e490ca2-d5ae-40a3-aa5e-7355e31ab9cc/newID_VCF/exome_v8.chr2.new_id.split_multiallelic.sites_only.pass_qc.vcf.gz\r\n",
      "gs://fc-secure-5e490ca2-d5ae-40a3-aa5e-7355e31ab9cc/newID_VCF/exome_v8.chr20.new_id.split_multiallelic.sites_only.pass_qc.vcf.gz\r\n",
      "gs://fc-secure-5e490ca2-d5ae-40a3-aa5e-7355e31ab9cc/newID_VCF/exome_v8.chr21.new_id.split_multiallelic.sites_only.pass_qc.vcf.gz\r\n",
      "gs://fc-secure-5e490ca2-d5ae-40a3-aa5e-7355e31ab9cc/newID_VCF/exome_v8.chr22.new_id.split_multiallelic.sites_only.pass_qc.vcf.gz\r\n",
      "gs://fc-secure-5e490ca2-d5ae-40a3-aa5e-7355e31ab9cc/newID_VCF/exome_v8.chr3.new_id.split_multiallelic.sites_only.pass_qc.vcf.gz\r\n",
      "gs://fc-secure-5e490ca2-d5ae-40a3-aa5e-7355e31ab9cc/newID_VCF/exome_v8.chr4.new_id.split_multiallelic.sites_only.pass_qc.vcf.gz\r\n",
      "gs://fc-secure-5e490ca2-d5ae-40a3-aa5e-7355e31ab9cc/newID_VCF/exome_v8.chr5.new_id.split_multiallelic.sites_only.pass_qc.vcf.gz\r\n",
      "gs://fc-secure-5e490ca2-d5ae-40a3-aa5e-7355e31ab9cc/newID_VCF/exome_v8.chr6.new_id.split_multiallelic.sites_only.pass_qc.vcf.gz\r\n",
      "gs://fc-secure-5e490ca2-d5ae-40a3-aa5e-7355e31ab9cc/newID_VCF/exome_v8.chr7.new_id.split_multiallelic.sites_only.pass_qc.vcf.gz\r\n",
      "gs://fc-secure-5e490ca2-d5ae-40a3-aa5e-7355e31ab9cc/newID_VCF/exome_v8.chr8.new_id.split_multiallelic.sites_only.pass_qc.vcf.gz\r\n",
      "gs://fc-secure-5e490ca2-d5ae-40a3-aa5e-7355e31ab9cc/newID_VCF/exome_v8.chr9.new_id.split_multiallelic.sites_only.pass_qc.vcf.gz\r\n"
     ]
    }
   ],
   "source": [
    "!gsutil ls ${WORKSPACE_BUCKET}/newID_VCF/*sites_only*"
   ]
  },
  {
   "cell_type": "code",
   "execution_count": null,
   "metadata": {},
   "outputs": [],
   "source": [
    "!gsutil cp ${WORKSPACE_BUCKET}/newID_VCF/exome_v8.chr22.new_id.split_multiallelic.sites_only.pass_qc.vcf.gz ."
   ]
  },
  {
   "cell_type": "code",
   "execution_count": null,
   "metadata": {},
   "outputs": [],
   "source": [
    "!zcat exome_v8.chr22.new_id.split_multiallelic.sites_only.pass_qc.vcf.gz | grep -v '##' | head"
   ]
  },
  {
   "cell_type": "markdown",
   "metadata": {
    "heading_collapsed": true
   },
   "source": [
    "# bcftools update variant ID in pass QC files (for PLINK files)"
   ]
  },
  {
   "cell_type": "markdown",
   "metadata": {
    "heading_collapsed": true,
    "hidden": true
   },
   "source": [
    "## command for chromosomes that merged"
   ]
  },
  {
   "cell_type": "code",
   "execution_count": null,
   "metadata": {
    "hidden": true
   },
   "outputs": [],
   "source": [
    "import os\n",
    "import pandas as pd\n",
    "bucket = os.getenv('WORKSPACE_BUCKET')\n",
    "USER_NAME = os.getenv('OWNER_EMAIL').split('@')[0].replace('.','-')\n",
    "%env USER_NAME={USER_NAME}\n",
    "JOB_NAME=f'bcftools-annotate-{USER_NAME}'\n",
    "%env JOB_NAME={JOB_NAME}\n",
    "\n",
    "params_df = pd.DataFrame(data={\n",
    "    '--env CHR': [8,9,13,14,15,18,20,21,22],\n",
    "    '--output-recursive OUTPUT_DIR': [f\"{bucket}/newID_VCF/\" for _ in range(9)]\n",
    "})\n",
    "\n",
    "PARAMETER_FILENAME = f'{JOB_NAME}_params.tsv'\n",
    "%env PARAMETER_FILENAME={PARAMETER_FILENAME}\n",
    "\n",
    "params_df.to_csv(PARAMETER_FILENAME, sep='\\t', index=False)\n",
    "\n",
    "job_id = !source ~/aou_dsub.bash; aou_dsub \\\n",
    "  --name \"${JOB_NAME}\" \\\n",
    "  --provider google-cls-v2 \\\n",
    "  --image \"gcr.io/ritchie-aou-psom-9015/bcftools:latest\" \\\n",
    "  --logging \"${WORKSPACE_BUCKET}/dsub_logs/bcftools/annotate/\" \\\n",
    "  --disk-size 120 \\\n",
    "  --mount BUCKET=\"${WORKSPACE_BUCKET}\" \\\n",
    "  --tasks \"${PARAMETER_FILENAME}\" \\\n",
    "  --command 'bcftools annotate --set-id \"%CHROM:%POS:%REF:%FIRST_ALT\" \\\n",
    "              $BUCKET/pass_QC_VCF/exome_v8.chr${CHR}.split_multiallelic.pass_qc.vcf.gz \\\n",
    "              -Oz -o $OUTPUT_DIR/exome_v8.chr${CHR}.new_id.split_multiallelic.pass_qc.vcf.gz'\n",
    "\n",
    "print(\"\\n\".join(job_id))\n",
    "job_id = job_id[1].split(\" \")[-1]\n",
    "%env JOB_ID={job_id}"
   ]
  },
  {
   "cell_type": "code",
   "execution_count": null,
   "metadata": {
    "hidden": true
   },
   "outputs": [],
   "source": [
    "!dstat \\\n",
    "    --provider google-cls-v2 \\\n",
    "    --project \"$GOOGLE_PROJECT\" \\\n",
    "    --location us-central1 \\\n",
    "    --jobs \"bcftools-a--kathleen-cardone--250314-012340-24\" \\\n",
    "    --users \"kathleen-cardone\" \\\n",
    "    --status '*'"
   ]
  },
  {
   "cell_type": "markdown",
   "metadata": {
    "hidden": true
   },
   "source": [
    "## command for chunked files"
   ]
  },
  {
   "cell_type": "markdown",
   "metadata": {
    "heading_collapsed": true,
    "hidden": true
   },
   "source": [
    "### chr 1-7"
   ]
  },
  {
   "cell_type": "code",
   "execution_count": null,
   "metadata": {
    "hidden": true
   },
   "outputs": [],
   "source": [
    "import os\n",
    "import pandas as pd\n",
    "bucket = os.getenv('WORKSPACE_BUCKET')\n",
    "USER_NAME = os.getenv('OWNER_EMAIL').split('@')[0].replace('.','-')\n",
    "%env USER_NAME={USER_NAME}\n",
    "JOB_NAME=f'bcftools-annotate-{USER_NAME}'\n",
    "%env JOB_NAME={JOB_NAME}\n",
    "\n",
    "params_df = pd.DataFrame(data={\n",
    "    '--env FILE_NUM': [f\"{i:010}\" for i in range(0, 7846)],\n",
    "    '--output-recursive OUTPUT_DIR': [f\"{bucket}/newID_VCF/\" for _ in range(7846)]\n",
    "})\n",
    "\n",
    "PARAMETER_FILENAME = f'{JOB_NAME}_params.tsv'\n",
    "%env PARAMETER_FILENAME={PARAMETER_FILENAME}\n",
    "\n",
    "params_df.to_csv(PARAMETER_FILENAME, sep='\\t', index=False)\n",
    "\n",
    "job_id = !source ~/aou_dsub.bash; aou_dsub \\\n",
    "  --name \"${JOB_NAME}\" \\\n",
    "  --provider google-cls-v2 \\\n",
    "  --image \"gcr.io/ritchie-aou-psom-9015/bcftools:latest\" \\\n",
    "  --logging \"${WORKSPACE_BUCKET}/dsub_logs/bcftools/annotate/\" \\\n",
    "  --disk-size 10 \\\n",
    "  --min-ram 128 \\\n",
    "  --mount BUCKET=\"${WORKSPACE_BUCKET}\" \\\n",
    "  --tasks \"${PARAMETER_FILENAME}\" \\\n",
    "  --command 'bcftools annotate --set-id \"%CHROM:%POS:%REF:%FIRST_ALT\" \\\n",
    "              $BUCKET/pass_QC_VCF/exome_v8.${FILE_NUM}.split_multiallelic.pass_qc.vcf.gz \\\n",
    "              -Oz -o $OUTPUT_DIR/exome_v8.${FILE_NUM}.new_id.split_multiallelic.pass_qc.vcf.gz'\n",
    "\n",
    "print(\"\\n\".join(job_id))\n",
    "job_id = job_id[1].split(\" \")[-1]\n",
    "%env JOB_ID={job_id}"
   ]
  },
  {
   "cell_type": "code",
   "execution_count": null,
   "metadata": {
    "hidden": true
   },
   "outputs": [],
   "source": [
    "!dstat \\\n",
    "    --provider google-cls-v2 \\\n",
    "    --project \"$GOOGLE_PROJECT\" \\\n",
    "    --location us-central1 \\\n",
    "    --jobs \"bcftools-a--kathleen-cardone--250314-192422-85\" \\\n",
    "    --users \"kathleen-cardone\" \\\n",
    "    --status 'FAILURE' | wc -l"
   ]
  },
  {
   "cell_type": "code",
   "execution_count": null,
   "metadata": {
    "hidden": true
   },
   "outputs": [],
   "source": [
    "!dstat \\\n",
    "    --provider google-cls-v2 \\\n",
    "    --project \"$GOOGLE_PROJECT\" \\\n",
    "    --location us-central1 \\\n",
    "    --jobs \"bcftools-a--kathleen-cardone--250314-192422-85\" \\\n",
    "    --users \"kathleen-cardone\" \\\n",
    "    --status 'RUNNING' | wc -l"
   ]
  },
  {
   "cell_type": "code",
   "execution_count": null,
   "metadata": {
    "hidden": true
   },
   "outputs": [],
   "source": [
    "!dstat \\\n",
    "    --provider google-cls-v2 \\\n",
    "    --project \"$GOOGLE_PROJECT\" \\\n",
    "    --location us-central1 \\\n",
    "    --jobs \"bcftools-a--kathleen-cardone--250314-192422-85\" \\\n",
    "    --users \"kathleen-cardone\" \\\n",
    "    --status 'SUCCESS' | wc -l"
   ]
  },
  {
   "cell_type": "markdown",
   "metadata": {
    "heading_collapsed": true,
    "hidden": true
   },
   "source": [
    "### chr 10-12"
   ]
  },
  {
   "cell_type": "code",
   "execution_count": null,
   "metadata": {
    "hidden": true
   },
   "outputs": [],
   "source": [
    "import os\n",
    "import pandas as pd\n",
    "bucket = os.getenv('WORKSPACE_BUCKET')\n",
    "USER_NAME = os.getenv('OWNER_EMAIL').split('@')[0].replace('.','-')\n",
    "%env USER_NAME={USER_NAME}\n",
    "JOB_NAME=f'bcftools-annotate-{USER_NAME}'\n",
    "%env JOB_NAME={JOB_NAME}\n",
    "\n",
    "params_df = pd.DataFrame(data={\n",
    "    '--env FILE_NUM': [f\"{i:010}\" for i in range(9271, 12199)],\n",
    "    '--output-recursive OUTPUT_DIR': [f\"{bucket}/newID_VCF/\" for _ in range(2928)]\n",
    "})\n",
    "\n",
    "PARAMETER_FILENAME = f'{JOB_NAME}_params.tsv'\n",
    "%env PARAMETER_FILENAME={PARAMETER_FILENAME}\n",
    "\n",
    "params_df.to_csv(PARAMETER_FILENAME, sep='\\t', index=False)\n",
    "\n",
    "job_id = !source ~/aou_dsub.bash; aou_dsub \\\n",
    "  --name \"${JOB_NAME}\" \\\n",
    "  --provider google-cls-v2 \\\n",
    "  --image \"gcr.io/ritchie-aou-psom-9015/bcftools:latest\" \\\n",
    "  --logging \"${WORKSPACE_BUCKET}/dsub_logs/bcftools/annotate/\" \\\n",
    "  --disk-size 10 \\\n",
    "  --min-ram 128 \\\n",
    "  --mount BUCKET=\"${WORKSPACE_BUCKET}\" \\\n",
    "  --tasks \"${PARAMETER_FILENAME}\" \\\n",
    "  --command 'bcftools annotate --set-id \"%CHROM:%POS:%REF:%FIRST_ALT\" \\\n",
    "              $BUCKET/pass_QC_VCF/exome_v8.${FILE_NUM}.split_multiallelic.pass_qc.vcf.gz \\\n",
    "              -Oz -o $OUTPUT_DIR/exome_v8.${FILE_NUM}.new_id.split_multiallelic.pass_qc.vcf.gz'\n",
    "\n",
    "print(\"\\n\".join(job_id))\n",
    "job_id = job_id[1].split(\" \")[-1]\n",
    "%env JOB_ID={job_id}"
   ]
  },
  {
   "cell_type": "code",
   "execution_count": null,
   "metadata": {
    "hidden": true
   },
   "outputs": [],
   "source": [
    "!dstat \\\n",
    "    --provider google-cls-v2 \\\n",
    "    --project \"$GOOGLE_PROJECT\" \\\n",
    "    --location us-central1 \\\n",
    "    --jobs \"bcftools-a--kathleen-cardone--250317-130823-95\" \\\n",
    "    --users \"kathleen-cardone\" \\\n",
    "    --status 'FAILURE' | wc -l"
   ]
  },
  {
   "cell_type": "code",
   "execution_count": null,
   "metadata": {
    "hidden": true
   },
   "outputs": [],
   "source": [
    "!dstat \\\n",
    "    --provider google-cls-v2 \\\n",
    "    --project \"$GOOGLE_PROJECT\" \\\n",
    "    --location us-central1 \\\n",
    "    --jobs \"bcftools-a--kathleen-cardone--250317-130823-95\" \\\n",
    "    --users \"kathleen-cardone\" \\\n",
    "    --status 'SUCCESS' | wc -l"
   ]
  },
  {
   "cell_type": "code",
   "execution_count": null,
   "metadata": {
    "hidden": true
   },
   "outputs": [],
   "source": [
    "!dstat \\\n",
    "    --provider google-cls-v2 \\\n",
    "    --project \"$GOOGLE_PROJECT\" \\\n",
    "    --location us-central1 \\\n",
    "    --jobs \"bcftools-a--kathleen-cardone--250317-130823-95\" \\\n",
    "    --users \"kathleen-cardone\" \\\n",
    "    --status 'RUNNING' | wc -l"
   ]
  },
  {
   "cell_type": "markdown",
   "metadata": {
    "hidden": true
   },
   "source": [
    "### chr 16-17"
   ]
  },
  {
   "cell_type": "code",
   "execution_count": null,
   "metadata": {
    "hidden": true
   },
   "outputs": [],
   "source": [
    "import os\n",
    "import pandas as pd\n",
    "bucket = os.getenv('WORKSPACE_BUCKET')\n",
    "USER_NAME = os.getenv('OWNER_EMAIL').split('@')[0].replace('.','-')\n",
    "%env USER_NAME={USER_NAME}\n",
    "JOB_NAME=f'bcftools-annotate-{USER_NAME}'\n",
    "%env JOB_NAME={JOB_NAME}\n",
    "\n",
    "params_df = pd.DataFrame(data={\n",
    "    '--env FILE_NUM': [f\"{i:010}\" for i in range(13904, 15681)],\n",
    "    '--output-recursive OUTPUT_DIR': [f\"{bucket}/newID_VCF/\" for _ in range(1777)]\n",
    "})\n",
    "\n",
    "PARAMETER_FILENAME = f'{JOB_NAME}_params.tsv'\n",
    "%env PARAMETER_FILENAME={PARAMETER_FILENAME}\n",
    "\n",
    "params_df.to_csv(PARAMETER_FILENAME, sep='\\t', index=False)\n",
    "\n",
    "job_id = !source ~/aou_dsub.bash; aou_dsub \\\n",
    "  --name \"${JOB_NAME}\" \\\n",
    "  --provider google-cls-v2 \\\n",
    "  --image \"gcr.io/ritchie-aou-psom-9015/bcftools:latest\" \\\n",
    "  --logging \"${WORKSPACE_BUCKET}/dsub_logs/bcftools/annotate/\" \\\n",
    "  --disk-size 10 \\\n",
    "  --min-ram 128 \\\n",
    "  --mount BUCKET=\"${WORKSPACE_BUCKET}\" \\\n",
    "  --tasks \"${PARAMETER_FILENAME}\" \\\n",
    "  --command 'bcftools annotate --set-id \"%CHROM:%POS:%REF:%FIRST_ALT\" \\\n",
    "              $BUCKET/pass_QC_VCF/exome_v8.${FILE_NUM}.split_multiallelic.pass_qc.vcf.gz \\\n",
    "              -Oz -o $OUTPUT_DIR/exome_v8.${FILE_NUM}.new_id.split_multiallelic.pass_qc.vcf.gz'\n",
    "\n",
    "print(\"\\n\".join(job_id))\n",
    "job_id = job_id[1].split(\" \")[-1]\n",
    "%env JOB_ID={job_id}"
   ]
  },
  {
   "cell_type": "code",
   "execution_count": null,
   "metadata": {
    "hidden": true
   },
   "outputs": [],
   "source": [
    "!dstat \\\n",
    "    --provider google-cls-v2 \\\n",
    "    --project \"$GOOGLE_PROJECT\" \\\n",
    "    --location us-central1 \\\n",
    "    --jobs \"bcftools-a--kathleen-cardone--250317-160403-39\" \\\n",
    "    --users \"kathleen-cardone\" \\\n",
    "    --status 'FAILURE' | wc -l"
   ]
  },
  {
   "cell_type": "code",
   "execution_count": null,
   "metadata": {
    "hidden": true
   },
   "outputs": [],
   "source": [
    "!dstat \\\n",
    "    --provider google-cls-v2 \\\n",
    "    --project \"$GOOGLE_PROJECT\" \\\n",
    "    --location us-central1 \\\n",
    "    --jobs \"bcftools-a--kathleen-cardone--250317-160403-39\" \\\n",
    "    --users \"kathleen-cardone\" \\\n",
    "    --status 'SUCCESS' | wc -l"
   ]
  },
  {
   "cell_type": "code",
   "execution_count": null,
   "metadata": {
    "hidden": true
   },
   "outputs": [],
   "source": [
    "!dstat \\\n",
    "    --provider google-cls-v2 \\\n",
    "    --project \"$GOOGLE_PROJECT\" \\\n",
    "    --location us-central1 \\\n",
    "    --jobs \"bcftools-a--kathleen-cardone--250317-160403-39\" \\\n",
    "    --users \"kathleen-cardone\" \\\n",
    "    --status 'RUNNING' | wc -l"
   ]
  },
  {
   "cell_type": "markdown",
   "metadata": {
    "hidden": true
   },
   "source": [
    "### chr 19"
   ]
  },
  {
   "cell_type": "code",
   "execution_count": null,
   "metadata": {
    "hidden": true
   },
   "outputs": [],
   "source": [
    "import os\n",
    "import pandas as pd\n",
    "bucket = os.getenv('WORKSPACE_BUCKET')\n",
    "USER_NAME = os.getenv('OWNER_EMAIL').split('@')[0].replace('.','-')\n",
    "%env USER_NAME={USER_NAME}\n",
    "JOB_NAME=f'bcftools-annotate-{USER_NAME}'\n",
    "%env JOB_NAME={JOB_NAME}\n",
    "\n",
    "params_df = pd.DataFrame(data={\n",
    "    '--env FILE_NUM': [f\"{i:010}\" for i in range(16057, 17397)],\n",
    "    '--output-recursive OUTPUT_DIR': [f\"{bucket}/newID_VCF/\" for _ in range(1340)]\n",
    "})\n",
    "\n",
    "PARAMETER_FILENAME = f'{JOB_NAME}_params.tsv'\n",
    "%env PARAMETER_FILENAME={PARAMETER_FILENAME}\n",
    "\n",
    "params_df.to_csv(PARAMETER_FILENAME, sep='\\t', index=False)\n",
    "\n",
    "job_id = !source ~/aou_dsub.bash; aou_dsub \\\n",
    "  --name \"${JOB_NAME}\" \\\n",
    "  --provider google-cls-v2 \\\n",
    "  --image \"gcr.io/ritchie-aou-psom-9015/bcftools:latest\" \\\n",
    "  --logging \"${WORKSPACE_BUCKET}/dsub_logs/bcftools/annotate/\" \\\n",
    "  --disk-size 10 \\\n",
    "  --min-ram 128 \\\n",
    "  --mount BUCKET=\"${WORKSPACE_BUCKET}\" \\\n",
    "  --tasks \"${PARAMETER_FILENAME}\" \\\n",
    "  --command 'bcftools annotate --set-id \"%CHROM:%POS:%REF:%FIRST_ALT\" \\\n",
    "              $BUCKET/pass_QC_VCF/exome_v8.${FILE_NUM}.split_multiallelic.pass_qc.vcf.gz \\\n",
    "              -Oz -o $OUTPUT_DIR/exome_v8.${FILE_NUM}.new_id.split_multiallelic.pass_qc.vcf.gz'\n",
    "\n",
    "print(\"\\n\".join(job_id))\n",
    "job_id = job_id[1].split(\" \")[-1]\n",
    "%env JOB_ID={job_id}"
   ]
  },
  {
   "cell_type": "code",
   "execution_count": null,
   "metadata": {
    "hidden": true
   },
   "outputs": [],
   "source": [
    "!dstat \\\n",
    "    --provider google-cls-v2 \\\n",
    "    --project \"$GOOGLE_PROJECT\" \\\n",
    "    --location us-central1 \\\n",
    "    --jobs \"bcftools-a--kathleen-cardone--250317-194848-23\" \\\n",
    "    --users \"kathleen-cardone\" \\\n",
    "    --status 'FAILURE' | wc -l"
   ]
  },
  {
   "cell_type": "code",
   "execution_count": null,
   "metadata": {
    "hidden": true
   },
   "outputs": [],
   "source": [
    "!dstat \\\n",
    "    --provider google-cls-v2 \\\n",
    "    --project \"$GOOGLE_PROJECT\" \\\n",
    "    --location us-central1 \\\n",
    "    --jobs \"bcftools-a--kathleen-cardone--250317-194848-23\" \\\n",
    "    --users \"kathleen-cardone\" \\\n",
    "    --status 'SUCCESS' | wc -l"
   ]
  },
  {
   "cell_type": "code",
   "execution_count": null,
   "metadata": {
    "hidden": true
   },
   "outputs": [],
   "source": [
    "!dstat \\\n",
    "    --provider google-cls-v2 \\\n",
    "    --project \"$GOOGLE_PROJECT\" \\\n",
    "    --location us-central1 \\\n",
    "    --jobs \"bcftools-a--kathleen-cardone--250317-194848-23\" \\\n",
    "    --users \"kathleen-cardone\" \\\n",
    "    --status 'RUNNING' | wc -l"
   ]
  },
  {
   "cell_type": "markdown",
   "metadata": {},
   "source": [
    "# make new PLINK files"
   ]
  },
  {
   "cell_type": "markdown",
   "metadata": {
    "heading_collapsed": true
   },
   "source": [
    "## command for merged chromosomes"
   ]
  },
  {
   "cell_type": "code",
   "execution_count": null,
   "metadata": {
    "hidden": true
   },
   "outputs": [],
   "source": [
    "!gsutil ls -lh ${WORKSPACE_BUCKET}/newID_VCF/*chr*split_multiallelic.pass_qc*"
   ]
  },
  {
   "cell_type": "code",
   "execution_count": null,
   "metadata": {
    "hidden": true
   },
   "outputs": [],
   "source": [
    "!gsutil ls -lh ${WORKSPACE_BUCKET}/newID_PLINK/*chr*"
   ]
  },
  {
   "cell_type": "code",
   "execution_count": null,
   "metadata": {
    "hidden": true
   },
   "outputs": [],
   "source": [
    "import os\n",
    "import pandas as pd\n",
    "bucket=os.getenv('WORKSPACE_BUCKET')\n",
    "USER_NAME = os.getenv('OWNER_EMAIL').split('@')[0].replace('.','-')\n",
    "%env USER_NAME={USER_NAME}\n",
    "JOB_NAME=f'plink-{USER_NAME}'\n",
    "%env JOB_NAME={JOB_NAME}\n",
    "\n",
    "params_df = pd.DataFrame(data={\n",
    "    '--env CHR': [8,9,13,14,15,18,20,21,22],\n",
    "    '--output-recursive OUTPUT_DIR': [f\"{bucket}/newID_PLINK/\" for _ in range(9)]\n",
    "})\n",
    "\n",
    "PARAMETER_FILENAME = f'{JOB_NAME}_params.tsv'\n",
    "%env PARAMETER_FILENAME={PARAMETER_FILENAME}\n",
    "\n",
    "params_df.to_csv(PARAMETER_FILENAME, sep='\\t', index=False)\n",
    "\n",
    "job_id = !source ~/aou_dsub.bash; aou_dsub \\\n",
    "  --name \"${JOB_NAME}\" \\\n",
    "  --provider google-cls-v2 \\\n",
    "  --image \"gcr.io/ritchie-aou-psom-9015/plink2:latest\" \\\n",
    "  --logging \"${WORKSPACE_BUCKET}/dsub_logs/plink/\" \\\n",
    "  --disk-size 300 \\\n",
    "  --mount BUCKET=\"${WORKSPACE_BUCKET}\" \\\n",
    "  --tasks \"${PARAMETER_FILENAME}\" \\\n",
    "  --command 'plink2 --vcf $BUCKET/newID_VCF/exome_v8.chr${CHR}.new_id.split_multiallelic.pass_qc.vcf.gz \\\n",
    "              --make-pgen \\\n",
    "              --out $OUTPUT_DIR/exome_v8.chr${CHR}.new_id.split_multiallelic.pass_qc'\n",
    "\n",
    "print(\"\\n\".join(job_id))\n",
    "job_id = job_id[1].split(\" \")[-1]\n",
    "%env JOB_ID={job_id}"
   ]
  },
  {
   "cell_type": "code",
   "execution_count": null,
   "metadata": {
    "hidden": true
   },
   "outputs": [],
   "source": [
    "!dstat \\\n",
    "    --provider google-cls-v2 \\\n",
    "    --project \"${GOOGLE_PROJECT}\" \\\n",
    "    --location us-central1 \\\n",
    "    --jobs \"plink-kath--kathleen-cardone--250318-133518-68\" \\\n",
    "    --users \"kathleen-cardone\" \\\n",
    "    --status '*'"
   ]
  },
  {
   "cell_type": "markdown",
   "metadata": {},
   "source": [
    "## command for chromosome chunks"
   ]
  },
  {
   "cell_type": "markdown",
   "metadata": {},
   "source": [
    "### chr 1-7"
   ]
  },
  {
   "cell_type": "code",
   "execution_count": null,
   "metadata": {},
   "outputs": [],
   "source": [
    "import os\n",
    "import pandas as pd\n",
    "bucket=os.getenv('WORKSPACE_BUCKET')\n",
    "USER_NAME = os.getenv('OWNER_EMAIL').split('@')[0].replace('.','-')\n",
    "%env USER_NAME={USER_NAME}\n",
    "JOB_NAME=f'plink-{USER_NAME}'\n",
    "%env JOB_NAME={JOB_NAME}\n",
    "\n",
    "params_df = pd.DataFrame(data={\n",
    "    '--env FILE_NUM': [f\"{i:010}\" for i in range(0, 7846)],\n",
    "    '--output-recursive OUTPUT_DIR': [f\"{bucket}/newID_PLINK/\" for _ in range(7846)]\n",
    "})\n",
    "\n",
    "PARAMETER_FILENAME = f'{JOB_NAME}_params.tsv'\n",
    "%env PARAMETER_FILENAME={PARAMETER_FILENAME}\n",
    "\n",
    "params_df.to_csv(PARAMETER_FILENAME, sep='\\t', index=False)\n",
    "\n",
    "job_id = !source ~/aou_dsub.bash; aou_dsub \\\n",
    "  --name \"${JOB_NAME}\" \\\n",
    "  --provider google-cls-v2 \\\n",
    "  --image \"gcr.io/ritchie-aou-psom-9015/plink2:latest\" \\\n",
    "  --logging \"${WORKSPACE_BUCKET}/dsub_logs/plink/\" \\\n",
    "  --disk-size 10 \\\n",
    "  --min-ram 128 \\\n",
    "  --mount BUCKET=\"${WORKSPACE_BUCKET}\" \\\n",
    "  --tasks \"${PARAMETER_FILENAME}\" \\\n",
    "  --command 'plink2 --vcf $BUCKET/newID_VCF/exome_v8.${FILE_NUM}.new_id.split_multiallelic.pass_qc.vcf.gz \\\n",
    "              --make-pgen \\\n",
    "              --out $OUTPUT_DIR/exome_v8.${FILE_NUM}.new_id.split_multiallelic.pass_qc'\n",
    "\n",
    "print(\"\\n\".join(job_id))\n",
    "job_id = job_id[1].split(\" \")[-1]\n",
    "%env JOB_ID={job_id}"
   ]
  },
  {
   "cell_type": "code",
   "execution_count": null,
   "metadata": {},
   "outputs": [],
   "source": [
    "!dstat \\\n",
    "    --provider google-cls-v2 \\\n",
    "    --project \"$GOOGLE_PROJECT\" \\\n",
    "    --location us-central1 \\\n",
    "    --jobs \"plink-kath--kathleen-cardone--250318-140621-85\" \\\n",
    "    --users \"kathleen-cardone\" \\\n",
    "    --status 'FAILURE' | wc -l"
   ]
  },
  {
   "cell_type": "code",
   "execution_count": null,
   "metadata": {},
   "outputs": [],
   "source": [
    "!dstat \\\n",
    "    --provider google-cls-v2 \\\n",
    "    --project \"$GOOGLE_PROJECT\" \\\n",
    "    --location us-central1 \\\n",
    "    --jobs \"plink-kath--kathleen-cardone--250318-140621-85\" \\\n",
    "    --users \"kathleen-cardone\" \\\n",
    "    --status 'SUCCESS' | wc -l"
   ]
  },
  {
   "cell_type": "code",
   "execution_count": null,
   "metadata": {},
   "outputs": [],
   "source": [
    "!dstat \\\n",
    "    --provider google-cls-v2 \\\n",
    "    --project \"$GOOGLE_PROJECT\" \\\n",
    "    --location us-central1 \\\n",
    "    --jobs \"plink-kath--kathleen-cardone--250318-140621-85\" \\\n",
    "    --users \"kathleen-cardone\" \\\n",
    "    --status 'RUNNING' | wc -l"
   ]
  },
  {
   "cell_type": "markdown",
   "metadata": {},
   "source": [
    "### chunks that failed from chr1-7 (stupid aou)"
   ]
  },
  {
   "cell_type": "code",
   "execution_count": null,
   "metadata": {},
   "outputs": [],
   "source": [
    "!dstat \\\n",
    "    --provider google-cls-v2 \\\n",
    "    --project \"$GOOGLE_PROJECT\" \\\n",
    "    --location us-central1 \\\n",
    "    --jobs \"plink-kath--kathleen-cardone--250318-140621-85\" \\\n",
    "    --users \"kathleen-cardone\" \\\n",
    "    --status 'FAILURE' | grep -v 'Job' | grep -v '\\--' | sed 's/    /,/g' | sed 's/  /,/g' > chr1_7.convert_plink.failed.csv"
   ]
  },
  {
   "cell_type": "code",
   "execution_count": null,
   "metadata": {},
   "outputs": [],
   "source": [
    "import pandas as pd\n",
    "failed_df = pd.read_csv('chr1_7.convert_plink.failed.csv',header=None)\n",
    "failed_df['FILE_NUM'] = failed_df[1] - 1\n",
    "failed_list=failed_df['FILE_NUM'].tolist()\n",
    "print(failed_list)\n",
    "print(len(failed_list))"
   ]
  },
  {
   "cell_type": "code",
   "execution_count": null,
   "metadata": {},
   "outputs": [],
   "source": [
    "import os\n",
    "import pandas as pd\n",
    "bucket=os.getenv('WORKSPACE_BUCKET')\n",
    "USER_NAME = os.getenv('OWNER_EMAIL').split('@')[0].replace('.','-')\n",
    "%env USER_NAME={USER_NAME}\n",
    "JOB_NAME=f'plink-{USER_NAME}'\n",
    "%env JOB_NAME={JOB_NAME}\n",
    "\n",
    "params_df = pd.DataFrame(data={\n",
    "    '--env FILE_NUM': [f\"{i:010}\" for i in failed_list],\n",
    "    '--output-recursive OUTPUT_DIR': [f\"{bucket}/newID_PLINK/\" for _ in range(40)]\n",
    "})\n",
    "\n",
    "PARAMETER_FILENAME = f'{JOB_NAME}_params.tsv'\n",
    "%env PARAMETER_FILENAME={PARAMETER_FILENAME}\n",
    "\n",
    "params_df.to_csv(PARAMETER_FILENAME, sep='\\t', index=False)\n",
    "\n",
    "job_id = !source ~/aou_dsub.bash; aou_dsub \\\n",
    "  --name \"${JOB_NAME}\" \\\n",
    "  --provider google-cls-v2 \\\n",
    "  --image \"gcr.io/ritchie-aou-psom-9015/plink2:latest\" \\\n",
    "  --logging \"${WORKSPACE_BUCKET}/dsub_logs/plink/\" \\\n",
    "  --disk-size 10 \\\n",
    "  --min-ram 128 \\\n",
    "  --mount BUCKET=\"${WORKSPACE_BUCKET}\" \\\n",
    "  --tasks \"${PARAMETER_FILENAME}\" \\\n",
    "  --command 'plink2 --vcf $BUCKET/newID_VCF/exome_v8.${FILE_NUM}.new_id.split_multiallelic.pass_qc.vcf.gz \\\n",
    "              --make-pgen \\\n",
    "              --out $OUTPUT_DIR/exome_v8.${FILE_NUM}.new_id.split_multiallelic.pass_qc'\n",
    "\n",
    "print(\"\\n\".join(job_id))\n",
    "job_id = job_id[1].split(\" \")[-1]\n",
    "%env JOB_ID={job_id}"
   ]
  },
  {
   "cell_type": "code",
   "execution_count": null,
   "metadata": {},
   "outputs": [],
   "source": [
    "!dstat \\\n",
    "    --provider google-cls-v2 \\\n",
    "    --project \"$GOOGLE_PROJECT\" \\\n",
    "    --location us-central1 \\\n",
    "    --jobs \"plink-kath--kathleen-cardone--250319-180850-57\" \\\n",
    "    --users \"kathleen-cardone\" \\\n",
    "    --status 'FAILURE' | wc -l"
   ]
  },
  {
   "cell_type": "code",
   "execution_count": null,
   "metadata": {},
   "outputs": [],
   "source": [
    "!dstat \\\n",
    "    --provider google-cls-v2 \\\n",
    "    --project \"$GOOGLE_PROJECT\" \\\n",
    "    --location us-central1 \\\n",
    "    --jobs \"plink-kath--kathleen-cardone--250319-180850-57\" \\\n",
    "    --users \"kathleen-cardone\" \\\n",
    "    --status 'SUCCESS' | wc -l"
   ]
  },
  {
   "cell_type": "code",
   "execution_count": null,
   "metadata": {},
   "outputs": [],
   "source": [
    "!dstat \\\n",
    "    --provider google-cls-v2 \\\n",
    "    --project \"$GOOGLE_PROJECT\" \\\n",
    "    --location us-central1 \\\n",
    "    --jobs \"plink-kath--kathleen-cardone--250319-180850-57\" \\\n",
    "    --users \"kathleen-cardone\" \\\n",
    "    --status 'RUNNING' | wc -l"
   ]
  },
  {
   "cell_type": "markdown",
   "metadata": {},
   "source": [
    "### chr 10-12"
   ]
  },
  {
   "cell_type": "code",
   "execution_count": null,
   "metadata": {},
   "outputs": [],
   "source": [
    "import os\n",
    "import pandas as pd\n",
    "bucket=os.getenv('WORKSPACE_BUCKET')\n",
    "USER_NAME = os.getenv('OWNER_EMAIL').split('@')[0].replace('.','-')\n",
    "%env USER_NAME={USER_NAME}\n",
    "JOB_NAME=f'plink-{USER_NAME}'\n",
    "%env JOB_NAME={JOB_NAME}\n",
    "\n",
    "params_df = pd.DataFrame(data={\n",
    "    '--env FILE_NUM': [f\"{i:010}\" for i in range(9271, 12199)],\n",
    "    '--output-recursive OUTPUT_DIR': [f\"{bucket}/newID_PLINK/\" for _ in range(2928)]\n",
    "})\n",
    "\n",
    "PARAMETER_FILENAME = f'{JOB_NAME}_params.tsv'\n",
    "%env PARAMETER_FILENAME={PARAMETER_FILENAME}\n",
    "\n",
    "params_df.to_csv(PARAMETER_FILENAME, sep='\\t', index=False)\n",
    "\n",
    "job_id = !source ~/aou_dsub.bash; aou_dsub \\\n",
    "  --name \"${JOB_NAME}\" \\\n",
    "  --provider google-cls-v2 \\\n",
    "  --image \"gcr.io/ritchie-aou-psom-9015/plink2:latest\" \\\n",
    "  --logging \"${WORKSPACE_BUCKET}/dsub_logs/plink/\" \\\n",
    "  --disk-size 10 \\\n",
    "  --min-ram 128 \\\n",
    "  --mount BUCKET=\"${WORKSPACE_BUCKET}\" \\\n",
    "  --tasks \"${PARAMETER_FILENAME}\" \\\n",
    "  --command 'plink2 --vcf $BUCKET/newID_VCF/exome_v8.${FILE_NUM}.new_id.split_multiallelic.pass_qc.vcf.gz \\\n",
    "              --make-pgen \\\n",
    "              --out $OUTPUT_DIR/exome_v8.${FILE_NUM}.new_id.split_multiallelic.pass_qc'\n",
    "\n",
    "print(\"\\n\".join(job_id))\n",
    "job_id = job_id[1].split(\" \")[-1]\n",
    "%env JOB_ID={job_id}"
   ]
  },
  {
   "cell_type": "code",
   "execution_count": null,
   "metadata": {},
   "outputs": [],
   "source": [
    "!dstat \\\n",
    "    --provider google-cls-v2 \\\n",
    "    --project \"$GOOGLE_PROJECT\" \\\n",
    "    --location us-central1 \\\n",
    "    --jobs \"plink-kath--kathleen-cardone--250318-191511-35\" \\\n",
    "    --users \"kathleen-cardone\" \\\n",
    "    --status 'FAILURE' | wc -l"
   ]
  },
  {
   "cell_type": "code",
   "execution_count": null,
   "metadata": {},
   "outputs": [],
   "source": [
    "!dstat \\\n",
    "    --provider google-cls-v2 \\\n",
    "    --project \"$GOOGLE_PROJECT\" \\\n",
    "    --location us-central1 \\\n",
    "    --jobs \"plink-kath--kathleen-cardone--250318-191511-35\" \\\n",
    "    --users \"kathleen-cardone\" \\\n",
    "    --status 'SUCCESS' | wc -l"
   ]
  },
  {
   "cell_type": "code",
   "execution_count": null,
   "metadata": {},
   "outputs": [],
   "source": [
    "!dstat \\\n",
    "    --provider google-cls-v2 \\\n",
    "    --project \"$GOOGLE_PROJECT\" \\\n",
    "    --location us-central1 \\\n",
    "    --jobs \"plink-kath--kathleen-cardone--250318-191511-35\" \\\n",
    "    --users \"kathleen-cardone\" \\\n",
    "    --status 'RUNNING' | wc -l"
   ]
  },
  {
   "cell_type": "markdown",
   "metadata": {},
   "source": [
    "### chr 16-17"
   ]
  },
  {
   "cell_type": "code",
   "execution_count": null,
   "metadata": {},
   "outputs": [],
   "source": [
    "import os\n",
    "import pandas as pd\n",
    "bucket=os.getenv('WORKSPACE_BUCKET')\n",
    "USER_NAME = os.getenv('OWNER_EMAIL').split('@')[0].replace('.','-')\n",
    "%env USER_NAME={USER_NAME}\n",
    "JOB_NAME=f'plink-{USER_NAME}'\n",
    "%env JOB_NAME={JOB_NAME}\n",
    "\n",
    "params_df = pd.DataFrame(data={\n",
    "    '--env FILE_NUM': [f\"{i:010}\" for i in range(13904, 15681)],\n",
    "    '--output-recursive OUTPUT_DIR': [f\"{bucket}/newID_PLINK/\" for _ in range(1777)]\n",
    "})\n",
    "\n",
    "PARAMETER_FILENAME = f'{JOB_NAME}_params.tsv'\n",
    "%env PARAMETER_FILENAME={PARAMETER_FILENAME}\n",
    "\n",
    "params_df.to_csv(PARAMETER_FILENAME, sep='\\t', index=False)\n",
    "\n",
    "job_id = !source ~/aou_dsub.bash; aou_dsub \\\n",
    "  --name \"${JOB_NAME}\" \\\n",
    "  --provider google-cls-v2 \\\n",
    "  --image \"gcr.io/ritchie-aou-psom-9015/plink2:latest\" \\\n",
    "  --logging \"${WORKSPACE_BUCKET}/dsub_logs/plink/\" \\\n",
    "  --disk-size 10 \\\n",
    "  --min-ram 128 \\\n",
    "  --mount BUCKET=\"${WORKSPACE_BUCKET}\" \\\n",
    "  --tasks \"${PARAMETER_FILENAME}\" \\\n",
    "  --command 'plink2 --vcf $BUCKET/newID_VCF/exome_v8.${FILE_NUM}.new_id.split_multiallelic.pass_qc.vcf.gz \\\n",
    "              --make-pgen \\\n",
    "              --out $OUTPUT_DIR/exome_v8.${FILE_NUM}.new_id.split_multiallelic.pass_qc'\n",
    "\n",
    "print(\"\\n\".join(job_id))\n",
    "job_id = job_id[1].split(\" \")[-1]\n",
    "%env JOB_ID={job_id}"
   ]
  },
  {
   "cell_type": "code",
   "execution_count": null,
   "metadata": {},
   "outputs": [],
   "source": [
    "!dstat \\\n",
    "    --provider google-cls-v2 \\\n",
    "    --project \"$GOOGLE_PROJECT\" \\\n",
    "    --location us-central1 \\\n",
    "    --jobs \"plink-kath--kathleen-cardone--250319-125200-07\" \\\n",
    "    --users \"kathleen-cardone\" \\\n",
    "    --status 'FAILURE' | wc -l"
   ]
  },
  {
   "cell_type": "code",
   "execution_count": null,
   "metadata": {},
   "outputs": [],
   "source": [
    "!dstat \\\n",
    "    --provider google-cls-v2 \\\n",
    "    --project \"$GOOGLE_PROJECT\" \\\n",
    "    --location us-central1 \\\n",
    "    --jobs \"plink-kath--kathleen-cardone--250319-125200-07\" \\\n",
    "    --users \"kathleen-cardone\" \\\n",
    "    --status 'SUCCESS' | wc -l"
   ]
  },
  {
   "cell_type": "code",
   "execution_count": null,
   "metadata": {},
   "outputs": [],
   "source": [
    "!dstat \\\n",
    "    --provider google-cls-v2 \\\n",
    "    --project \"$GOOGLE_PROJECT\" \\\n",
    "    --location us-central1 \\\n",
    "    --jobs \"plink-kath--kathleen-cardone--250319-125200-07\" \\\n",
    "    --users \"kathleen-cardone\" \\\n",
    "    --status 'RUNNING' | wc -l"
   ]
  },
  {
   "cell_type": "markdown",
   "metadata": {},
   "source": [
    "### chr 19"
   ]
  },
  {
   "cell_type": "code",
   "execution_count": null,
   "metadata": {},
   "outputs": [],
   "source": [
    "import os\n",
    "import pandas as pd\n",
    "bucket=os.getenv('WORKSPACE_BUCKET')\n",
    "USER_NAME = os.getenv('OWNER_EMAIL').split('@')[0].replace('.','-')\n",
    "%env USER_NAME={USER_NAME}\n",
    "JOB_NAME=f'plink-{USER_NAME}'\n",
    "%env JOB_NAME={JOB_NAME}\n",
    "\n",
    "params_df = pd.DataFrame(data={\n",
    "    '--env FILE_NUM': [f\"{i:010}\" for i in range(16057, 17397)],\n",
    "    '--output-recursive OUTPUT_DIR': [f\"{bucket}/newID_PLINK/\" for _ in range(1340)]\n",
    "})\n",
    "\n",
    "PARAMETER_FILENAME = f'{JOB_NAME}_params.tsv'\n",
    "%env PARAMETER_FILENAME={PARAMETER_FILENAME}\n",
    "\n",
    "params_df.to_csv(PARAMETER_FILENAME, sep='\\t', index=False)\n",
    "\n",
    "job_id = !source ~/aou_dsub.bash; aou_dsub \\\n",
    "  --name \"${JOB_NAME}\" \\\n",
    "  --provider google-cls-v2 \\\n",
    "  --image \"gcr.io/ritchie-aou-psom-9015/plink2:latest\" \\\n",
    "  --logging \"${WORKSPACE_BUCKET}/dsub_logs/plink/\" \\\n",
    "  --disk-size 10 \\\n",
    "  --min-ram 128 \\\n",
    "  --mount BUCKET=\"${WORKSPACE_BUCKET}\" \\\n",
    "  --tasks \"${PARAMETER_FILENAME}\" \\\n",
    "  --command 'plink2 --vcf $BUCKET/newID_VCF/exome_v8.${FILE_NUM}.new_id.split_multiallelic.pass_qc.vcf.gz \\\n",
    "              --make-pgen \\\n",
    "              --out $OUTPUT_DIR/exome_v8.${FILE_NUM}.new_id.split_multiallelic.pass_qc'\n",
    "\n",
    "print(\"\\n\".join(job_id))\n",
    "job_id = job_id[1].split(\" \")[-1]\n",
    "%env JOB_ID={job_id}"
   ]
  },
  {
   "cell_type": "code",
   "execution_count": null,
   "metadata": {},
   "outputs": [],
   "source": [
    "!dstat \\\n",
    "    --provider google-cls-v2 \\\n",
    "    --project \"$GOOGLE_PROJECT\" \\\n",
    "    --location us-central1 \\\n",
    "    --jobs \"plink-kath--kathleen-cardone--250319-144112-37\" \\\n",
    "    --users \"kathleen-cardone\" \\\n",
    "    --status 'FAILURE' | wc -l"
   ]
  },
  {
   "cell_type": "code",
   "execution_count": null,
   "metadata": {},
   "outputs": [],
   "source": [
    "!dstat \\\n",
    "    --provider google-cls-v2 \\\n",
    "    --project \"$GOOGLE_PROJECT\" \\\n",
    "    --location us-central1 \\\n",
    "    --jobs \"plink-kath--kathleen-cardone--250319-144112-37\" \\\n",
    "    --users \"kathleen-cardone\" \\\n",
    "    --status 'SUCCESS' | wc -l"
   ]
  },
  {
   "cell_type": "code",
   "execution_count": null,
   "metadata": {},
   "outputs": [],
   "source": [
    "!dstat \\\n",
    "    --provider google-cls-v2 \\\n",
    "    --project \"$GOOGLE_PROJECT\" \\\n",
    "    --location us-central1 \\\n",
    "    --jobs \"plink-kath--kathleen-cardone--250319-144112-37\" \\\n",
    "    --users \"kathleen-cardone\" \\\n",
    "    --status 'RUNNING' | wc -l"
   ]
  },
  {
   "cell_type": "markdown",
   "metadata": {},
   "source": [
    "# merge chunked plink files"
   ]
  },
  {
   "cell_type": "code",
   "execution_count": null,
   "metadata": {},
   "outputs": [],
   "source": [
    "import os\n",
    "import pandas as pd\n",
    "bucket=os.getenv('WORKSPACE_BUCKET')\n",
    "USER_NAME = os.getenv('OWNER_EMAIL').split('@')[0].replace('.','-')\n",
    "%env USER_NAME={USER_NAME}\n",
    "JOB_NAME=f'plink_merge-{USER_NAME}'\n",
    "%env JOB_NAME={JOB_NAME}\n",
    "\n",
    "params_df = pd.DataFrame(data={\n",
    "    '--env CHR': [1,2,3,4,5,6,7,10,11,12,16,17,19],\n",
    "    '--output-recursive OUTPUT_DIR': [f\"{bucket}/newID_PLINK/\" for _ in range(13)]\n",
    "})\n",
    "PARAMETER_FILENAME = f'{JOB_NAME}_params.tsv'\n",
    "%env PARAMETER_FILENAME={PARAMETER_FILENAME}\n",
    "\n",
    "params_df.to_csv(PARAMETER_FILENAME, sep='\\t', index=False)\n",
    "\n",
    "job_id = !source ~/aou_dsub.bash; aou_dsub \\\n",
    "  --name \"${JOB_NAME}\" \\\n",
    "  --provider google-cls-v2 \\\n",
    "  --image \"gcr.io/ritchie-aou-psom-9015/plink2:latest\" \\\n",
    "  --logging \"${WORKSPACE_BUCKET}/dsub_logs/plink/merge/\" \\\n",
    "  --mount BUCKET=\"${WORKSPACE_BUCKET}\" \\\n",
    "  --disk-size 500 \\\n",
    "  --tasks \"${PARAMETER_FILENAME}\" \\\n",
    "  --command 'plink2 --pmerge-list $BUCKET/newID_PLINK/AOU_v8.srWGS_exome_vcf.chr${CHR}.pass_qc_only.plink_merge_list.txt \\\n",
    "              --make-pgen \\\n",
    "              --out $OUTPUT_DIR/exome_v8.chr${CHR}.new_id.split_multiallelic.pass_qc'\n",
    "\n",
    "print(\"\\n\".join(job_id))\n",
    "job_id = job_id[1].split(\" \")[-1]\n",
    "%env JOB_ID={job_id}"
   ]
  },
  {
   "cell_type": "code",
   "execution_count": 1,
   "metadata": {},
   "outputs": [
    {
     "name": "stdout",
     "output_type": "stream",
     "text": [
      "Job Name           Task  Status    Last Update\r\n",
      "---------------  ------  --------  --------------\r\n",
      "plink-merge-...      13  Success   03-20 01:21:59\r\n",
      "plink-merge-...      12  Success   03-20 00:28:40\r\n",
      "plink-merge-...      11  Success   03-19 23:51:15\r\n",
      "plink-merge-...      10  Success   03-20 00:29:56\r\n",
      "plink-merge-...       9  Success   03-20 00:39:47\r\n",
      "plink-merge-...       8  Success   03-19 23:58:35\r\n",
      "plink-merge-...       7  Success   03-20 00:16:37\r\n",
      "plink-merge-...       6  Success   03-20 00:36:36\r\n",
      "plink-merge-...       5  Success   03-20 00:09:09\r\n",
      "plink-merge-...       4  Success   03-19 23:56:03\r\n",
      "plink-merge-...       3  Success   03-20 00:36:44\r\n",
      "plink-merge-...       2  Success   03-20 01:08:51\r\n",
      "plink-merge-...       1  Success   03-20 02:48:39\r\n",
      "\r\n"
     ]
    }
   ],
   "source": [
    "!dstat \\\n",
    "    --provider google-cls-v2 \\\n",
    "    --project \"$GOOGLE_PROJECT\" \\\n",
    "    --location us-central1 \\\n",
    "    --jobs \"plink-merg--kathleen-cardone--250319-215818-28\" \\\n",
    "    --users \"kathleen-cardone\" \\\n",
    "    --status '*'"
   ]
  },
  {
   "cell_type": "code",
   "execution_count": 2,
   "metadata": {},
   "outputs": [
    {
     "name": "stdout",
     "output_type": "stream",
     "text": [
      "gs://fc-secure-5e490ca2-d5ae-40a3-aa5e-7355e31ab9cc/newID_PLINK/AOU_v8.srWGS_exome_vcf.chr1.pass_qc_only.plink_merge_list.txt\n",
      "gs://fc-secure-5e490ca2-d5ae-40a3-aa5e-7355e31ab9cc/newID_PLINK/AOU_v8.srWGS_exome_vcf.chr10.pass_qc_only.plink_merge_list.txt\n",
      "gs://fc-secure-5e490ca2-d5ae-40a3-aa5e-7355e31ab9cc/newID_PLINK/AOU_v8.srWGS_exome_vcf.chr11.pass_qc_only.plink_merge_list.txt\n",
      "gs://fc-secure-5e490ca2-d5ae-40a3-aa5e-7355e31ab9cc/newID_PLINK/AOU_v8.srWGS_exome_vcf.chr12.pass_qc_only.plink_merge_list.txt\n",
      "gs://fc-secure-5e490ca2-d5ae-40a3-aa5e-7355e31ab9cc/newID_PLINK/AOU_v8.srWGS_exome_vcf.chr16.pass_qc_only.plink_merge_list.txt\n",
      "gs://fc-secure-5e490ca2-d5ae-40a3-aa5e-7355e31ab9cc/newID_PLINK/AOU_v8.srWGS_exome_vcf.chr17.pass_qc_only.plink_merge_list.txt\n",
      "gs://fc-secure-5e490ca2-d5ae-40a3-aa5e-7355e31ab9cc/newID_PLINK/AOU_v8.srWGS_exome_vcf.chr19.pass_qc_only.plink_merge_list.txt\n",
      "gs://fc-secure-5e490ca2-d5ae-40a3-aa5e-7355e31ab9cc/newID_PLINK/AOU_v8.srWGS_exome_vcf.chr2.pass_qc_only.plink_merge_list.txt\n",
      "gs://fc-secure-5e490ca2-d5ae-40a3-aa5e-7355e31ab9cc/newID_PLINK/AOU_v8.srWGS_exome_vcf.chr3.pass_qc_only.plink_merge_list.txt\n",
      "gs://fc-secure-5e490ca2-d5ae-40a3-aa5e-7355e31ab9cc/newID_PLINK/AOU_v8.srWGS_exome_vcf.chr4.pass_qc_only.plink_merge_list.txt\n",
      "gs://fc-secure-5e490ca2-d5ae-40a3-aa5e-7355e31ab9cc/newID_PLINK/AOU_v8.srWGS_exome_vcf.chr5.pass_qc_only.plink_merge_list.txt\n",
      "gs://fc-secure-5e490ca2-d5ae-40a3-aa5e-7355e31ab9cc/newID_PLINK/AOU_v8.srWGS_exome_vcf.chr6.pass_qc_only.plink_merge_list.txt\n",
      "gs://fc-secure-5e490ca2-d5ae-40a3-aa5e-7355e31ab9cc/newID_PLINK/AOU_v8.srWGS_exome_vcf.chr7.pass_qc_only.plink_merge_list.txt\n",
      "gs://fc-secure-5e490ca2-d5ae-40a3-aa5e-7355e31ab9cc/newID_PLINK/exome_v8.chr1.new_id.split_multiallelic.pass_qc-merge.pgen\n",
      "gs://fc-secure-5e490ca2-d5ae-40a3-aa5e-7355e31ab9cc/newID_PLINK/exome_v8.chr1.new_id.split_multiallelic.pass_qc-merge.psam\n",
      "gs://fc-secure-5e490ca2-d5ae-40a3-aa5e-7355e31ab9cc/newID_PLINK/exome_v8.chr1.new_id.split_multiallelic.pass_qc-merge.pvar\n",
      "gs://fc-secure-5e490ca2-d5ae-40a3-aa5e-7355e31ab9cc/newID_PLINK/exome_v8.chr1.new_id.split_multiallelic.pass_qc.log\n",
      "gs://fc-secure-5e490ca2-d5ae-40a3-aa5e-7355e31ab9cc/newID_PLINK/exome_v8.chr1.new_id.split_multiallelic.pass_qc.pgen\n",
      "gs://fc-secure-5e490ca2-d5ae-40a3-aa5e-7355e31ab9cc/newID_PLINK/exome_v8.chr1.new_id.split_multiallelic.pass_qc.psam\n",
      "gs://fc-secure-5e490ca2-d5ae-40a3-aa5e-7355e31ab9cc/newID_PLINK/exome_v8.chr1.new_id.split_multiallelic.pass_qc.pvar\n",
      "gs://fc-secure-5e490ca2-d5ae-40a3-aa5e-7355e31ab9cc/newID_PLINK/exome_v8.chr10.new_id.split_multiallelic.pass_qc-merge.pgen\n",
      "gs://fc-secure-5e490ca2-d5ae-40a3-aa5e-7355e31ab9cc/newID_PLINK/exome_v8.chr10.new_id.split_multiallelic.pass_qc-merge.psam\n",
      "gs://fc-secure-5e490ca2-d5ae-40a3-aa5e-7355e31ab9cc/newID_PLINK/exome_v8.chr10.new_id.split_multiallelic.pass_qc-merge.pvar\n",
      "gs://fc-secure-5e490ca2-d5ae-40a3-aa5e-7355e31ab9cc/newID_PLINK/exome_v8.chr10.new_id.split_multiallelic.pass_qc.log\n",
      "gs://fc-secure-5e490ca2-d5ae-40a3-aa5e-7355e31ab9cc/newID_PLINK/exome_v8.chr10.new_id.split_multiallelic.pass_qc.pgen\n",
      "gs://fc-secure-5e490ca2-d5ae-40a3-aa5e-7355e31ab9cc/newID_PLINK/exome_v8.chr10.new_id.split_multiallelic.pass_qc.psam\n",
      "gs://fc-secure-5e490ca2-d5ae-40a3-aa5e-7355e31ab9cc/newID_PLINK/exome_v8.chr10.new_id.split_multiallelic.pass_qc.pvar\n",
      "gs://fc-secure-5e490ca2-d5ae-40a3-aa5e-7355e31ab9cc/newID_PLINK/exome_v8.chr11.new_id.split_multiallelic.pass_qc-merge.pgen\n",
      "gs://fc-secure-5e490ca2-d5ae-40a3-aa5e-7355e31ab9cc/newID_PLINK/exome_v8.chr11.new_id.split_multiallelic.pass_qc-merge.psam\n",
      "gs://fc-secure-5e490ca2-d5ae-40a3-aa5e-7355e31ab9cc/newID_PLINK/exome_v8.chr11.new_id.split_multiallelic.pass_qc-merge.pvar\n",
      "gs://fc-secure-5e490ca2-d5ae-40a3-aa5e-7355e31ab9cc/newID_PLINK/exome_v8.chr11.new_id.split_multiallelic.pass_qc.log\n",
      "gs://fc-secure-5e490ca2-d5ae-40a3-aa5e-7355e31ab9cc/newID_PLINK/exome_v8.chr11.new_id.split_multiallelic.pass_qc.pgen\n",
      "gs://fc-secure-5e490ca2-d5ae-40a3-aa5e-7355e31ab9cc/newID_PLINK/exome_v8.chr11.new_id.split_multiallelic.pass_qc.psam\n",
      "gs://fc-secure-5e490ca2-d5ae-40a3-aa5e-7355e31ab9cc/newID_PLINK/exome_v8.chr11.new_id.split_multiallelic.pass_qc.pvar\n",
      "gs://fc-secure-5e490ca2-d5ae-40a3-aa5e-7355e31ab9cc/newID_PLINK/exome_v8.chr12.new_id.split_multiallelic.pass_qc-merge.pgen\n",
      "gs://fc-secure-5e490ca2-d5ae-40a3-aa5e-7355e31ab9cc/newID_PLINK/exome_v8.chr12.new_id.split_multiallelic.pass_qc-merge.psam\n",
      "gs://fc-secure-5e490ca2-d5ae-40a3-aa5e-7355e31ab9cc/newID_PLINK/exome_v8.chr12.new_id.split_multiallelic.pass_qc-merge.pvar\n",
      "gs://fc-secure-5e490ca2-d5ae-40a3-aa5e-7355e31ab9cc/newID_PLINK/exome_v8.chr12.new_id.split_multiallelic.pass_qc.log\n",
      "gs://fc-secure-5e490ca2-d5ae-40a3-aa5e-7355e31ab9cc/newID_PLINK/exome_v8.chr12.new_id.split_multiallelic.pass_qc.pgen\n",
      "gs://fc-secure-5e490ca2-d5ae-40a3-aa5e-7355e31ab9cc/newID_PLINK/exome_v8.chr12.new_id.split_multiallelic.pass_qc.psam\n",
      "gs://fc-secure-5e490ca2-d5ae-40a3-aa5e-7355e31ab9cc/newID_PLINK/exome_v8.chr12.new_id.split_multiallelic.pass_qc.pvar\n",
      "gs://fc-secure-5e490ca2-d5ae-40a3-aa5e-7355e31ab9cc/newID_PLINK/exome_v8.chr13.new_id.split_multiallelic.pass_qc.log\n",
      "gs://fc-secure-5e490ca2-d5ae-40a3-aa5e-7355e31ab9cc/newID_PLINK/exome_v8.chr13.new_id.split_multiallelic.pass_qc.pgen\n",
      "gs://fc-secure-5e490ca2-d5ae-40a3-aa5e-7355e31ab9cc/newID_PLINK/exome_v8.chr13.new_id.split_multiallelic.pass_qc.psam\n",
      "gs://fc-secure-5e490ca2-d5ae-40a3-aa5e-7355e31ab9cc/newID_PLINK/exome_v8.chr13.new_id.split_multiallelic.pass_qc.pvar\n",
      "gs://fc-secure-5e490ca2-d5ae-40a3-aa5e-7355e31ab9cc/newID_PLINK/exome_v8.chr14.new_id.split_multiallelic.pass_qc.log\n",
      "gs://fc-secure-5e490ca2-d5ae-40a3-aa5e-7355e31ab9cc/newID_PLINK/exome_v8.chr14.new_id.split_multiallelic.pass_qc.pgen\n",
      "gs://fc-secure-5e490ca2-d5ae-40a3-aa5e-7355e31ab9cc/newID_PLINK/exome_v8.chr14.new_id.split_multiallelic.pass_qc.psam\n",
      "gs://fc-secure-5e490ca2-d5ae-40a3-aa5e-7355e31ab9cc/newID_PLINK/exome_v8.chr14.new_id.split_multiallelic.pass_qc.pvar\n",
      "gs://fc-secure-5e490ca2-d5ae-40a3-aa5e-7355e31ab9cc/newID_PLINK/exome_v8.chr15.new_id.split_multiallelic.pass_qc.log\n",
      "gs://fc-secure-5e490ca2-d5ae-40a3-aa5e-7355e31ab9cc/newID_PLINK/exome_v8.chr15.new_id.split_multiallelic.pass_qc.pgen\n",
      "gs://fc-secure-5e490ca2-d5ae-40a3-aa5e-7355e31ab9cc/newID_PLINK/exome_v8.chr15.new_id.split_multiallelic.pass_qc.psam\n",
      "gs://fc-secure-5e490ca2-d5ae-40a3-aa5e-7355e31ab9cc/newID_PLINK/exome_v8.chr15.new_id.split_multiallelic.pass_qc.pvar\n",
      "gs://fc-secure-5e490ca2-d5ae-40a3-aa5e-7355e31ab9cc/newID_PLINK/exome_v8.chr16.new_id.split_multiallelic.pass_qc-merge.pgen\n",
      "gs://fc-secure-5e490ca2-d5ae-40a3-aa5e-7355e31ab9cc/newID_PLINK/exome_v8.chr16.new_id.split_multiallelic.pass_qc-merge.psam\n",
      "gs://fc-secure-5e490ca2-d5ae-40a3-aa5e-7355e31ab9cc/newID_PLINK/exome_v8.chr16.new_id.split_multiallelic.pass_qc-merge.pvar\n",
      "gs://fc-secure-5e490ca2-d5ae-40a3-aa5e-7355e31ab9cc/newID_PLINK/exome_v8.chr16.new_id.split_multiallelic.pass_qc.log\n",
      "gs://fc-secure-5e490ca2-d5ae-40a3-aa5e-7355e31ab9cc/newID_PLINK/exome_v8.chr16.new_id.split_multiallelic.pass_qc.pgen\n",
      "gs://fc-secure-5e490ca2-d5ae-40a3-aa5e-7355e31ab9cc/newID_PLINK/exome_v8.chr16.new_id.split_multiallelic.pass_qc.psam\n",
      "gs://fc-secure-5e490ca2-d5ae-40a3-aa5e-7355e31ab9cc/newID_PLINK/exome_v8.chr16.new_id.split_multiallelic.pass_qc.pvar\n",
      "gs://fc-secure-5e490ca2-d5ae-40a3-aa5e-7355e31ab9cc/newID_PLINK/exome_v8.chr17.new_id.split_multiallelic.pass_qc-merge.pgen\n",
      "gs://fc-secure-5e490ca2-d5ae-40a3-aa5e-7355e31ab9cc/newID_PLINK/exome_v8.chr17.new_id.split_multiallelic.pass_qc-merge.psam\n",
      "gs://fc-secure-5e490ca2-d5ae-40a3-aa5e-7355e31ab9cc/newID_PLINK/exome_v8.chr17.new_id.split_multiallelic.pass_qc-merge.pvar\n",
      "gs://fc-secure-5e490ca2-d5ae-40a3-aa5e-7355e31ab9cc/newID_PLINK/exome_v8.chr17.new_id.split_multiallelic.pass_qc.log\n",
      "gs://fc-secure-5e490ca2-d5ae-40a3-aa5e-7355e31ab9cc/newID_PLINK/exome_v8.chr17.new_id.split_multiallelic.pass_qc.pgen\n",
      "gs://fc-secure-5e490ca2-d5ae-40a3-aa5e-7355e31ab9cc/newID_PLINK/exome_v8.chr17.new_id.split_multiallelic.pass_qc.psam\n",
      "gs://fc-secure-5e490ca2-d5ae-40a3-aa5e-7355e31ab9cc/newID_PLINK/exome_v8.chr17.new_id.split_multiallelic.pass_qc.pvar\n",
      "gs://fc-secure-5e490ca2-d5ae-40a3-aa5e-7355e31ab9cc/newID_PLINK/exome_v8.chr18.new_id.split_multiallelic.pass_qc.log\n",
      "gs://fc-secure-5e490ca2-d5ae-40a3-aa5e-7355e31ab9cc/newID_PLINK/exome_v8.chr18.new_id.split_multiallelic.pass_qc.pgen\n",
      "gs://fc-secure-5e490ca2-d5ae-40a3-aa5e-7355e31ab9cc/newID_PLINK/exome_v8.chr18.new_id.split_multiallelic.pass_qc.psam\n",
      "gs://fc-secure-5e490ca2-d5ae-40a3-aa5e-7355e31ab9cc/newID_PLINK/exome_v8.chr18.new_id.split_multiallelic.pass_qc.pvar\n",
      "gs://fc-secure-5e490ca2-d5ae-40a3-aa5e-7355e31ab9cc/newID_PLINK/exome_v8.chr19.new_id.split_multiallelic.pass_qc-merge.pgen\n",
      "gs://fc-secure-5e490ca2-d5ae-40a3-aa5e-7355e31ab9cc/newID_PLINK/exome_v8.chr19.new_id.split_multiallelic.pass_qc-merge.psam\n",
      "gs://fc-secure-5e490ca2-d5ae-40a3-aa5e-7355e31ab9cc/newID_PLINK/exome_v8.chr19.new_id.split_multiallelic.pass_qc-merge.pvar\n",
      "gs://fc-secure-5e490ca2-d5ae-40a3-aa5e-7355e31ab9cc/newID_PLINK/exome_v8.chr19.new_id.split_multiallelic.pass_qc.log\n",
      "gs://fc-secure-5e490ca2-d5ae-40a3-aa5e-7355e31ab9cc/newID_PLINK/exome_v8.chr19.new_id.split_multiallelic.pass_qc.pgen\n",
      "gs://fc-secure-5e490ca2-d5ae-40a3-aa5e-7355e31ab9cc/newID_PLINK/exome_v8.chr19.new_id.split_multiallelic.pass_qc.psam\n",
      "gs://fc-secure-5e490ca2-d5ae-40a3-aa5e-7355e31ab9cc/newID_PLINK/exome_v8.chr19.new_id.split_multiallelic.pass_qc.pvar\n",
      "gs://fc-secure-5e490ca2-d5ae-40a3-aa5e-7355e31ab9cc/newID_PLINK/exome_v8.chr2.new_id.split_multiallelic.pass_qc-merge.pgen\n",
      "gs://fc-secure-5e490ca2-d5ae-40a3-aa5e-7355e31ab9cc/newID_PLINK/exome_v8.chr2.new_id.split_multiallelic.pass_qc-merge.psam\n",
      "gs://fc-secure-5e490ca2-d5ae-40a3-aa5e-7355e31ab9cc/newID_PLINK/exome_v8.chr2.new_id.split_multiallelic.pass_qc-merge.pvar\n",
      "gs://fc-secure-5e490ca2-d5ae-40a3-aa5e-7355e31ab9cc/newID_PLINK/exome_v8.chr2.new_id.split_multiallelic.pass_qc.log\n",
      "gs://fc-secure-5e490ca2-d5ae-40a3-aa5e-7355e31ab9cc/newID_PLINK/exome_v8.chr2.new_id.split_multiallelic.pass_qc.pgen\n",
      "gs://fc-secure-5e490ca2-d5ae-40a3-aa5e-7355e31ab9cc/newID_PLINK/exome_v8.chr2.new_id.split_multiallelic.pass_qc.psam\n",
      "gs://fc-secure-5e490ca2-d5ae-40a3-aa5e-7355e31ab9cc/newID_PLINK/exome_v8.chr2.new_id.split_multiallelic.pass_qc.pvar\n",
      "gs://fc-secure-5e490ca2-d5ae-40a3-aa5e-7355e31ab9cc/newID_PLINK/exome_v8.chr20.new_id.split_multiallelic.pass_qc.log\n",
      "gs://fc-secure-5e490ca2-d5ae-40a3-aa5e-7355e31ab9cc/newID_PLINK/exome_v8.chr20.new_id.split_multiallelic.pass_qc.pgen\n",
      "gs://fc-secure-5e490ca2-d5ae-40a3-aa5e-7355e31ab9cc/newID_PLINK/exome_v8.chr20.new_id.split_multiallelic.pass_qc.psam\n",
      "gs://fc-secure-5e490ca2-d5ae-40a3-aa5e-7355e31ab9cc/newID_PLINK/exome_v8.chr20.new_id.split_multiallelic.pass_qc.pvar\n",
      "gs://fc-secure-5e490ca2-d5ae-40a3-aa5e-7355e31ab9cc/newID_PLINK/exome_v8.chr21.new_id.split_multiallelic.pass_qc.log\n",
      "gs://fc-secure-5e490ca2-d5ae-40a3-aa5e-7355e31ab9cc/newID_PLINK/exome_v8.chr21.new_id.split_multiallelic.pass_qc.pgen\n",
      "gs://fc-secure-5e490ca2-d5ae-40a3-aa5e-7355e31ab9cc/newID_PLINK/exome_v8.chr21.new_id.split_multiallelic.pass_qc.psam\n",
      "gs://fc-secure-5e490ca2-d5ae-40a3-aa5e-7355e31ab9cc/newID_PLINK/exome_v8.chr21.new_id.split_multiallelic.pass_qc.pvar\n",
      "gs://fc-secure-5e490ca2-d5ae-40a3-aa5e-7355e31ab9cc/newID_PLINK/exome_v8.chr22.new_id.split_multiallelic.pass_qc.log\n",
      "gs://fc-secure-5e490ca2-d5ae-40a3-aa5e-7355e31ab9cc/newID_PLINK/exome_v8.chr22.new_id.split_multiallelic.pass_qc.pgen\n",
      "gs://fc-secure-5e490ca2-d5ae-40a3-aa5e-7355e31ab9cc/newID_PLINK/exome_v8.chr22.new_id.split_multiallelic.pass_qc.psam\n",
      "gs://fc-secure-5e490ca2-d5ae-40a3-aa5e-7355e31ab9cc/newID_PLINK/exome_v8.chr22.new_id.split_multiallelic.pass_qc.pvar\n",
      "gs://fc-secure-5e490ca2-d5ae-40a3-aa5e-7355e31ab9cc/newID_PLINK/exome_v8.chr3.new_id.split_multiallelic.pass_qc-merge.pgen\n",
      "gs://fc-secure-5e490ca2-d5ae-40a3-aa5e-7355e31ab9cc/newID_PLINK/exome_v8.chr3.new_id.split_multiallelic.pass_qc-merge.psam\n",
      "gs://fc-secure-5e490ca2-d5ae-40a3-aa5e-7355e31ab9cc/newID_PLINK/exome_v8.chr3.new_id.split_multiallelic.pass_qc-merge.pvar\n",
      "gs://fc-secure-5e490ca2-d5ae-40a3-aa5e-7355e31ab9cc/newID_PLINK/exome_v8.chr3.new_id.split_multiallelic.pass_qc.log\n",
      "gs://fc-secure-5e490ca2-d5ae-40a3-aa5e-7355e31ab9cc/newID_PLINK/exome_v8.chr3.new_id.split_multiallelic.pass_qc.pgen\n",
      "gs://fc-secure-5e490ca2-d5ae-40a3-aa5e-7355e31ab9cc/newID_PLINK/exome_v8.chr3.new_id.split_multiallelic.pass_qc.psam\n",
      "gs://fc-secure-5e490ca2-d5ae-40a3-aa5e-7355e31ab9cc/newID_PLINK/exome_v8.chr3.new_id.split_multiallelic.pass_qc.pvar\n",
      "gs://fc-secure-5e490ca2-d5ae-40a3-aa5e-7355e31ab9cc/newID_PLINK/exome_v8.chr4.new_id.split_multiallelic.pass_qc-merge.pgen\n",
      "gs://fc-secure-5e490ca2-d5ae-40a3-aa5e-7355e31ab9cc/newID_PLINK/exome_v8.chr4.new_id.split_multiallelic.pass_qc-merge.psam\n",
      "gs://fc-secure-5e490ca2-d5ae-40a3-aa5e-7355e31ab9cc/newID_PLINK/exome_v8.chr4.new_id.split_multiallelic.pass_qc-merge.pvar\n",
      "gs://fc-secure-5e490ca2-d5ae-40a3-aa5e-7355e31ab9cc/newID_PLINK/exome_v8.chr4.new_id.split_multiallelic.pass_qc.log\n",
      "gs://fc-secure-5e490ca2-d5ae-40a3-aa5e-7355e31ab9cc/newID_PLINK/exome_v8.chr4.new_id.split_multiallelic.pass_qc.pgen\n",
      "gs://fc-secure-5e490ca2-d5ae-40a3-aa5e-7355e31ab9cc/newID_PLINK/exome_v8.chr4.new_id.split_multiallelic.pass_qc.psam\n",
      "gs://fc-secure-5e490ca2-d5ae-40a3-aa5e-7355e31ab9cc/newID_PLINK/exome_v8.chr4.new_id.split_multiallelic.pass_qc.pvar\n",
      "gs://fc-secure-5e490ca2-d5ae-40a3-aa5e-7355e31ab9cc/newID_PLINK/exome_v8.chr5.new_id.split_multiallelic.pass_qc-merge.pgen\n",
      "gs://fc-secure-5e490ca2-d5ae-40a3-aa5e-7355e31ab9cc/newID_PLINK/exome_v8.chr5.new_id.split_multiallelic.pass_qc-merge.psam\n",
      "gs://fc-secure-5e490ca2-d5ae-40a3-aa5e-7355e31ab9cc/newID_PLINK/exome_v8.chr5.new_id.split_multiallelic.pass_qc-merge.pvar\n",
      "gs://fc-secure-5e490ca2-d5ae-40a3-aa5e-7355e31ab9cc/newID_PLINK/exome_v8.chr5.new_id.split_multiallelic.pass_qc.log\n",
      "gs://fc-secure-5e490ca2-d5ae-40a3-aa5e-7355e31ab9cc/newID_PLINK/exome_v8.chr5.new_id.split_multiallelic.pass_qc.pgen\n",
      "gs://fc-secure-5e490ca2-d5ae-40a3-aa5e-7355e31ab9cc/newID_PLINK/exome_v8.chr5.new_id.split_multiallelic.pass_qc.psam\n",
      "gs://fc-secure-5e490ca2-d5ae-40a3-aa5e-7355e31ab9cc/newID_PLINK/exome_v8.chr5.new_id.split_multiallelic.pass_qc.pvar\n",
      "gs://fc-secure-5e490ca2-d5ae-40a3-aa5e-7355e31ab9cc/newID_PLINK/exome_v8.chr6.new_id.split_multiallelic.pass_qc-merge.pgen\n",
      "gs://fc-secure-5e490ca2-d5ae-40a3-aa5e-7355e31ab9cc/newID_PLINK/exome_v8.chr6.new_id.split_multiallelic.pass_qc-merge.psam\n",
      "gs://fc-secure-5e490ca2-d5ae-40a3-aa5e-7355e31ab9cc/newID_PLINK/exome_v8.chr6.new_id.split_multiallelic.pass_qc-merge.pvar\n",
      "gs://fc-secure-5e490ca2-d5ae-40a3-aa5e-7355e31ab9cc/newID_PLINK/exome_v8.chr6.new_id.split_multiallelic.pass_qc.log\n",
      "gs://fc-secure-5e490ca2-d5ae-40a3-aa5e-7355e31ab9cc/newID_PLINK/exome_v8.chr6.new_id.split_multiallelic.pass_qc.pgen\n",
      "gs://fc-secure-5e490ca2-d5ae-40a3-aa5e-7355e31ab9cc/newID_PLINK/exome_v8.chr6.new_id.split_multiallelic.pass_qc.psam\n",
      "gs://fc-secure-5e490ca2-d5ae-40a3-aa5e-7355e31ab9cc/newID_PLINK/exome_v8.chr6.new_id.split_multiallelic.pass_qc.pvar\n",
      "gs://fc-secure-5e490ca2-d5ae-40a3-aa5e-7355e31ab9cc/newID_PLINK/exome_v8.chr7.new_id.split_multiallelic.pass_qc-merge.pgen\n",
      "gs://fc-secure-5e490ca2-d5ae-40a3-aa5e-7355e31ab9cc/newID_PLINK/exome_v8.chr7.new_id.split_multiallelic.pass_qc-merge.psam\n",
      "gs://fc-secure-5e490ca2-d5ae-40a3-aa5e-7355e31ab9cc/newID_PLINK/exome_v8.chr7.new_id.split_multiallelic.pass_qc-merge.pvar\n",
      "gs://fc-secure-5e490ca2-d5ae-40a3-aa5e-7355e31ab9cc/newID_PLINK/exome_v8.chr7.new_id.split_multiallelic.pass_qc.log\n",
      "gs://fc-secure-5e490ca2-d5ae-40a3-aa5e-7355e31ab9cc/newID_PLINK/exome_v8.chr7.new_id.split_multiallelic.pass_qc.pgen\n",
      "gs://fc-secure-5e490ca2-d5ae-40a3-aa5e-7355e31ab9cc/newID_PLINK/exome_v8.chr7.new_id.split_multiallelic.pass_qc.psam\n",
      "gs://fc-secure-5e490ca2-d5ae-40a3-aa5e-7355e31ab9cc/newID_PLINK/exome_v8.chr7.new_id.split_multiallelic.pass_qc.pvar\n",
      "gs://fc-secure-5e490ca2-d5ae-40a3-aa5e-7355e31ab9cc/newID_PLINK/exome_v8.chr8.new_id.split_multiallelic.pass_qc.log\n",
      "gs://fc-secure-5e490ca2-d5ae-40a3-aa5e-7355e31ab9cc/newID_PLINK/exome_v8.chr8.new_id.split_multiallelic.pass_qc.pgen\n",
      "gs://fc-secure-5e490ca2-d5ae-40a3-aa5e-7355e31ab9cc/newID_PLINK/exome_v8.chr8.new_id.split_multiallelic.pass_qc.psam\n",
      "gs://fc-secure-5e490ca2-d5ae-40a3-aa5e-7355e31ab9cc/newID_PLINK/exome_v8.chr8.new_id.split_multiallelic.pass_qc.pvar\n",
      "gs://fc-secure-5e490ca2-d5ae-40a3-aa5e-7355e31ab9cc/newID_PLINK/exome_v8.chr9.new_id.split_multiallelic.pass_qc.log\n",
      "gs://fc-secure-5e490ca2-d5ae-40a3-aa5e-7355e31ab9cc/newID_PLINK/exome_v8.chr9.new_id.split_multiallelic.pass_qc.pgen\n",
      "gs://fc-secure-5e490ca2-d5ae-40a3-aa5e-7355e31ab9cc/newID_PLINK/exome_v8.chr9.new_id.split_multiallelic.pass_qc.psam\n",
      "gs://fc-secure-5e490ca2-d5ae-40a3-aa5e-7355e31ab9cc/newID_PLINK/exome_v8.chr9.new_id.split_multiallelic.pass_qc.pvar\n"
     ]
    }
   ],
   "source": [
    "!gsutil ls ${WORKSPACE_BUCKET}/newID_PLINK/*chr*"
   ]
  },
  {
   "cell_type": "code",
   "execution_count": null,
   "metadata": {},
   "outputs": [],
   "source": []
  }
 ],
 "metadata": {
  "kernelspec": {
   "display_name": "Python 3",
   "language": "python",
   "name": "python3"
  },
  "language_info": {
   "codemirror_mode": {
    "name": "ipython",
    "version": 3
   },
   "file_extension": ".py",
   "mimetype": "text/x-python",
   "name": "python",
   "nbconvert_exporter": "python",
   "pygments_lexer": "ipython3",
   "version": "3.10.16"
  },
  "toc": {
   "base_numbering": 1,
   "nav_menu": {},
   "number_sections": true,
   "sideBar": true,
   "skip_h1_title": false,
   "title_cell": "Table of Contents",
   "title_sidebar": "Contents",
   "toc_cell": false,
   "toc_position": {},
   "toc_section_display": true,
   "toc_window_display": false
  }
 },
 "nbformat": 4,
 "nbformat_minor": 2
}
